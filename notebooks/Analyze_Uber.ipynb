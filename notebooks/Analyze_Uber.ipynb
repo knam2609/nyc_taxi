{
 "cells": [
  {
   "cell_type": "code",
   "execution_count": 1,
   "source": [
    "# Adjust Python path within the notebook\n",
    "import sys\n",
    "project_root = '/Users/thangnguyen/Documents/GitHub/project-1-individual-knam2609'\n",
    "if project_root not in sys.path:\n",
    "    sys.path.insert(0, project_root)\n",
    "\n",
    "import scripts"
   ],
   "outputs": [],
   "metadata": {}
  },
  {
   "cell_type": "code",
   "execution_count": 2,
   "source": [
    "import matplotlib.pyplot as plt\n",
    "import seaborn as sb\n",
    "import pandas\n",
    "import os"
   ],
   "outputs": [],
   "metadata": {}
  },
  {
   "cell_type": "code",
   "execution_count": 3,
   "source": [
    "# Create SparkSession\n",
    "spark = scripts.clean_base.create_spark_session()"
   ],
   "outputs": [
    {
     "output_type": "stream",
     "name": "stderr",
     "text": [
      "24/08/27 17:20:01 WARN Utils: Your hostname, THANGs-MacBook-Air.local resolves to a loopback address: 127.0.0.1; using 100.86.89.69 instead (on interface en0)\n",
      "24/08/27 17:20:01 WARN Utils: Set SPARK_LOCAL_IP if you need to bind to another address\n",
      "Setting default log level to \"WARN\".\n",
      "To adjust logging level use sc.setLogLevel(newLevel). For SparkR, use setLogLevel(newLevel).\n",
      "24/08/27 17:20:01 WARN NativeCodeLoader: Unable to load native-hadoop library for your platform... using builtin-java classes where applicable\n",
      "24/08/27 17:20:01 WARN Utils: Service 'SparkUI' could not bind on port 4040. Attempting port 4041.\n"
     ]
    }
   ],
   "metadata": {}
  },
  {
   "cell_type": "code",
   "execution_count": 4,
   "source": [
    "# Create directories for plots\n",
    "scripts.download.make_directories([\"../plots/\"], [\"uber\"])"
   ],
   "outputs": [],
   "metadata": {}
  },
  {
   "cell_type": "code",
   "execution_count": 5,
   "source": [
    "# Create directories for plots\n",
    "scripts.download.make_directories([\"../plots/uber/\"], [\"correlation\", \"histogram\", \"daily\", \"hourly\"])"
   ],
   "outputs": [],
   "metadata": {}
  },
  {
   "cell_type": "code",
   "execution_count": 6,
   "source": [
    "uber_files = scripts.clean_base.list_parquet_directories(\"../data/raw/uber/\")\n",
    "uber_dfs = [spark.read.parquet(file) for file in uber_files]"
   ],
   "outputs": [],
   "metadata": {}
  },
  {
   "cell_type": "code",
   "execution_count": 7,
   "source": [
    "uber_files"
   ],
   "outputs": [
    {
     "output_type": "execute_result",
     "data": {
      "text/plain": [
       "['../data/raw/uber/2023-08.parquet',\n",
       " '../data/raw/uber/2023-11.parquet',\n",
       " '../data/raw/uber/2023-10.parquet',\n",
       " '../data/raw/uber/2023-09.parquet',\n",
       " '../data/raw/uber/2023-06.parquet',\n",
       " '../data/raw/uber/2023-07.parquet']"
      ]
     },
     "metadata": {},
     "execution_count": 7
    }
   ],
   "metadata": {}
  },
  {
   "cell_type": "code",
   "execution_count": 8,
   "source": [
    "# Extract the schema from the existing DataFrame\n",
    "schema = uber_dfs[0].schema\n",
    "\n",
    "# Create an empty DataFrame using the extracted schema\n",
    "unioned_df = spark.createDataFrame([], schema)\n",
    "\n",
    "unioned_df # merge sub-sample of each datasets"
   ],
   "outputs": [
    {
     "output_type": "execute_result",
     "data": {
      "text/plain": [
       "+--------------------+----------------+-----------------+---------------+----------------+------------+------------+-------------+---------+-------------------+-----+---+---------+--------------------+-----------+----+----------+------------+------------+--------------+\n",
       "|dispatching_base_num|request_datetime|on_scene_datetime|pickup_datetime|dropoff_datetime|PULocationID|DOLocationID|trip_distance|trip_time|base_passenger_fare|tolls|bcf|sales_tax|congestion_surcharge|airport_fee|tips|driver_pay|total_amount|waiting_time|fare_per_miles|\n",
       "+--------------------+----------------+-----------------+---------------+----------------+------------+------------+-------------+---------+-------------------+-----+---+---------+--------------------+-----------+----+----------+------------+------------+--------------+\n",
       "+--------------------+----------------+-----------------+---------------+----------------+------------+------------+-------------+---------+-------------------+-----+---+---------+--------------------+-----------+----+----------+------------+------------+--------------+"
      ],
      "text/html": [
       "<table border='1'>\n",
       "<tr><th>dispatching_base_num</th><th>request_datetime</th><th>on_scene_datetime</th><th>pickup_datetime</th><th>dropoff_datetime</th><th>PULocationID</th><th>DOLocationID</th><th>trip_distance</th><th>trip_time</th><th>base_passenger_fare</th><th>tolls</th><th>bcf</th><th>sales_tax</th><th>congestion_surcharge</th><th>airport_fee</th><th>tips</th><th>driver_pay</th><th>total_amount</th><th>waiting_time</th><th>fare_per_miles</th></tr>\n",
       "</table>\n"
      ]
     },
     "metadata": {},
     "execution_count": 8
    }
   ],
   "metadata": {}
  },
  {
   "cell_type": "code",
   "execution_count": 9,
   "source": [
    "# Plotting correlation heatmap of every datasets\n",
    "for df in uber_dfs:\n",
    "    file_path = uber_files[uber_dfs.index(df)]\n",
    "    # Extract the base name of the file\n",
    "    file_name = os.path.basename(file_path)\n",
    "    # Remove the file extension to get only the date part\n",
    "    date_part = os.path.splitext(file_name)[0]\n",
    "    print(date_part)\n",
    "    scripts.manipulate_data.find_min_max_df(df, scripts.clean_high_volume.COLUMNS)\n",
    "    df.count()\n",
    "    df = scripts.clean_base.sampling_data(df, \"dispatching_base_num\", 0.05)\n",
    "    df.count()\n",
    "    unioned_df = unioned_df.union(df)\n",
    "    scripts.plot_data.plot_correlation_heatmap(df, scripts.clean_high_volume.COLUMNS, \"uber\", \"../plots/uber/correlation/\", date_part)"
   ],
   "outputs": [
    {
     "output_type": "stream",
     "name": "stdout",
     "text": [
      "2023-08\n"
     ]
    },
    {
     "output_type": "stream",
     "name": "stderr",
     "text": []
    },
    {
     "output_type": "stream",
     "name": "stdout",
     "text": [
      "../plots/uber/correlation/2023-08.png\n",
      "2023-11\n"
     ]
    },
    {
     "output_type": "stream",
     "name": "stderr",
     "text": []
    },
    {
     "output_type": "stream",
     "name": "stdout",
     "text": [
      "../plots/uber/correlation/2023-11.png\n",
      "2023-10\n"
     ]
    },
    {
     "output_type": "stream",
     "name": "stderr",
     "text": [
      "24/08/27 17:20:20 WARN GarbageCollectionMetrics: To enable non-built-in garbage collector(s) List(G1 Concurrent GC), users should configure it(them) to spark.eventLog.gcMetrics.youngGenerationGarbageCollectors or spark.eventLog.gcMetrics.oldGenerationGarbageCollectors\n"
     ]
    },
    {
     "output_type": "stream",
     "name": "stdout",
     "text": [
      "../plots/uber/correlation/2023-10.png\n",
      "2023-09\n"
     ]
    },
    {
     "output_type": "stream",
     "name": "stderr",
     "text": []
    },
    {
     "output_type": "stream",
     "name": "stdout",
     "text": [
      "../plots/uber/correlation/2023-09.png\n",
      "2023-06\n"
     ]
    },
    {
     "output_type": "stream",
     "name": "stderr",
     "text": []
    },
    {
     "output_type": "stream",
     "name": "stdout",
     "text": [
      "../plots/uber/correlation/2023-06.png\n",
      "2023-07\n"
     ]
    },
    {
     "output_type": "stream",
     "name": "stderr",
     "text": []
    },
    {
     "output_type": "stream",
     "name": "stdout",
     "text": [
      "../plots/uber/correlation/2023-07.png\n"
     ]
    }
   ],
   "metadata": {}
  },
  {
   "cell_type": "code",
   "execution_count": 10,
   "source": [
    "unioned_df.count()\n"
   ],
   "outputs": [
    {
     "output_type": "stream",
     "name": "stderr",
     "text": []
    },
    {
     "output_type": "execute_result",
     "data": {
      "text/plain": [
       "4067358"
      ]
     },
     "metadata": {},
     "execution_count": 10
    }
   ],
   "metadata": {}
  },
  {
   "cell_type": "code",
   "execution_count": 11,
   "source": [
    "# Plotting distribution of continous columns\n",
    "for col in scripts.clean_high_volume.COLUMNS:\n",
    "    scripts.plot_data.plot_histogram(unioned_df, col, \"uber\", \"../plots/uber/histogram/\", 50)"
   ],
   "outputs": [
    {
     "output_type": "stream",
     "name": "stderr",
     "text": []
    },
    {
     "output_type": "stream",
     "name": "stdout",
     "text": [
      "0 104.8\n",
      "../plots/uber/histogram/trip_distance_histogram.png\n"
     ]
    },
    {
     "output_type": "stream",
     "name": "stderr",
     "text": []
    },
    {
     "output_type": "stream",
     "name": "stdout",
     "text": [
      "0 202.55\n",
      "../plots/uber/histogram/trip_time_histogram.png\n"
     ]
    },
    {
     "output_type": "stream",
     "name": "stderr",
     "text": []
    },
    {
     "output_type": "stream",
     "name": "stdout",
     "text": [
      "0 317.55\n",
      "../plots/uber/histogram/base_passenger_fare_histogram.png\n"
     ]
    },
    {
     "output_type": "stream",
     "name": "stderr",
     "text": []
    },
    {
     "output_type": "stream",
     "name": "stdout",
     "text": [
      "0.0 51.0\n",
      "../plots/uber/histogram/tolls_histogram.png\n"
     ]
    },
    {
     "output_type": "stream",
     "name": "stderr",
     "text": []
    },
    {
     "output_type": "stream",
     "name": "stdout",
     "text": [
      "0.0 19.29\n",
      "../plots/uber/histogram/bcf_histogram.png\n"
     ]
    },
    {
     "output_type": "stream",
     "name": "stderr",
     "text": []
    },
    {
     "output_type": "stream",
     "name": "stdout",
     "text": [
      "0.0 35.03\n",
      "../plots/uber/histogram/sales_tax_histogram.png\n"
     ]
    },
    {
     "output_type": "stream",
     "name": "stderr",
     "text": []
    },
    {
     "output_type": "stream",
     "name": "stdout",
     "text": [
      "0.0 15.5\n",
      "../plots/uber/histogram/congestion_surcharge_histogram.png\n"
     ]
    },
    {
     "output_type": "stream",
     "name": "stderr",
     "text": []
    },
    {
     "output_type": "stream",
     "name": "stdout",
     "text": [
      "0.0 15.0\n",
      "../plots/uber/histogram/airport_fee_histogram.png\n"
     ]
    },
    {
     "output_type": "stream",
     "name": "stderr",
     "text": []
    },
    {
     "output_type": "stream",
     "name": "stdout",
     "text": [
      "0.0 64.28\n",
      "../plots/uber/histogram/tips_histogram.png\n"
     ]
    },
    {
     "output_type": "stream",
     "name": "stderr",
     "text": []
    },
    {
     "output_type": "stream",
     "name": "stdout",
     "text": [
      "0.0 271.68\n",
      "../plots/uber/histogram/driver_pay_histogram.png\n"
     ]
    },
    {
     "output_type": "stream",
     "name": "stderr",
     "text": []
    },
    {
     "output_type": "stream",
     "name": "stdout",
     "text": [
      "0 357.19000000000005\n",
      "../plots/uber/histogram/total_amount_histogram.png\n"
     ]
    },
    {
     "output_type": "stream",
     "name": "stderr",
     "text": []
    },
    {
     "output_type": "stream",
     "name": "stdout",
     "text": [
      "0 52.88333333333333\n",
      "../plots/uber/histogram/waiting_time_histogram.png\n"
     ]
    },
    {
     "output_type": "stream",
     "name": "stderr",
     "text": []
    },
    {
     "output_type": "stream",
     "name": "stdout",
     "text": [
      "0 42.462809917355365\n",
      "../plots/uber/histogram/fare_per_miles_histogram.png\n"
     ]
    }
   ],
   "metadata": {}
  },
  {
   "cell_type": "markdown",
   "source": [
    "Plotting continuous columns against time series like days and hours"
   ],
   "metadata": {}
  },
  {
   "cell_type": "code",
   "execution_count": 12,
   "source": [
    "from pyspark.sql.functions import avg, to_date, hour\n",
    "\n",
    "# Convert timestamp to date\n",
    "daily_avg_df = unioned_df.withColumn(\"pickup_date\", to_date(unioned_df[\"pickup_datetime\"]))\n"
   ],
   "outputs": [],
   "metadata": {}
  },
  {
   "cell_type": "code",
   "execution_count": 13,
   "source": [
    "# Daily\n",
    "for col in scripts.clean_high_volume.COLUMNS:\n",
    "    # Group by date and calculate average\n",
    "    average_df = daily_avg_df.groupBy(\"pickup_date\").agg(avg(col).alias(col))\n",
    "    average_df.count()\n",
    "    scripts.plot_data.scatter_plot(average_df, \"pickup_date\", col, \"uber\", \"../plots/uber/daily/\")"
   ],
   "outputs": [
    {
     "output_type": "stream",
     "name": "stderr",
     "text": []
    },
    {
     "output_type": "error",
     "ename": "TypeError",
     "evalue": "scatter_plot() missing 1 required positional argument: 'output_path'",
     "traceback": [
      "\u001b[0;31m---------------------------------------------------------------------------\u001b[0m",
      "\u001b[0;31mTypeError\u001b[0m                                 Traceback (most recent call last)",
      "Cell \u001b[0;32mIn[13], line 5\u001b[0m\n\u001b[1;32m      3\u001b[0m average_df \u001b[38;5;241m=\u001b[39m daily_avg_df\u001b[38;5;241m.\u001b[39mgroupBy(\u001b[38;5;124m\"\u001b[39m\u001b[38;5;124mpickup_date\u001b[39m\u001b[38;5;124m\"\u001b[39m)\u001b[38;5;241m.\u001b[39magg(avg(col)\u001b[38;5;241m.\u001b[39malias(col))\n\u001b[1;32m      4\u001b[0m average_df\u001b[38;5;241m.\u001b[39mcount()\n\u001b[0;32m----> 5\u001b[0m scripts\u001b[38;5;241m.\u001b[39mplot_data\u001b[38;5;241m.\u001b[39mscatter_plot(average_df, \u001b[38;5;124m\"\u001b[39m\u001b[38;5;124mpickup_date\u001b[39m\u001b[38;5;124m\"\u001b[39m, col, \u001b[38;5;124m\"\u001b[39m\u001b[38;5;124m../plots/uber/daily/\u001b[39m\u001b[38;5;124m\"\u001b[39m)\n",
      "\u001b[0;31mTypeError\u001b[0m: scatter_plot() missing 1 required positional argument: 'output_path'"
     ]
    }
   ],
   "metadata": {}
  },
  {
   "cell_type": "code",
   "execution_count": null,
   "source": [
    "# Hourly\n",
    "for col in scripts.clean_high_volume.COLUMNS:\n",
    "    # Extract hour from timestamp and group by it\n",
    "    hourly_avg_df = df.groupBy(hour(df[\"pickup_datetime\"]).alias(\"hour\")).agg(avg(col).alias(col))\n",
    "    scripts.plot_data.scatter_plot(hourly_avg_df, \"hour\", col, \"uber\", \"../plots/uber/hourly/\")"
   ],
   "outputs": [],
   "metadata": {}
  },
  {
   "cell_type": "markdown",
   "source": [
    "Compare average values of continuous columns grouped by categorical columns"
   ],
   "metadata": {}
  },
  {
   "cell_type": "code",
   "execution_count": null,
   "source": [
    "print(\"Grouped by: dispatching_base_num\")\n",
    "print(scripts.manipulate_data.group_by_and_avg(unioned_df, \"dispatching_base_num\", scripts.clean_high_volume.COLUMNS))"
   ],
   "outputs": [
    {
     "output_type": "stream",
     "name": "stdout",
     "text": [
      "Grouped by: dispatching_base_num\n"
     ]
    },
    {
     "output_type": "stream",
     "name": "stderr",
     "text": []
    },
    {
     "output_type": "stream",
     "name": "stdout",
     "text": [
      "   dispatching_base_num  average_trip_distance  average_trip_time  \\\n",
      "0                B03404               5.162139        1223.020417   \n",
      "1                B03556               1.460000         542.000000   \n",
      "2                B03438               1.420000        1965.000000   \n",
      "3                B03472               1.270000         571.000000   \n",
      "4                B03408               1.420000         617.000000   \n",
      "5                B03430               2.321667         830.833333   \n",
      "6                B03493               4.997895        1033.263158   \n",
      "7                B02764               5.563378        1278.783784   \n",
      "8                B02835               3.143000         969.400000   \n",
      "9                B02872              12.310000        1583.846154   \n",
      "10               B02871               3.372778         930.722222   \n",
      "11               B02889               5.495500        1302.250000   \n",
      "12               B02887               6.094167        1350.416667   \n",
      "13               B02870               5.552632        1885.736842   \n",
      "14               B02765               2.913684         841.894737   \n",
      "15               B02882               5.355349        1154.418605   \n",
      "16               B02869               3.243750         718.625000   \n",
      "17               B03487               3.275000        1315.750000   \n",
      "18               B03411               4.027500         991.000000   \n",
      "19               B03434               9.476667        1819.333333   \n",
      "20               B03530               1.860000         611.500000   \n",
      "21               B03432               2.090000         732.500000   \n",
      "22               B03463               3.530000        1187.600000   \n",
      "23               B03473               0.900000         558.000000   \n",
      "24               B03523               5.146923        1014.461538   \n",
      "25               B03464               2.976667         897.000000   \n",
      "26               B03417               1.810000         856.000000   \n",
      "\n",
      "    average_base_passenger_fare  average_tolls  average_bcf  \\\n",
      "0                     25.949619       1.165453     0.762913   \n",
      "1                      9.800000       0.000000     0.000000   \n",
      "2                     21.640000       0.000000     0.600000   \n",
      "3                     10.310000       0.000000     0.000000   \n",
      "4                     11.790000       0.000000     0.000000   \n",
      "5                     12.921667       0.000000     0.000000   \n",
      "6                     19.875789       0.344737     0.165263   \n",
      "7                     26.357568       1.455541     0.819189   \n",
      "8                     19.782000       2.100000     0.659000   \n",
      "9                     71.141538       6.646923     2.280000   \n",
      "10                    17.258333       0.000000     0.500000   \n",
      "11                    27.525500       1.643000     0.838500   \n",
      "12                    30.544167       2.295833     0.988333   \n",
      "13                    36.344211       0.689474     1.091579   \n",
      "14                    15.305789       0.689474     0.460526   \n",
      "15                    23.905116       1.074419     0.734186   \n",
      "16                    16.592500       0.000000     0.460000   \n",
      "17                    40.635000       0.000000     0.202500   \n",
      "18                    17.190000       0.000000     0.000000   \n",
      "19                    39.093333       2.183333     0.463333   \n",
      "20                    11.270000       0.000000     0.000000   \n",
      "21                    10.765000       0.000000     0.000000   \n",
      "22                    18.290000       1.310000     0.000000   \n",
      "23                    23.920000       0.000000     0.000000   \n",
      "24                    20.167692       0.503846     0.000000   \n",
      "25                    17.106667       0.000000     0.000000   \n",
      "26                    11.930000       0.000000     0.000000   \n",
      "\n",
      "    average_sales_tax  average_congestion_surcharge  average_airport_fee  \\\n",
      "0            2.183482                      1.105564             0.219129   \n",
      "1            0.000000                      0.000000             0.000000   \n",
      "2            1.920000                      2.750000             0.000000   \n",
      "3            0.000000                      0.000000             0.000000   \n",
      "4            0.000000                      2.750000             0.000000   \n",
      "5            0.000000                      0.000000             0.000000   \n",
      "6            0.532632                      0.868421             0.131579   \n",
      "7            2.291351                      0.966216             0.304054   \n",
      "8            1.155000                      0.550000             0.250000   \n",
      "9            3.649231                      1.480769             1.346154   \n",
      "10           1.556111                      0.152778             0.277778   \n",
      "11           2.249500                      1.512500             0.125000   \n",
      "12           2.282500                      1.145833             0.625000   \n",
      "13           3.345789                      2.460526             0.657895   \n",
      "14           1.420000                      0.144737             0.000000   \n",
      "15           1.985116                      1.087209             0.232558   \n",
      "16           1.473750                      0.000000             0.000000   \n",
      "17           0.650000                      2.750000             0.000000   \n",
      "18           0.000000                      0.187500             0.000000   \n",
      "19           1.490000                      2.750000             0.833333   \n",
      "20           0.000000                      2.750000             0.000000   \n",
      "21           0.000000                      0.000000             0.000000   \n",
      "22           0.000000                      1.650000             0.000000   \n",
      "23           0.000000                      2.750000             0.000000   \n",
      "24           0.000000                      1.057692             0.192308   \n",
      "25           0.000000                      1.833333             0.000000   \n",
      "26           0.000000                      0.000000             0.000000   \n",
      "\n",
      "    average_tips  average_driver_pay  \n",
      "0       1.190888           20.281126  \n",
      "1       2.000000            7.010000  \n",
      "2       4.030000           20.340000  \n",
      "3       0.000000            7.530000  \n",
      "4       0.000000            7.670000  \n",
      "5       1.000000           11.136667  \n",
      "6       0.708947           16.538947  \n",
      "7       1.238243           21.004459  \n",
      "8       2.178000           14.236000  \n",
      "9       2.626154           56.257692  \n",
      "10      0.166667           14.257778  \n",
      "11      0.114000           21.509500  \n",
      "12      0.698333           21.925833  \n",
      "13      1.712632           26.371053  \n",
      "14      0.052632           12.083158  \n",
      "15      0.609535           18.816047  \n",
      "16      0.625000           11.841250  \n",
      "17      4.537500           27.607500  \n",
      "18      2.000000           14.352500  \n",
      "19      0.000000           34.666667  \n",
      "20      0.000000            8.190000  \n",
      "21      0.000000            9.635000  \n",
      "22      1.000000           16.256000  \n",
      "23      4.410000           13.930000  \n",
      "24      0.615385           16.420769  \n",
      "25      1.666667           14.400000  \n",
      "26      0.000000           10.420000  \n"
     ]
    },
    {
     "output_type": "stream",
     "name": "stderr",
     "text": []
    }
   ],
   "metadata": {}
  },
  {
   "cell_type": "code",
   "execution_count": null,
   "source": [
    "# Write curated dataset\n",
    "scripts.clean_base.write_data(unioned_df, \"../data/curated/uber/uber.parquet\")"
   ],
   "outputs": [
    {
     "output_type": "stream",
     "name": "stderr",
     "text": []
    },
    {
     "output_type": "execute_result",
     "data": {
      "text/plain": [
       "+--------------------+-------------------+-------------------+-------------------+-------------------+------------+------------+-------------+---------+-------------------+-----+----+---------+--------------------+-----------+----+----------+\n",
       "|dispatching_base_num|   request_datetime|  on_scene_datetime|    pickup_datetime|   dropoff_datetime|PULocationID|DOLocationID|trip_distance|trip_time|base_passenger_fare|tolls| bcf|sales_tax|congestion_surcharge|airport_fee|tips|driver_pay|\n",
       "+--------------------+-------------------+-------------------+-------------------+-------------------+------------+------------+-------------+---------+-------------------+-----+----+---------+--------------------+-----------+----+----------+\n",
       "|              B03404|2023-08-27 10:13:23|2023-08-27 10:15:38|2023-08-27 10:16:45|2023-08-27 10:34:44|          60|           7|         7.31|     1079|              18.43| 6.94| 0.7|     2.25|                 0.0|        0.0| 0.0|     19.97|\n",
       "|              B03404|2023-08-27 10:38:13|2023-08-27 10:40:35|2023-08-27 10:41:23|2023-08-27 10:59:49|         249|         161|         3.12|     1106|              14.49|  0.0| 0.4|     1.29|                2.75|        0.0| 3.0|     14.49|\n",
       "|              B03404|2023-08-27 10:01:41|2023-08-27 10:06:26|2023-08-27 10:06:57|2023-08-27 10:22:26|         234|         231|          3.0|      929|              23.74|  0.0|0.65|     2.11|                2.75|        0.0| 2.0|     13.29|\n",
       "|              B03404|2023-08-27 10:13:13|2023-08-27 10:15:27|2023-08-27 10:15:40|2023-08-27 10:24:43|          83|         223|          3.2|      543|              12.72|  0.0|0.35|     1.13|                 0.0|        0.0| 0.0|       9.3|\n",
       "|              B03404|2023-08-27 10:24:47|2023-08-27 10:26:51|2023-08-27 10:28:44|2023-08-27 10:40:50|         102|         102|         1.54|      726|               11.8|  0.0|0.32|     1.05|                 0.0|        0.0| 0.0|      8.84|\n",
       "|              B03404|2023-08-27 10:47:16|2023-08-27 10:48:51|2023-08-27 10:50:51|2023-08-27 11:24:29|         236|         265|        12.35|     2018|              51.91| 20.0|1.98|      0.0|                 0.0|        0.0| 0.0|     39.04|\n",
       "|              B03404|2023-08-27 10:44:00|2023-08-27 10:45:38|2023-08-27 10:46:23|2023-08-27 10:53:01|          41|         236|         1.88|      398|              12.72|  0.0|0.35|     1.13|                2.75|        0.0| 0.0|      6.21|\n",
       "|              B03404|2023-08-27 10:14:58|2023-08-27 10:19:12|2023-08-27 10:21:13|2023-08-27 10:49:12|          61|         256|         4.78|     1679|              23.49|  0.0|0.65|     2.08|                 0.0|        0.0| 0.0|     22.06|\n",
       "|              B03404|2023-08-27 10:55:49|2023-08-27 10:58:19|2023-08-27 10:58:27|2023-08-27 11:15:55|         149|          22|         3.21|     1048|              17.84|  0.0|0.49|     1.58|                 0.0|        0.0| 0.0|     14.07|\n",
       "|              B03404|2023-08-27 10:44:58|2023-08-27 10:50:20|2023-08-27 10:50:49|2023-08-27 11:31:54|          72|         132|         9.86|     2465|               35.7|  0.0|1.05|     3.39|                 0.0|        2.5|6.39|     38.17|\n",
       "|              B03404|2023-08-27 10:00:24|2023-08-27 10:03:55|2023-08-27 10:05:03|2023-08-27 10:10:08|         244|         244|         0.73|      305|               8.92|  0.0|0.25|     0.79|                 0.0|        0.0| 0.0|       5.4|\n",
       "|              B03404|2023-08-27 10:35:19|2023-08-27 10:39:09|2023-08-27 10:40:29|2023-08-27 11:01:31|         225|         255|         2.99|     1262|              15.13|  0.0|0.42|     1.34|                 0.0|        0.0| 1.0|     16.38|\n",
       "|              B03404|2023-08-27 10:10:36|2023-08-27 10:25:07|2023-08-27 10:26:24|2023-08-27 10:35:57|          87|          13|         1.02|      573|              22.22|  0.0|0.61|     1.97|                2.75|        0.0|5.51|     13.54|\n",
       "|              B03404|2023-08-27 10:25:52|2023-08-27 10:26:03|2023-08-27 10:27:34|2023-08-27 10:51:38|         161|         231|         4.13|     1444|              23.43|  0.0|0.64|     2.08|                2.75|        0.0|2.89|     19.01|\n",
       "|              B03404|2023-08-27 10:16:32|2023-08-27 10:16:59|2023-08-27 10:17:54|2023-08-27 10:32:21|           9|         138|         6.03|      867|              26.14|  0.0|0.79|     2.54|                 0.0|        2.5|4.79|     16.11|\n",
       "|              B03404|2023-08-27 10:47:48|2023-08-27 10:50:09|2023-08-27 10:50:14|2023-08-27 11:05:04|         256|          66|          2.9|      890|              16.58|  0.0|0.46|     1.47|                 0.0|        0.0| 0.0|     12.21|\n",
       "|              B03404|2023-08-27 10:31:44|2023-08-27 10:32:47|2023-08-27 10:34:04|2023-08-27 10:52:45|         161|         144|         3.04|     1121|              21.71|  0.0| 0.6|     1.93|                2.75|        0.0|5.39|     14.64|\n",
       "|              B03404|2023-08-27 10:51:27|2023-08-27 10:53:39|2023-08-27 10:54:05|2023-08-27 11:12:10|         144|         161|         3.26|     1085|              23.47|  0.0|0.65|     2.08|                2.75|        0.0| 0.0|     14.59|\n",
       "|              B03404|2023-08-27 10:32:52|2023-08-27 10:47:44|2023-08-27 10:47:44|2023-08-27 10:51:21|         107|         107|         0.56|      217|               7.37|  0.0| 0.2|     0.65|                2.75|        0.0| 3.0|      9.46|\n",
       "|              B03404|2023-08-27 10:00:02|2023-08-27 10:05:47|2023-08-27 10:06:07|2023-08-27 10:23:53|         220|         169|         3.35|     1066|              17.01|  0.0|0.47|     1.51|                 0.0|        0.0| 0.0|     14.42|\n",
       "+--------------------+-------------------+-------------------+-------------------+-------------------+------------+------------+-------------+---------+-------------------+-----+----+---------+--------------------+-----------+----+----------+\n",
       "only showing top 20 rows"
      ],
      "text/html": [
       "<table border='1'>\n",
       "<tr><th>dispatching_base_num</th><th>request_datetime</th><th>on_scene_datetime</th><th>pickup_datetime</th><th>dropoff_datetime</th><th>PULocationID</th><th>DOLocationID</th><th>trip_distance</th><th>trip_time</th><th>base_passenger_fare</th><th>tolls</th><th>bcf</th><th>sales_tax</th><th>congestion_surcharge</th><th>airport_fee</th><th>tips</th><th>driver_pay</th></tr>\n",
       "<tr><td>B03404</td><td>2023-08-27 10:13:23</td><td>2023-08-27 10:15:38</td><td>2023-08-27 10:16:45</td><td>2023-08-27 10:34:44</td><td>60</td><td>7</td><td>7.31</td><td>1079</td><td>18.43</td><td>6.94</td><td>0.7</td><td>2.25</td><td>0.0</td><td>0.0</td><td>0.0</td><td>19.97</td></tr>\n",
       "<tr><td>B03404</td><td>2023-08-27 10:38:13</td><td>2023-08-27 10:40:35</td><td>2023-08-27 10:41:23</td><td>2023-08-27 10:59:49</td><td>249</td><td>161</td><td>3.12</td><td>1106</td><td>14.49</td><td>0.0</td><td>0.4</td><td>1.29</td><td>2.75</td><td>0.0</td><td>3.0</td><td>14.49</td></tr>\n",
       "<tr><td>B03404</td><td>2023-08-27 10:01:41</td><td>2023-08-27 10:06:26</td><td>2023-08-27 10:06:57</td><td>2023-08-27 10:22:26</td><td>234</td><td>231</td><td>3.0</td><td>929</td><td>23.74</td><td>0.0</td><td>0.65</td><td>2.11</td><td>2.75</td><td>0.0</td><td>2.0</td><td>13.29</td></tr>\n",
       "<tr><td>B03404</td><td>2023-08-27 10:13:13</td><td>2023-08-27 10:15:27</td><td>2023-08-27 10:15:40</td><td>2023-08-27 10:24:43</td><td>83</td><td>223</td><td>3.2</td><td>543</td><td>12.72</td><td>0.0</td><td>0.35</td><td>1.13</td><td>0.0</td><td>0.0</td><td>0.0</td><td>9.3</td></tr>\n",
       "<tr><td>B03404</td><td>2023-08-27 10:24:47</td><td>2023-08-27 10:26:51</td><td>2023-08-27 10:28:44</td><td>2023-08-27 10:40:50</td><td>102</td><td>102</td><td>1.54</td><td>726</td><td>11.8</td><td>0.0</td><td>0.32</td><td>1.05</td><td>0.0</td><td>0.0</td><td>0.0</td><td>8.84</td></tr>\n",
       "<tr><td>B03404</td><td>2023-08-27 10:47:16</td><td>2023-08-27 10:48:51</td><td>2023-08-27 10:50:51</td><td>2023-08-27 11:24:29</td><td>236</td><td>265</td><td>12.35</td><td>2018</td><td>51.91</td><td>20.0</td><td>1.98</td><td>0.0</td><td>0.0</td><td>0.0</td><td>0.0</td><td>39.04</td></tr>\n",
       "<tr><td>B03404</td><td>2023-08-27 10:44:00</td><td>2023-08-27 10:45:38</td><td>2023-08-27 10:46:23</td><td>2023-08-27 10:53:01</td><td>41</td><td>236</td><td>1.88</td><td>398</td><td>12.72</td><td>0.0</td><td>0.35</td><td>1.13</td><td>2.75</td><td>0.0</td><td>0.0</td><td>6.21</td></tr>\n",
       "<tr><td>B03404</td><td>2023-08-27 10:14:58</td><td>2023-08-27 10:19:12</td><td>2023-08-27 10:21:13</td><td>2023-08-27 10:49:12</td><td>61</td><td>256</td><td>4.78</td><td>1679</td><td>23.49</td><td>0.0</td><td>0.65</td><td>2.08</td><td>0.0</td><td>0.0</td><td>0.0</td><td>22.06</td></tr>\n",
       "<tr><td>B03404</td><td>2023-08-27 10:55:49</td><td>2023-08-27 10:58:19</td><td>2023-08-27 10:58:27</td><td>2023-08-27 11:15:55</td><td>149</td><td>22</td><td>3.21</td><td>1048</td><td>17.84</td><td>0.0</td><td>0.49</td><td>1.58</td><td>0.0</td><td>0.0</td><td>0.0</td><td>14.07</td></tr>\n",
       "<tr><td>B03404</td><td>2023-08-27 10:44:58</td><td>2023-08-27 10:50:20</td><td>2023-08-27 10:50:49</td><td>2023-08-27 11:31:54</td><td>72</td><td>132</td><td>9.86</td><td>2465</td><td>35.7</td><td>0.0</td><td>1.05</td><td>3.39</td><td>0.0</td><td>2.5</td><td>6.39</td><td>38.17</td></tr>\n",
       "<tr><td>B03404</td><td>2023-08-27 10:00:24</td><td>2023-08-27 10:03:55</td><td>2023-08-27 10:05:03</td><td>2023-08-27 10:10:08</td><td>244</td><td>244</td><td>0.73</td><td>305</td><td>8.92</td><td>0.0</td><td>0.25</td><td>0.79</td><td>0.0</td><td>0.0</td><td>0.0</td><td>5.4</td></tr>\n",
       "<tr><td>B03404</td><td>2023-08-27 10:35:19</td><td>2023-08-27 10:39:09</td><td>2023-08-27 10:40:29</td><td>2023-08-27 11:01:31</td><td>225</td><td>255</td><td>2.99</td><td>1262</td><td>15.13</td><td>0.0</td><td>0.42</td><td>1.34</td><td>0.0</td><td>0.0</td><td>1.0</td><td>16.38</td></tr>\n",
       "<tr><td>B03404</td><td>2023-08-27 10:10:36</td><td>2023-08-27 10:25:07</td><td>2023-08-27 10:26:24</td><td>2023-08-27 10:35:57</td><td>87</td><td>13</td><td>1.02</td><td>573</td><td>22.22</td><td>0.0</td><td>0.61</td><td>1.97</td><td>2.75</td><td>0.0</td><td>5.51</td><td>13.54</td></tr>\n",
       "<tr><td>B03404</td><td>2023-08-27 10:25:52</td><td>2023-08-27 10:26:03</td><td>2023-08-27 10:27:34</td><td>2023-08-27 10:51:38</td><td>161</td><td>231</td><td>4.13</td><td>1444</td><td>23.43</td><td>0.0</td><td>0.64</td><td>2.08</td><td>2.75</td><td>0.0</td><td>2.89</td><td>19.01</td></tr>\n",
       "<tr><td>B03404</td><td>2023-08-27 10:16:32</td><td>2023-08-27 10:16:59</td><td>2023-08-27 10:17:54</td><td>2023-08-27 10:32:21</td><td>9</td><td>138</td><td>6.03</td><td>867</td><td>26.14</td><td>0.0</td><td>0.79</td><td>2.54</td><td>0.0</td><td>2.5</td><td>4.79</td><td>16.11</td></tr>\n",
       "<tr><td>B03404</td><td>2023-08-27 10:47:48</td><td>2023-08-27 10:50:09</td><td>2023-08-27 10:50:14</td><td>2023-08-27 11:05:04</td><td>256</td><td>66</td><td>2.9</td><td>890</td><td>16.58</td><td>0.0</td><td>0.46</td><td>1.47</td><td>0.0</td><td>0.0</td><td>0.0</td><td>12.21</td></tr>\n",
       "<tr><td>B03404</td><td>2023-08-27 10:31:44</td><td>2023-08-27 10:32:47</td><td>2023-08-27 10:34:04</td><td>2023-08-27 10:52:45</td><td>161</td><td>144</td><td>3.04</td><td>1121</td><td>21.71</td><td>0.0</td><td>0.6</td><td>1.93</td><td>2.75</td><td>0.0</td><td>5.39</td><td>14.64</td></tr>\n",
       "<tr><td>B03404</td><td>2023-08-27 10:51:27</td><td>2023-08-27 10:53:39</td><td>2023-08-27 10:54:05</td><td>2023-08-27 11:12:10</td><td>144</td><td>161</td><td>3.26</td><td>1085</td><td>23.47</td><td>0.0</td><td>0.65</td><td>2.08</td><td>2.75</td><td>0.0</td><td>0.0</td><td>14.59</td></tr>\n",
       "<tr><td>B03404</td><td>2023-08-27 10:32:52</td><td>2023-08-27 10:47:44</td><td>2023-08-27 10:47:44</td><td>2023-08-27 10:51:21</td><td>107</td><td>107</td><td>0.56</td><td>217</td><td>7.37</td><td>0.0</td><td>0.2</td><td>0.65</td><td>2.75</td><td>0.0</td><td>3.0</td><td>9.46</td></tr>\n",
       "<tr><td>B03404</td><td>2023-08-27 10:00:02</td><td>2023-08-27 10:05:47</td><td>2023-08-27 10:06:07</td><td>2023-08-27 10:23:53</td><td>220</td><td>169</td><td>3.35</td><td>1066</td><td>17.01</td><td>0.0</td><td>0.47</td><td>1.51</td><td>0.0</td><td>0.0</td><td>0.0</td><td>14.42</td></tr>\n",
       "</table>\n",
       "only showing top 20 rows\n"
      ]
     },
     "metadata": {},
     "execution_count": 17
    }
   ],
   "metadata": {}
  }
 ],
 "metadata": {
  "orig_nbformat": 4,
  "language_info": {
   "name": "python",
   "version": "3.11.7",
   "mimetype": "text/x-python",
   "codemirror_mode": {
    "name": "ipython",
    "version": 3
   },
   "pygments_lexer": "ipython3",
   "nbconvert_exporter": "python",
   "file_extension": ".py"
  },
  "kernelspec": {
   "name": "python3",
   "display_name": "Python 3.11.7 64-bit ('base': conda)"
  },
  "interpreter": {
   "hash": "dca0ade3e726a953b501b15e8e990130d2b7799f14cfd9f4271676035ebe5511"
  }
 },
 "nbformat": 4,
 "nbformat_minor": 2
}