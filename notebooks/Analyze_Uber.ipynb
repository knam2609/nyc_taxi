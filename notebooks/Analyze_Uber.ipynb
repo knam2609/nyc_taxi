{
 "cells": [
  {
   "cell_type": "code",
   "execution_count": 1,
   "source": [
    "# Adjust Python path within the notebook\n",
    "import sys\n",
    "project_root = '/Users/thangnguyen/Documents/GitHub/project-1-individual-knam2609'\n",
    "if project_root not in sys.path:\n",
    "    sys.path.insert(0, project_root)\n",
    "\n",
    "import scripts"
   ],
   "outputs": [],
   "metadata": {}
  },
  {
   "cell_type": "code",
   "execution_count": 2,
   "source": [
    "import matplotlib.pyplot as plt\n",
    "import seaborn as sb\n",
    "import pandas\n",
    "import os"
   ],
   "outputs": [],
   "metadata": {}
  },
  {
   "cell_type": "code",
   "execution_count": 3,
   "source": [
    "# Create SparkSession\n",
    "spark = scripts.clean_base.create_spark_session()"
   ],
   "outputs": [
    {
     "output_type": "stream",
     "name": "stderr",
     "text": [
      "24/08/28 17:05:08 WARN Utils: Your hostname, THANGs-MacBook-Air.local resolves to a loopback address: 127.0.0.1; using 100.86.89.69 instead (on interface en0)\n",
      "24/08/28 17:05:08 WARN Utils: Set SPARK_LOCAL_IP if you need to bind to another address\n",
      "Setting default log level to \"WARN\".\n",
      "To adjust logging level use sc.setLogLevel(newLevel). For SparkR, use setLogLevel(newLevel).\n",
      "24/08/28 17:05:08 WARN NativeCodeLoader: Unable to load native-hadoop library for your platform... using builtin-java classes where applicable\n",
      "24/08/28 17:05:09 WARN Utils: Service 'SparkUI' could not bind on port 4040. Attempting port 4041.\n"
     ]
    }
   ],
   "metadata": {}
  },
  {
   "cell_type": "code",
   "execution_count": 4,
   "source": [
    "# Create directories for plots\n",
    "scripts.download.make_directories([\"../plots/\"], [\"uber\"])"
   ],
   "outputs": [],
   "metadata": {}
  },
  {
   "cell_type": "code",
   "execution_count": 5,
   "source": [
    "# Create directories for plots\n",
    "scripts.download.make_directories([\"../plots/uber/\"], [\"correlation\", \"histogram\", \"daily\", \"hourly\"])"
   ],
   "outputs": [],
   "metadata": {}
  },
  {
   "cell_type": "code",
   "execution_count": 6,
   "source": [
    "uber_files = scripts.clean_base.list_parquet_directories(\"../data/raw/uber/\")\n",
    "uber_dfs = [spark.read.parquet(file) for file in uber_files]"
   ],
   "outputs": [],
   "metadata": {}
  },
  {
   "cell_type": "code",
   "execution_count": 7,
   "source": [
    "uber_files"
   ],
   "outputs": [
    {
     "output_type": "execute_result",
     "data": {
      "text/plain": [
       "['../data/raw/uber/2023-08.parquet',\n",
       " '../data/raw/uber/2023-11.parquet',\n",
       " '../data/raw/uber/2023-10.parquet',\n",
       " '../data/raw/uber/2023-09.parquet',\n",
       " '../data/raw/uber/2023-06.parquet',\n",
       " '../data/raw/uber/2023-07.parquet']"
      ]
     },
     "metadata": {},
     "execution_count": 7
    }
   ],
   "metadata": {}
  },
  {
   "cell_type": "code",
   "execution_count": 8,
   "source": [
    "# Extract the schema from the existing DataFrame\n",
    "schema = uber_dfs[0].schema\n",
    "\n",
    "# Create an empty DataFrame using the extracted schema\n",
    "unioned_df = spark.createDataFrame([], schema)\n",
    "\n",
    "unioned_df # merge sub-sample of each datasets"
   ],
   "outputs": [
    {
     "output_type": "execute_result",
     "data": {
      "text/plain": [
       "+--------------------+----------------+-----------------+---------------+----------------+------------+------------+-------------+---------+-------------------+-----+---+---------+--------------------+-----------+----+----------+------------+------------+--------------+\n",
       "|dispatching_base_num|request_datetime|on_scene_datetime|pickup_datetime|dropoff_datetime|PULocationID|DOLocationID|trip_distance|trip_time|base_passenger_fare|tolls|bcf|sales_tax|congestion_surcharge|airport_fee|tips|driver_pay|total_amount|waiting_time|fare_per_miles|\n",
       "+--------------------+----------------+-----------------+---------------+----------------+------------+------------+-------------+---------+-------------------+-----+---+---------+--------------------+-----------+----+----------+------------+------------+--------------+\n",
       "+--------------------+----------------+-----------------+---------------+----------------+------------+------------+-------------+---------+-------------------+-----+---+---------+--------------------+-----------+----+----------+------------+------------+--------------+"
      ],
      "text/html": [
       "<table border='1'>\n",
       "<tr><th>dispatching_base_num</th><th>request_datetime</th><th>on_scene_datetime</th><th>pickup_datetime</th><th>dropoff_datetime</th><th>PULocationID</th><th>DOLocationID</th><th>trip_distance</th><th>trip_time</th><th>base_passenger_fare</th><th>tolls</th><th>bcf</th><th>sales_tax</th><th>congestion_surcharge</th><th>airport_fee</th><th>tips</th><th>driver_pay</th><th>total_amount</th><th>waiting_time</th><th>fare_per_miles</th></tr>\n",
       "</table>\n"
      ]
     },
     "metadata": {},
     "execution_count": 8
    }
   ],
   "metadata": {}
  },
  {
   "cell_type": "code",
   "execution_count": 9,
   "source": [
    "# Plotting correlation heatmap of every datasets\n",
    "for df in uber_dfs:\n",
    "    file_path = uber_files[uber_dfs.index(df)]\n",
    "    # Extract the base name of the file\n",
    "    file_name = os.path.basename(file_path)\n",
    "    # Remove the file extension to get only the date part\n",
    "    date_part = os.path.splitext(file_name)[0]\n",
    "    print(date_part)\n",
    "    scripts.manipulate_data.find_min_max_df(df, scripts.clean_high_volume.COLUMNS)\n",
    "    df.count()\n",
    "    df = scripts.clean_base.sampling_data(df, \"dispatching_base_num\", 0.05)\n",
    "    df.count()\n",
    "    unioned_df = unioned_df.union(df)\n",
    "    scripts.plot_data.plot_correlation_heatmap(df, scripts.clean_high_volume.COLUMNS, \"uber\", \"../plots/uber/correlation/\", date_part)"
   ],
   "outputs": [
    {
     "output_type": "stream",
     "name": "stdout",
     "text": [
      "2023-08\n"
     ]
    },
    {
     "output_type": "stream",
     "name": "stderr",
     "text": []
    },
    {
     "output_type": "stream",
     "name": "stdout",
     "text": [
      "../plots/uber/correlation/2023-08.png\n",
      "2023-11\n"
     ]
    },
    {
     "output_type": "stream",
     "name": "stderr",
     "text": [
      "24/08/28 17:05:20 WARN GarbageCollectionMetrics: To enable non-built-in garbage collector(s) List(G1 Concurrent GC), users should configure it(them) to spark.eventLog.gcMetrics.youngGenerationGarbageCollectors or spark.eventLog.gcMetrics.oldGenerationGarbageCollectors\n"
     ]
    },
    {
     "output_type": "stream",
     "name": "stdout",
     "text": [
      "../plots/uber/correlation/2023-11.png\n",
      "2023-10\n"
     ]
    },
    {
     "output_type": "stream",
     "name": "stderr",
     "text": []
    },
    {
     "output_type": "stream",
     "name": "stdout",
     "text": [
      "../plots/uber/correlation/2023-10.png\n",
      "2023-09\n"
     ]
    },
    {
     "output_type": "stream",
     "name": "stderr",
     "text": []
    },
    {
     "output_type": "stream",
     "name": "stdout",
     "text": [
      "../plots/uber/correlation/2023-09.png\n",
      "2023-06\n"
     ]
    },
    {
     "output_type": "stream",
     "name": "stderr",
     "text": []
    },
    {
     "output_type": "stream",
     "name": "stdout",
     "text": [
      "../plots/uber/correlation/2023-06.png\n",
      "2023-07\n"
     ]
    },
    {
     "output_type": "stream",
     "name": "stderr",
     "text": []
    },
    {
     "output_type": "stream",
     "name": "stdout",
     "text": [
      "../plots/uber/correlation/2023-07.png\n"
     ]
    }
   ],
   "metadata": {}
  },
  {
   "cell_type": "code",
   "execution_count": 10,
   "source": [
    "unioned_df.count()\n"
   ],
   "outputs": [
    {
     "output_type": "stream",
     "name": "stderr",
     "text": []
    },
    {
     "output_type": "execute_result",
     "data": {
      "text/plain": [
       "4067758"
      ]
     },
     "metadata": {},
     "execution_count": 10
    }
   ],
   "metadata": {}
  },
  {
   "cell_type": "code",
   "execution_count": 11,
   "source": [
    "# Plotting distribution of continous columns\n",
    "for col in scripts.clean_high_volume.COLUMNS:\n",
    "    scripts.plot_data.plot_histogram(unioned_df, col, \"uber\", \"../plots/uber/histogram/\", 50)"
   ],
   "outputs": [
    {
     "output_type": "stream",
     "name": "stderr",
     "text": []
    },
    {
     "output_type": "stream",
     "name": "stdout",
     "text": [
      "0 134.16\n",
      "../plots/uber/histogram/trip_distance_histogram.png\n"
     ]
    },
    {
     "output_type": "stream",
     "name": "stderr",
     "text": []
    },
    {
     "output_type": "stream",
     "name": "stdout",
     "text": [
      "0 180.75\n",
      "../plots/uber/histogram/trip_time_histogram.png\n"
     ]
    },
    {
     "output_type": "stream",
     "name": "stderr",
     "text": []
    },
    {
     "output_type": "stream",
     "name": "stdout",
     "text": [
      "0 510.95\n",
      "../plots/uber/histogram/base_passenger_fare_histogram.png\n"
     ]
    },
    {
     "output_type": "stream",
     "name": "stderr",
     "text": []
    },
    {
     "output_type": "stream",
     "name": "stdout",
     "text": [
      "0.0 56.85\n",
      "../plots/uber/histogram/tolls_histogram.png\n"
     ]
    },
    {
     "output_type": "stream",
     "name": "stderr",
     "text": []
    },
    {
     "output_type": "stream",
     "name": "stdout",
     "text": [
      "0.0 24.07\n",
      "../plots/uber/histogram/bcf_histogram.png\n"
     ]
    },
    {
     "output_type": "stream",
     "name": "stderr",
     "text": []
    },
    {
     "output_type": "stream",
     "name": "stdout",
     "text": [
      "0.0 45.08\n",
      "../plots/uber/histogram/sales_tax_histogram.png\n"
     ]
    },
    {
     "output_type": "stream",
     "name": "stderr",
     "text": []
    },
    {
     "output_type": "stream",
     "name": "stdout",
     "text": [
      "0.0 15.5\n",
      "../plots/uber/histogram/congestion_surcharge_histogram.png\n"
     ]
    },
    {
     "output_type": "stream",
     "name": "stderr",
     "text": []
    },
    {
     "output_type": "stream",
     "name": "stdout",
     "text": [
      "0.0 15.0\n",
      "../plots/uber/histogram/airport_fee_histogram.png\n"
     ]
    },
    {
     "output_type": "stream",
     "name": "stderr",
     "text": []
    },
    {
     "output_type": "stream",
     "name": "stdout",
     "text": [
      "0.0 66.78\n",
      "../plots/uber/histogram/tips_histogram.png\n"
     ]
    },
    {
     "output_type": "stream",
     "name": "stderr",
     "text": []
    },
    {
     "output_type": "stream",
     "name": "stdout",
     "text": [
      "0.0 307.52\n",
      "../plots/uber/histogram/driver_pay_histogram.png\n"
     ]
    },
    {
     "output_type": "stream",
     "name": "stderr",
     "text": []
    },
    {
     "output_type": "stream",
     "name": "stdout",
     "text": [
      "0 535.82\n",
      "../plots/uber/histogram/total_amount_histogram.png\n"
     ]
    },
    {
     "output_type": "stream",
     "name": "stderr",
     "text": []
    },
    {
     "output_type": "stream",
     "name": "stdout",
     "text": [
      "0 85.38333333333334\n",
      "../plots/uber/histogram/waiting_time_histogram.png\n"
     ]
    },
    {
     "output_type": "stream",
     "name": "stderr",
     "text": []
    },
    {
     "output_type": "stream",
     "name": "stdout",
     "text": [
      "0 43.261904761904766\n",
      "../plots/uber/histogram/fare_per_miles_histogram.png\n"
     ]
    }
   ],
   "metadata": {}
  },
  {
   "cell_type": "markdown",
   "source": [
    "Plotting continuous columns against time series like days and hours"
   ],
   "metadata": {}
  },
  {
   "cell_type": "code",
   "execution_count": 12,
   "source": [
    "from pyspark.sql.functions import avg, to_date, hour\n",
    "\n",
    "# Convert timestamp to date\n",
    "daily_avg_df = unioned_df.withColumn(\"pickup_date\", to_date(unioned_df[\"pickup_datetime\"]))\n"
   ],
   "outputs": [],
   "metadata": {}
  },
  {
   "cell_type": "code",
   "execution_count": 13,
   "source": [
    "# Daily\n",
    "for col in scripts.clean_high_volume.COLUMNS:\n",
    "    # Group by date and calculate average\n",
    "    average_df = daily_avg_df.groupBy(\"pickup_date\").agg(avg(col).alias(col))\n",
    "    average_df.count()\n",
    "    scripts.plot_data.scatter_plot(average_df, \"pickup_date\", col, \"uber\", \"../plots/uber/daily/\")"
   ],
   "outputs": [
    {
     "output_type": "stream",
     "name": "stderr",
     "text": []
    },
    {
     "output_type": "stream",
     "name": "stdout",
     "text": [
      "../plots/uber/daily/pickup_date_vs_trip_distance.png\n"
     ]
    },
    {
     "output_type": "stream",
     "name": "stderr",
     "text": []
    },
    {
     "output_type": "stream",
     "name": "stdout",
     "text": [
      "../plots/uber/daily/pickup_date_vs_trip_time.png\n"
     ]
    },
    {
     "output_type": "stream",
     "name": "stderr",
     "text": []
    },
    {
     "output_type": "stream",
     "name": "stdout",
     "text": [
      "../plots/uber/daily/pickup_date_vs_base_passenger_fare.png\n"
     ]
    },
    {
     "output_type": "stream",
     "name": "stderr",
     "text": []
    },
    {
     "output_type": "stream",
     "name": "stdout",
     "text": [
      "../plots/uber/daily/pickup_date_vs_tolls.png\n"
     ]
    },
    {
     "output_type": "stream",
     "name": "stderr",
     "text": []
    },
    {
     "output_type": "stream",
     "name": "stdout",
     "text": [
      "../plots/uber/daily/pickup_date_vs_bcf.png\n"
     ]
    },
    {
     "output_type": "stream",
     "name": "stderr",
     "text": []
    },
    {
     "output_type": "stream",
     "name": "stdout",
     "text": [
      "../plots/uber/daily/pickup_date_vs_sales_tax.png\n"
     ]
    },
    {
     "output_type": "stream",
     "name": "stderr",
     "text": []
    },
    {
     "output_type": "stream",
     "name": "stdout",
     "text": [
      "../plots/uber/daily/pickup_date_vs_congestion_surcharge.png\n"
     ]
    },
    {
     "output_type": "stream",
     "name": "stderr",
     "text": []
    },
    {
     "output_type": "stream",
     "name": "stdout",
     "text": [
      "../plots/uber/daily/pickup_date_vs_airport_fee.png\n"
     ]
    },
    {
     "output_type": "stream",
     "name": "stderr",
     "text": []
    },
    {
     "output_type": "stream",
     "name": "stdout",
     "text": [
      "../plots/uber/daily/pickup_date_vs_tips.png\n"
     ]
    },
    {
     "output_type": "stream",
     "name": "stderr",
     "text": []
    },
    {
     "output_type": "stream",
     "name": "stdout",
     "text": [
      "../plots/uber/daily/pickup_date_vs_driver_pay.png\n"
     ]
    },
    {
     "output_type": "stream",
     "name": "stderr",
     "text": []
    },
    {
     "output_type": "stream",
     "name": "stdout",
     "text": [
      "../plots/uber/daily/pickup_date_vs_total_amount.png\n"
     ]
    },
    {
     "output_type": "stream",
     "name": "stderr",
     "text": []
    },
    {
     "output_type": "stream",
     "name": "stdout",
     "text": [
      "../plots/uber/daily/pickup_date_vs_waiting_time.png\n"
     ]
    },
    {
     "output_type": "stream",
     "name": "stderr",
     "text": []
    },
    {
     "output_type": "stream",
     "name": "stdout",
     "text": [
      "../plots/uber/daily/pickup_date_vs_fare_per_miles.png\n"
     ]
    },
    {
     "output_type": "stream",
     "name": "stderr",
     "text": []
    }
   ],
   "metadata": {}
  },
  {
   "cell_type": "code",
   "execution_count": 14,
   "source": [
    "# Hourly\n",
    "for col in scripts.clean_high_volume.COLUMNS:\n",
    "    # Extract hour from timestamp and group by it\n",
    "    hourly_avg_df = df.groupBy(hour(df[\"pickup_datetime\"]).alias(\"hour\")).agg(avg(col).alias(col))\n",
    "    scripts.plot_data.scatter_plot(hourly_avg_df, \"hour\", col, \"uber\", \"../plots/uber/hourly/\")"
   ],
   "outputs": [
    {
     "output_type": "stream",
     "name": "stderr",
     "text": []
    },
    {
     "output_type": "stream",
     "name": "stdout",
     "text": [
      "../plots/uber/hourly/hour_vs_trip_distance.png\n"
     ]
    },
    {
     "output_type": "stream",
     "name": "stderr",
     "text": []
    },
    {
     "output_type": "stream",
     "name": "stdout",
     "text": [
      "../plots/uber/hourly/hour_vs_trip_time.png\n"
     ]
    },
    {
     "output_type": "stream",
     "name": "stderr",
     "text": []
    },
    {
     "output_type": "stream",
     "name": "stdout",
     "text": [
      "../plots/uber/hourly/hour_vs_base_passenger_fare.png\n",
      "../plots/uber/hourly/hour_vs_tolls.png\n",
      "../plots/uber/hourly/hour_vs_bcf.png\n",
      "../plots/uber/hourly/hour_vs_sales_tax.png\n",
      "../plots/uber/hourly/hour_vs_congestion_surcharge.png\n",
      "../plots/uber/hourly/hour_vs_airport_fee.png\n",
      "../plots/uber/hourly/hour_vs_tips.png\n",
      "../plots/uber/hourly/hour_vs_driver_pay.png\n",
      "../plots/uber/hourly/hour_vs_total_amount.png\n",
      "../plots/uber/hourly/hour_vs_waiting_time.png\n",
      "../plots/uber/hourly/hour_vs_fare_per_miles.png\n"
     ]
    }
   ],
   "metadata": {}
  },
  {
   "cell_type": "code",
   "execution_count": 16,
   "source": [
    "# Write curated dataset\n",
    "scripts.clean_base.write_data(unioned_df, \"../data/curated/uber/uber.parquet\")"
   ],
   "outputs": [
    {
     "output_type": "stream",
     "name": "stderr",
     "text": []
    }
   ],
   "metadata": {}
  }
 ],
 "metadata": {
  "orig_nbformat": 4,
  "language_info": {
   "name": "python",
   "version": "3.11.7",
   "mimetype": "text/x-python",
   "codemirror_mode": {
    "name": "ipython",
    "version": 3
   },
   "pygments_lexer": "ipython3",
   "nbconvert_exporter": "python",
   "file_extension": ".py"
  },
  "kernelspec": {
   "name": "python3",
   "display_name": "Python 3.11.7 64-bit ('base': conda)"
  },
  "interpreter": {
   "hash": "dca0ade3e726a953b501b15e8e990130d2b7799f14cfd9f4271676035ebe5511"
  }
 },
 "nbformat": 4,
 "nbformat_minor": 2
}