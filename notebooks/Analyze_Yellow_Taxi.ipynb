{
 "cells": [
  {
   "cell_type": "code",
   "execution_count": 1,
   "source": [
    "# Adjust Python path within the notebook\n",
    "import sys\n",
    "project_root = '/Users/thangnguyen/Documents/GitHub/project-1-individual-knam2609'\n",
    "if project_root not in sys.path:\n",
    "    sys.path.insert(0, project_root)\n",
    "\n",
    "import scripts"
   ],
   "outputs": [],
   "metadata": {}
  },
  {
   "cell_type": "code",
   "execution_count": 2,
   "source": [
    "import matplotlib.pyplot as plt\n",
    "import seaborn as sb\n",
    "import pandas\n",
    "import os"
   ],
   "outputs": [],
   "metadata": {}
  },
  {
   "cell_type": "code",
   "execution_count": 3,
   "source": [
    "# Create SparkSession\n",
    "spark = scripts.clean_base.create_spark_session()"
   ],
   "outputs": [
    {
     "output_type": "stream",
     "name": "stderr",
     "text": [
      "24/08/27 17:10:34 WARN Utils: Your hostname, THANGs-MacBook-Air.local resolves to a loopback address: 127.0.0.1; using 100.86.89.69 instead (on interface en0)\n",
      "24/08/27 17:10:34 WARN Utils: Set SPARK_LOCAL_IP if you need to bind to another address\n",
      "Setting default log level to \"WARN\".\n",
      "To adjust logging level use sc.setLogLevel(newLevel). For SparkR, use setLogLevel(newLevel).\n",
      "24/08/27 17:10:35 WARN NativeCodeLoader: Unable to load native-hadoop library for your platform... using builtin-java classes where applicable\n"
     ]
    }
   ],
   "metadata": {}
  },
  {
   "cell_type": "code",
   "execution_count": 4,
   "source": [
    "# Create directories for plots\n",
    "scripts.download.make_directories([\"../plots/\"], [\"yellow\"])"
   ],
   "outputs": [],
   "metadata": {}
  },
  {
   "cell_type": "code",
   "execution_count": 5,
   "source": [
    "# Create directories for plots\n",
    "scripts.download.make_directories([\"../plots/yellow/\"], [\"correlation\", \"histogram\", \"daily\", \"hourly\"])"
   ],
   "outputs": [],
   "metadata": {}
  },
  {
   "cell_type": "code",
   "execution_count": 6,
   "source": [
    "yellow_files = scripts.clean_base.list_parquet_directories(\"../data/raw/yellow/\")\n",
    "yellow_dfs = [spark.read.parquet(file) for file in yellow_files]"
   ],
   "outputs": [],
   "metadata": {}
  },
  {
   "cell_type": "code",
   "execution_count": 7,
   "source": [
    "yellow_files"
   ],
   "outputs": [
    {
     "output_type": "execute_result",
     "data": {
      "text/plain": [
       "['../data/raw/yellow/2023-08.parquet',\n",
       " '../data/raw/yellow/2023-11.parquet',\n",
       " '../data/raw/yellow/2023-10.parquet',\n",
       " '../data/raw/yellow/2023-09.parquet',\n",
       " '../data/raw/yellow/2023-06.parquet',\n",
       " '../data/raw/yellow/2023-07.parquet']"
      ]
     },
     "metadata": {},
     "execution_count": 7
    }
   ],
   "metadata": {}
  },
  {
   "cell_type": "code",
   "execution_count": 8,
   "source": [
    "# Extract the schema from the existing DataFrame\n",
    "schema = yellow_dfs[0].schema\n",
    "\n",
    "# Create an empty DataFrame using the extracted schema\n",
    "unioned_df = spark.createDataFrame([], schema)\n",
    "\n",
    "unioned_df # merge sub-sample of every datasets"
   ],
   "outputs": [
    {
     "output_type": "execute_result",
     "data": {
      "text/plain": [
       "+--------+---------------+----------------+---------------+-------------+----------+------------+------------+------------+-----------+-----+-------+----------+------------+---------------------+------------+--------------------+-----------+---------+--------------+\n",
       "|VendorID|pickup_datetime|dropoff_datetime|passenger_count|trip_distance|RatecodeID|PULocationID|DOLocationID|payment_type|fare_amount|extra|mta_tax|tip_amount|tolls_amount|improvement_surcharge|total_amount|congestion_surcharge|airport_fee|trip_time|fare_per_miles|\n",
       "+--------+---------------+----------------+---------------+-------------+----------+------------+------------+------------+-----------+-----+-------+----------+------------+---------------------+------------+--------------------+-----------+---------+--------------+\n",
       "+--------+---------------+----------------+---------------+-------------+----------+------------+------------+------------+-----------+-----+-------+----------+------------+---------------------+------------+--------------------+-----------+---------+--------------+"
      ],
      "text/html": [
       "<table border='1'>\n",
       "<tr><th>VendorID</th><th>pickup_datetime</th><th>dropoff_datetime</th><th>passenger_count</th><th>trip_distance</th><th>RatecodeID</th><th>PULocationID</th><th>DOLocationID</th><th>payment_type</th><th>fare_amount</th><th>extra</th><th>mta_tax</th><th>tip_amount</th><th>tolls_amount</th><th>improvement_surcharge</th><th>total_amount</th><th>congestion_surcharge</th><th>airport_fee</th><th>trip_time</th><th>fare_per_miles</th></tr>\n",
       "</table>\n"
      ]
     },
     "metadata": {},
     "execution_count": 8
    }
   ],
   "metadata": {}
  },
  {
   "cell_type": "code",
   "execution_count": 9,
   "source": [
    "# Plotting correlation heatmaps of every datasets\n",
    "for df in yellow_dfs:\n",
    "    file_path = yellow_files[yellow_dfs.index(df)]\n",
    "    # Extract the base name of the file\n",
    "    file_name = os.path.basename(file_path)\n",
    "    # Remove the file extension to get only the date part\n",
    "    date_part = os.path.splitext(file_name)[0]\n",
    "    print(date_part)\n",
    "    scripts.manipulate_data.find_min_max_df(df, scripts.clean_yellow.COLUMNS).show()\n",
    "    print(df.count())\n",
    "    df = scripts.clean_base.sampling_data(df, \"VendorID\", 0.1)\n",
    "    print(df.count())\n",
    "    unioned_df = unioned_df.union(df)\n",
    "    scripts.plot_data.plot_correlation_heatmap(df, scripts.clean_yellow.COLUMNS, \"yellow\", \"../plots/yellow/correlation/\", date_part)"
   ],
   "outputs": [
    {
     "output_type": "stream",
     "name": "stdout",
     "text": [
      "2023-08\n"
     ]
    },
    {
     "output_type": "stream",
     "name": "stderr",
     "text": []
    },
    {
     "output_type": "stream",
     "name": "stdout",
     "text": [
      "+--------------------+--------------------+------------------+\n",
      "|              Column|                 Min|               Max|\n",
      "+--------------------+--------------------+------------------+\n",
      "|     passenger_count|                 1.0|               9.0|\n",
      "|       trip_distance|                0.01|            373.51|\n",
      "|         fare_amount|                 0.0|            1375.0|\n",
      "|               extra|                 0.0|             14.25|\n",
      "|             mta_tax|                 0.0|               4.0|\n",
      "|          tip_amount|                 0.0|            234.88|\n",
      "|        tolls_amount|                 0.0|             87.75|\n",
      "|improvement_surch...|                 0.0|               1.0|\n",
      "|        total_amount|                 0.0|           1435.19|\n",
      "|congestion_surcharge|                 0.0|               2.5|\n",
      "|         airport_fee|                 0.0|              1.75|\n",
      "|           trip_time|0.016666666666666666|            749.35|\n",
      "|      fare_per_miles|                 0.0|38.909090909090914|\n",
      "+--------------------+--------------------+------------------+\n",
      "\n",
      "2579643\n",
      "257850\n",
      "../plots/yellow/correlation/2023-08.png\n",
      "2023-11\n",
      "+--------------------+--------------------+-----------------+\n",
      "|              Column|                 Min|              Max|\n",
      "+--------------------+--------------------+-----------------+\n",
      "|     passenger_count|                 1.0|              9.0|\n",
      "|       trip_distance|                0.01|           323.47|\n",
      "|         fare_amount|                 0.0|           1726.6|\n",
      "|               extra|                 0.0|            14.25|\n",
      "|             mta_tax|                 0.0|              4.0|\n",
      "|          tip_amount|                 0.0|            350.0|\n",
      "|        tolls_amount|                 0.0|            78.59|\n",
      "|improvement_surch...|                 0.0|              1.0|\n",
      "|        total_amount|                 0.0|          1736.29|\n",
      "|congestion_surcharge|                 0.0|              2.5|\n",
      "|         airport_fee|                 0.0|             1.75|\n",
      "|           trip_time|0.016666666666666666|            749.8|\n",
      "|      fare_per_miles|                 0.0|42.44897959183674|\n",
      "+--------------------+--------------------+-----------------+\n",
      "\n",
      "3031146\n",
      "303396\n",
      "../plots/yellow/correlation/2023-11.png\n",
      "2023-10\n"
     ]
    },
    {
     "output_type": "stream",
     "name": "stderr",
     "text": [
      "24/08/27 17:10:47 WARN GarbageCollectionMetrics: To enable non-built-in garbage collector(s) List(G1 Concurrent GC), users should configure it(them) to spark.eventLog.gcMetrics.youngGenerationGarbageCollectors or spark.eventLog.gcMetrics.oldGenerationGarbageCollectors\n"
     ]
    },
    {
     "output_type": "stream",
     "name": "stdout",
     "text": [
      "+--------------------+--------------------+------------------+\n",
      "|              Column|                 Min|               Max|\n",
      "+--------------------+--------------------+------------------+\n",
      "|     passenger_count|                 1.0|               9.0|\n",
      "|       trip_distance|                0.08|            281.76|\n",
      "|         fare_amount|                 0.0|            1916.8|\n",
      "|               extra|                 0.0|             14.25|\n",
      "|             mta_tax|                 0.0|               4.0|\n",
      "|          tip_amount|                 0.0|             240.0|\n",
      "|        tolls_amount|                 0.0|             100.0|\n",
      "|improvement_surch...|                 0.0|               1.0|\n",
      "|        total_amount|                 0.0|           1939.55|\n",
      "|congestion_surcharge|                 0.0|               2.5|\n",
      "|         airport_fee|                 0.0|              1.75|\n",
      "|           trip_time|0.016666666666666666|            747.55|\n",
      "|      fare_per_miles|                 0.0|44.734042553191486|\n",
      "+--------------------+--------------------+------------------+\n",
      "\n",
      "3188335\n",
      "319334\n",
      "../plots/yellow/correlation/2023-10.png\n",
      "2023-09\n",
      "+--------------------+--------------------+-----------------+\n",
      "|              Column|                 Min|              Max|\n",
      "+--------------------+--------------------+-----------------+\n",
      "|     passenger_count|                 1.0|              9.0|\n",
      "|       trip_distance|                0.06|           223.81|\n",
      "|         fare_amount|                 0.0|           1287.5|\n",
      "|               extra|                 0.0|            14.25|\n",
      "|             mta_tax|                 0.0|              4.0|\n",
      "|          tip_amount|                 0.0|            220.0|\n",
      "|        tolls_amount|                 0.0|           121.83|\n",
      "|improvement_surch...|                 0.0|              1.0|\n",
      "|        total_amount|                 0.0|           1289.5|\n",
      "|congestion_surcharge|                 0.0|              2.5|\n",
      "|         airport_fee|                 0.0|             1.75|\n",
      "|           trip_time|0.016666666666666666|746.7333333333333|\n",
      "|      fare_per_miles|                 0.0|42.44897959183674|\n",
      "+--------------------+--------------------+-----------------+\n",
      "\n",
      "2553651\n",
      "255097\n",
      "../plots/yellow/correlation/2023-09.png\n",
      "2023-06\n",
      "+--------------------+--------------------+-----------------+\n",
      "|              Column|                 Min|              Max|\n",
      "+--------------------+--------------------+-----------------+\n",
      "|     passenger_count|                 1.0|              9.0|\n",
      "|       trip_distance|                0.01|           401.56|\n",
      "|         fare_amount|                 0.0|            999.0|\n",
      "|               extra|                 0.0|            14.25|\n",
      "|             mta_tax|                 0.0|             5.75|\n",
      "|          tip_amount|                 0.0|            240.0|\n",
      "|        tolls_amount|                 0.0|             96.9|\n",
      "|improvement_surch...|                 0.0|              1.0|\n",
      "|        total_amount|                 0.0|          1239.95|\n",
      "|congestion_surcharge|                 0.0|              2.5|\n",
      "|         airport_fee|                 0.0|             1.75|\n",
      "|           trip_time|0.016666666666666666|            748.7|\n",
      "|      fare_per_miles|                 0.0|43.55555555555555|\n",
      "+--------------------+--------------------+-----------------+\n",
      "\n",
      "3041570\n",
      "304611\n",
      "../plots/yellow/correlation/2023-06.png\n",
      "2023-07\n",
      "+--------------------+--------------------+-----------------+\n",
      "|              Column|                 Min|              Max|\n",
      "+--------------------+--------------------+-----------------+\n",
      "|     passenger_count|                 1.0|              9.0|\n",
      "|       trip_distance|                0.01|           421.69|\n",
      "|         fare_amount|                 0.0|           1040.4|\n",
      "|               extra|                 0.0|            14.25|\n",
      "|             mta_tax|                 0.0|              4.0|\n",
      "|          tip_amount|                 0.0|            418.2|\n",
      "|        tolls_amount|                 0.0|           114.55|\n",
      "|improvement_surch...|                 0.0|              1.0|\n",
      "|        total_amount|                 0.0|          1079.45|\n",
      "|congestion_surcharge|                 0.0|             2.75|\n",
      "|         airport_fee|                 0.0|             1.75|\n",
      "|           trip_time|0.016666666666666666|747.6666666666666|\n",
      "|      fare_per_miles|                 0.0|             44.1|\n",
      "+--------------------+--------------------+-----------------+\n",
      "\n",
      "2673818\n",
      "267716\n",
      "../plots/yellow/correlation/2023-07.png\n"
     ]
    }
   ],
   "metadata": {}
  },
  {
   "cell_type": "code",
   "execution_count": 10,
   "source": [
    "unioned_df.count()"
   ],
   "outputs": [
    {
     "output_type": "stream",
     "name": "stderr",
     "text": []
    },
    {
     "output_type": "execute_result",
     "data": {
      "text/plain": [
       "1708004"
      ]
     },
     "metadata": {},
     "execution_count": 10
    }
   ],
   "metadata": {}
  },
  {
   "cell_type": "code",
   "execution_count": 13,
   "source": [
    "# Plotting distribution of each continous columns\n",
    "for col in scripts.clean_yellow.COLUMNS:\n",
    "    scripts.plot_data.plot_histogram(unioned_df, col, \"yellow\", \"../plots/yellow/histogram/\", 50)"
   ],
   "outputs": [
    {
     "output_type": "stream",
     "name": "stderr",
     "text": []
    },
    {
     "output_type": "stream",
     "name": "stdout",
     "text": [
      "0 16\n",
      "../plots/yellow/histogram/passenger_count_histogram.png\n"
     ]
    },
    {
     "output_type": "stream",
     "name": "stderr",
     "text": []
    },
    {
     "output_type": "stream",
     "name": "stdout",
     "text": [
      "0 63.64\n",
      "../plots/yellow/histogram/trip_distance_histogram.png\n",
      "0.0 328.7\n",
      "../plots/yellow/histogram/fare_amount_histogram.png\n",
      "0.0 21.75\n",
      "../plots/yellow/histogram/extra_histogram.png\n",
      "0.0 10.5\n",
      "../plots/yellow/histogram/mta_tax_histogram.png\n",
      "0.0 60.0\n",
      "../plots/yellow/histogram/tip_amount_histogram.png\n",
      "0.0 46.05\n",
      "../plots/yellow/histogram/tolls_amount_histogram.png\n",
      "0 11.0\n",
      "../plots/yellow/histogram/improvement_surcharge_histogram.png\n",
      "0 351.05\n",
      "../plots/yellow/histogram/total_amount_histogram.png\n",
      "0.0 12.5\n",
      "../plots/yellow/histogram/congestion_surcharge_histogram.png\n",
      "0.0 11.75\n",
      "../plots/yellow/histogram/airport_fee_histogram.png\n",
      "0 159.48333333333332\n",
      "../plots/yellow/histogram/trip_time_histogram.png\n",
      "0 54.0\n",
      "../plots/yellow/histogram/fare_per_miles_histogram.png\n"
     ]
    }
   ],
   "metadata": {}
  },
  {
   "cell_type": "markdown",
   "source": [
    "Plotting continuous columns against time series like days and hours"
   ],
   "metadata": {}
  },
  {
   "cell_type": "code",
   "execution_count": 14,
   "source": [
    "from pyspark.sql.functions import avg, to_date, hour\n",
    "\n",
    "# Convert timestamp to date\n",
    "for_plot_df = unioned_df.withColumn(\"pickup_date\", to_date(unioned_df[\"pickup_datetime\"]))"
   ],
   "outputs": [],
   "metadata": {}
  },
  {
   "cell_type": "code",
   "execution_count": 15,
   "source": [
    "# Daily\n",
    "for col in scripts.clean_yellow.COLUMNS:\n",
    "    # Group by date and calculate average\n",
    "    average_df = for_plot_df.groupBy(\"pickup_date\").agg(avg(col).alias(col))\n",
    "    scripts.plot_data.scatter_plot(average_df, \"pickup_date\", col, \"yellow\", \"../plots/yellow/daily/\")"
   ],
   "outputs": [
    {
     "output_type": "stream",
     "name": "stderr",
     "text": []
    },
    {
     "output_type": "stream",
     "name": "stdout",
     "text": [
      "../plots/yellow/daily/pickup_date_vs_passenger_count_histogram.png\n"
     ]
    },
    {
     "output_type": "stream",
     "name": "stderr",
     "text": []
    },
    {
     "output_type": "stream",
     "name": "stdout",
     "text": [
      "../plots/yellow/daily/pickup_date_vs_trip_distance_histogram.png\n",
      "../plots/yellow/daily/pickup_date_vs_fare_amount_histogram.png\n",
      "../plots/yellow/daily/pickup_date_vs_extra_histogram.png\n",
      "../plots/yellow/daily/pickup_date_vs_mta_tax_histogram.png\n",
      "../plots/yellow/daily/pickup_date_vs_tip_amount_histogram.png\n",
      "../plots/yellow/daily/pickup_date_vs_tolls_amount_histogram.png\n",
      "../plots/yellow/daily/pickup_date_vs_improvement_surcharge_histogram.png\n",
      "../plots/yellow/daily/pickup_date_vs_total_amount_histogram.png\n",
      "../plots/yellow/daily/pickup_date_vs_congestion_surcharge_histogram.png\n",
      "../plots/yellow/daily/pickup_date_vs_airport_fee_histogram.png\n",
      "../plots/yellow/daily/pickup_date_vs_trip_time_histogram.png\n",
      "../plots/yellow/daily/pickup_date_vs_fare_per_miles_histogram.png\n"
     ]
    }
   ],
   "metadata": {}
  },
  {
   "cell_type": "code",
   "execution_count": 16,
   "source": [
    "# Hourly\n",
    "for col in scripts.clean_yellow.COLUMNS:\n",
    "    # Extract hour from timestamp and group by it\n",
    "    hourly_avg_df = df.groupBy(hour(df[\"pickup_datetime\"]).alias(\"hour\")).agg(avg(col).alias(col))\n",
    "    scripts.plot_data.scatter_plot(hourly_avg_df, \"hour\", col, \"yellow\", \"../plots/yellow/hourly/\")"
   ],
   "outputs": [
    {
     "output_type": "stream",
     "name": "stdout",
     "text": [
      "../plots/yellow/hourly/hour_vs_passenger_count_histogram.png\n",
      "../plots/yellow/hourly/hour_vs_trip_distance_histogram.png\n",
      "../plots/yellow/hourly/hour_vs_fare_amount_histogram.png\n",
      "../plots/yellow/hourly/hour_vs_extra_histogram.png\n",
      "../plots/yellow/hourly/hour_vs_mta_tax_histogram.png\n",
      "../plots/yellow/hourly/hour_vs_tip_amount_histogram.png\n",
      "../plots/yellow/hourly/hour_vs_tolls_amount_histogram.png\n",
      "../plots/yellow/hourly/hour_vs_improvement_surcharge_histogram.png\n",
      "../plots/yellow/hourly/hour_vs_total_amount_histogram.png\n",
      "../plots/yellow/hourly/hour_vs_congestion_surcharge_histogram.png\n",
      "../plots/yellow/hourly/hour_vs_airport_fee_histogram.png\n",
      "../plots/yellow/hourly/hour_vs_trip_time_histogram.png\n",
      "../plots/yellow/hourly/hour_vs_fare_per_miles_histogram.png\n"
     ]
    }
   ],
   "metadata": {}
  },
  {
   "cell_type": "markdown",
   "source": [
    "Compare average values of continuous columns grouped by categorical columns"
   ],
   "metadata": {}
  },
  {
   "cell_type": "code",
   "execution_count": 17,
   "source": [
    "print(\"Grouped by: VendorID\")\n",
    "print(scripts.manipulate_data.group_by_and_avg(unioned_df, \"VendorID\", scripts.clean_yellow.COLUMNS).sort_values(\"VendorID\"))"
   ],
   "outputs": [
    {
     "output_type": "stream",
     "name": "stdout",
     "text": [
      "Grouped by: VendorID\n"
     ]
    },
    {
     "output_type": "stream",
     "name": "stderr",
     "text": [
      "24/08/27 17:12:25 WARN SparkStringUtils: Truncated the string representation of a plan since it was too large. This behavior can be adjusted by setting 'spark.sql.debug.maxToStringFields'.\n"
     ]
    },
    {
     "output_type": "stream",
     "name": "stdout",
     "text": [
      "   VendorID  average_passenger_count  average_trip_distance  \\\n",
      "0         1                 1.312069               3.299226   \n",
      "1         2                 1.416706               3.671397   \n",
      "\n",
      "   average_fare_amount  average_extra  average_mta_tax  average_tip_amount  \\\n",
      "0            18.820487       3.474262         0.496337            3.435488   \n",
      "1            20.525597       1.054442         0.496892            3.750970   \n",
      "\n",
      "   average_tolls_amount  average_improvement_surcharge  average_total_amount  \\\n",
      "0              0.541342                       0.999846             27.767762   \n",
      "1              0.659615                       0.999855             29.993017   \n",
      "\n",
      "   average_congestion_surcharge  average_airport_fee  average_trip_time  \\\n",
      "0                      2.352291             0.134324          16.619489   \n",
      "1                      2.325042             0.175706          17.058816   \n",
      "\n",
      "   average_fare_per_miles  \n",
      "0               12.869774  \n",
      "1               12.537151  \n"
     ]
    },
    {
     "output_type": "stream",
     "name": "stderr",
     "text": []
    }
   ],
   "metadata": {}
  },
  {
   "cell_type": "code",
   "execution_count": 18,
   "source": [
    "print(\"Grouped by: RateCodeID\")\n",
    "print(scripts.manipulate_data.group_by_and_avg(unioned_df, \"RateCodeID\", scripts.clean_yellow.COLUMNS).sort_values(\"RateCodeID\"))"
   ],
   "outputs": [
    {
     "output_type": "stream",
     "name": "stdout",
     "text": [
      "Grouped by: RateCodeID\n"
     ]
    },
    {
     "output_type": "stream",
     "name": "stderr",
     "text": []
    },
    {
     "output_type": "stream",
     "name": "stdout",
     "text": [
      "   RateCodeID  average_passenger_count  average_trip_distance  \\\n",
      "1           1                 1.381342               2.834701   \n",
      "3           2                 1.598835              18.343341   \n",
      "2           3                 1.702873              18.231540   \n",
      "4           4                 1.452302              20.786796   \n",
      "0           5                 1.738462              16.177332   \n",
      "5           6                 1.000000               1.910000   \n",
      "\n",
      "   average_fare_amount  average_extra  average_mta_tax  average_tip_amount  \\\n",
      "1            17.344789       1.626313         0.499667            3.282739   \n",
      "3            69.987555       1.642185         0.499691           11.189631   \n",
      "2            93.829932       0.699369         0.000088           14.598870   \n",
      "4           113.288087       1.941742         0.404212           11.970947   \n",
      "0            93.667134       0.708409         0.053585           10.840183   \n",
      "5             5.500000       0.000000         0.500000            0.000000   \n",
      "\n",
      "   average_tolls_amount  average_improvement_surcharge  average_total_amount  \\\n",
      "1              0.336284                       0.999856             25.977381   \n",
      "3              5.703600                       0.999891             92.875399   \n",
      "2             16.761281                       0.999650            127.087200   \n",
      "4              5.000928                       1.000000            134.878282   \n",
      "0              6.277601                       0.997914            113.539090   \n",
      "5              0.000000                       1.000000              7.750000   \n",
      "\n",
      "   average_congestion_surcharge  average_airport_fee  average_trip_time  \\\n",
      "1                      2.350792             0.116757          15.250218   \n",
      "3                      2.291792             1.243983          52.308596   \n",
      "2                      0.000000             0.168623          43.209095   \n",
      "4                      0.207048             1.343854          43.008278   \n",
      "0                      0.643416             0.431226          39.027779   \n",
      "5                      0.750000             0.000000          16.700000   \n",
      "\n",
      "   average_fare_per_miles  \n",
      "1               12.966802  \n",
      "3                5.236459  \n",
      "2                7.398064  \n",
      "4                6.829375  \n",
      "0                9.867940  \n",
      "5                4.057592  \n"
     ]
    },
    {
     "output_type": "stream",
     "name": "stderr",
     "text": []
    }
   ],
   "metadata": {}
  },
  {
   "cell_type": "code",
   "execution_count": 19,
   "source": [
    "print(\"Grouped by: payment_type\")\n",
    "print(scripts.manipulate_data.group_by_and_avg(unioned_df, \"payment_type\", scripts.clean_yellow.COLUMNS).sort_values(\"payment_type\"))"
   ],
   "outputs": [
    {
     "output_type": "stream",
     "name": "stdout",
     "text": [
      "Grouped by: payment_type\n"
     ]
    },
    {
     "output_type": "stream",
     "name": "stderr",
     "text": []
    },
    {
     "output_type": "stream",
     "name": "stdout",
     "text": [
      "   payment_type  average_passenger_count  average_trip_distance  \\\n",
      "0             1                 1.375165               3.556356   \n",
      "2             2                 1.476275               3.700738   \n",
      "1             3                 1.357743               3.530686   \n",
      "3             4                 1.336254               4.008562   \n",
      "\n",
      "   average_fare_amount  average_extra  average_mta_tax  average_tip_amount  \\\n",
      "0            20.030567       1.650772         0.496879            4.488600   \n",
      "2            20.543364       1.482530         0.496578            0.000303   \n",
      "1            18.854325       2.446852         0.488324            0.005143   \n",
      "3            21.615002       1.365514         0.491021            0.030379   \n",
      "\n",
      "   average_tolls_amount  average_improvement_surcharge  average_total_amount  \\\n",
      "0              0.639501                       0.999898             30.244419   \n",
      "2              0.594279                       0.999822             25.950843   \n",
      "1              0.567162                       0.996264             24.136419   \n",
      "3              0.684817                       0.996790             27.214776   \n",
      "\n",
      "   average_congestion_surcharge  average_airport_fee  average_trip_time  \\\n",
      "0                      2.361569             0.157655          16.874879   \n",
      "2                      2.198111             0.203104          17.362031   \n",
      "1                      2.124043             0.196479          15.808220   \n",
      "3                      2.149519             0.223020          16.997173   \n",
      "\n",
      "   average_fare_per_miles  \n",
      "0               12.858759  \n",
      "2               11.482379  \n",
      "1               12.477734  \n",
      "3               11.830308  \n"
     ]
    },
    {
     "output_type": "stream",
     "name": "stderr",
     "text": []
    }
   ],
   "metadata": {}
  },
  {
   "cell_type": "code",
   "execution_count": 20,
   "source": [
    "# Write curated dataset\n",
    "scripts.clean_base.write_data(unioned_df, \"../data/curated/yellow/yellow.parquet\")"
   ],
   "outputs": [
    {
     "output_type": "stream",
     "name": "stderr",
     "text": []
    }
   ],
   "metadata": {}
  }
 ],
 "metadata": {
  "orig_nbformat": 4,
  "language_info": {
   "name": "python",
   "version": "3.11.7",
   "mimetype": "text/x-python",
   "codemirror_mode": {
    "name": "ipython",
    "version": 3
   },
   "pygments_lexer": "ipython3",
   "nbconvert_exporter": "python",
   "file_extension": ".py"
  },
  "kernelspec": {
   "name": "python3",
   "display_name": "Python 3.11.7 64-bit ('base': conda)"
  },
  "interpreter": {
   "hash": "dca0ade3e726a953b501b15e8e990130d2b7799f14cfd9f4271676035ebe5511"
  }
 },
 "nbformat": 4,
 "nbformat_minor": 2
}