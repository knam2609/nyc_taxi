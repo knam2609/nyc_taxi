{
 "cells": [
  {
   "cell_type": "code",
   "execution_count": 1,
   "source": [
    "# Adjust Python path within the notebook\n",
    "import sys\n",
    "project_root = '/Users/thangnguyen/Documents/GitHub/project-1-individual-knam2609'\n",
    "if project_root not in sys.path:\n",
    "    sys.path.insert(0, project_root)\n",
    "\n",
    "import scripts"
   ],
   "outputs": [],
   "metadata": {}
  },
  {
   "cell_type": "code",
   "execution_count": 2,
   "source": [
    "import matplotlib.pyplot as plt\n",
    "import seaborn as sb\n",
    "import pandas\n",
    "import os"
   ],
   "outputs": [],
   "metadata": {}
  },
  {
   "cell_type": "code",
   "execution_count": 3,
   "source": [
    "# Create SparkSession\n",
    "spark = scripts.clean_base.create_spark_session()"
   ],
   "outputs": [
    {
     "output_type": "stream",
     "name": "stderr",
     "text": [
      "24/08/28 17:00:58 WARN Utils: Your hostname, THANGs-MacBook-Air.local resolves to a loopback address: 127.0.0.1; using 100.86.89.69 instead (on interface en0)\n",
      "24/08/28 17:00:58 WARN Utils: Set SPARK_LOCAL_IP if you need to bind to another address\n",
      "Setting default log level to \"WARN\".\n",
      "To adjust logging level use sc.setLogLevel(newLevel). For SparkR, use setLogLevel(newLevel).\n",
      "24/08/28 17:00:58 WARN NativeCodeLoader: Unable to load native-hadoop library for your platform... using builtin-java classes where applicable\n"
     ]
    }
   ],
   "metadata": {}
  },
  {
   "cell_type": "code",
   "execution_count": 4,
   "source": [
    "# Create directories for plots\n",
    "scripts.download.make_directories([\"../plots/\"], [\"yellow\"])"
   ],
   "outputs": [],
   "metadata": {}
  },
  {
   "cell_type": "code",
   "execution_count": 5,
   "source": [
    "# Create directories for plots\n",
    "scripts.download.make_directories([\"../plots/yellow/\"], [\"correlation\", \"histogram\", \"daily\", \"hourly\"])"
   ],
   "outputs": [],
   "metadata": {}
  },
  {
   "cell_type": "code",
   "execution_count": 6,
   "source": [
    "yellow_files = scripts.clean_base.list_parquet_directories(\"../data/raw/yellow/\")\n",
    "yellow_dfs = [spark.read.parquet(file) for file in yellow_files]"
   ],
   "outputs": [],
   "metadata": {}
  },
  {
   "cell_type": "code",
   "execution_count": 7,
   "source": [
    "yellow_files"
   ],
   "outputs": [
    {
     "output_type": "execute_result",
     "data": {
      "text/plain": [
       "['../data/raw/yellow/2023-08.parquet',\n",
       " '../data/raw/yellow/2023-11.parquet',\n",
       " '../data/raw/yellow/2023-10.parquet',\n",
       " '../data/raw/yellow/2023-09.parquet',\n",
       " '../data/raw/yellow/2023-06.parquet',\n",
       " '../data/raw/yellow/2023-07.parquet']"
      ]
     },
     "metadata": {},
     "execution_count": 7
    }
   ],
   "metadata": {}
  },
  {
   "cell_type": "code",
   "execution_count": 8,
   "source": [
    "# Extract the schema from the existing DataFrame\n",
    "schema = yellow_dfs[0].schema\n",
    "\n",
    "# Create an empty DataFrame using the extracted schema\n",
    "unioned_df = spark.createDataFrame([], schema)\n",
    "\n",
    "unioned_df # merge sub-sample of every datasets"
   ],
   "outputs": [
    {
     "output_type": "stream",
     "name": "stderr",
     "text": []
    },
    {
     "output_type": "execute_result",
     "data": {
      "text/plain": [
       "+--------+---------------+----------------+---------------+-------------+----------+------------+------------+------------+-----------+-----+-------+----------+------------+---------------------+------------+--------------------+-----------+---------+--------------+\n",
       "|VendorID|pickup_datetime|dropoff_datetime|passenger_count|trip_distance|RatecodeID|PULocationID|DOLocationID|payment_type|fare_amount|extra|mta_tax|tip_amount|tolls_amount|improvement_surcharge|total_amount|congestion_surcharge|airport_fee|trip_time|fare_per_miles|\n",
       "+--------+---------------+----------------+---------------+-------------+----------+------------+------------+------------+-----------+-----+-------+----------+------------+---------------------+------------+--------------------+-----------+---------+--------------+\n",
       "+--------+---------------+----------------+---------------+-------------+----------+------------+------------+------------+-----------+-----+-------+----------+------------+---------------------+------------+--------------------+-----------+---------+--------------+"
      ],
      "text/html": [
       "<table border='1'>\n",
       "<tr><th>VendorID</th><th>pickup_datetime</th><th>dropoff_datetime</th><th>passenger_count</th><th>trip_distance</th><th>RatecodeID</th><th>PULocationID</th><th>DOLocationID</th><th>payment_type</th><th>fare_amount</th><th>extra</th><th>mta_tax</th><th>tip_amount</th><th>tolls_amount</th><th>improvement_surcharge</th><th>total_amount</th><th>congestion_surcharge</th><th>airport_fee</th><th>trip_time</th><th>fare_per_miles</th></tr>\n",
       "</table>\n"
      ]
     },
     "metadata": {},
     "execution_count": 8
    }
   ],
   "metadata": {}
  },
  {
   "cell_type": "code",
   "execution_count": 9,
   "source": [
    "# Plotting correlation heatmaps of every datasets\n",
    "for df in yellow_dfs:\n",
    "    file_path = yellow_files[yellow_dfs.index(df)]\n",
    "    # Extract the base name of the file\n",
    "    file_name = os.path.basename(file_path)\n",
    "    # Remove the file extension to get only the date part\n",
    "    date_part = os.path.splitext(file_name)[0]\n",
    "    print(date_part)\n",
    "    scripts.manipulate_data.find_min_max_df(df, scripts.clean_yellow.COLUMNS).show()\n",
    "    print(df.count())\n",
    "    df = scripts.clean_base.sampling_data(df, \"VendorID\", 0.1)\n",
    "    print(df.count())\n",
    "    unioned_df = unioned_df.union(df)\n",
    "    scripts.plot_data.plot_correlation_heatmap(df, scripts.clean_yellow.COLUMNS, \"yellow\", \"../plots/yellow/correlation/\", date_part)"
   ],
   "outputs": [
    {
     "output_type": "stream",
     "name": "stdout",
     "text": [
      "2023-08\n"
     ]
    },
    {
     "output_type": "stream",
     "name": "stderr",
     "text": []
    },
    {
     "output_type": "stream",
     "name": "stdout",
     "text": [
      "+--------------------+--------------------+------------------+\n",
      "|              Column|                 Min|               Max|\n",
      "+--------------------+--------------------+------------------+\n",
      "|     passenger_count|                 1.0|               9.0|\n",
      "|       trip_distance|                0.01|            373.51|\n",
      "|         fare_amount|                 0.0|            1375.0|\n",
      "|               extra|                 0.0|             14.25|\n",
      "|             mta_tax|                 0.0|               4.0|\n",
      "|          tip_amount|                 0.0|            234.88|\n",
      "|        tolls_amount|                 0.0|             87.75|\n",
      "|improvement_surch...|                 0.0|               1.0|\n",
      "|        total_amount|                 0.0|           1435.19|\n",
      "|congestion_surcharge|                 0.0|               2.5|\n",
      "|         airport_fee|                 0.0|              1.75|\n",
      "|           trip_time|0.016666666666666666|            749.35|\n",
      "|      fare_per_miles|                 0.0|38.909090909090914|\n",
      "+--------------------+--------------------+------------------+\n",
      "\n",
      "2579643\n",
      "257850\n",
      "../plots/yellow/correlation/2023-08.png\n",
      "2023-11\n",
      "+--------------------+--------------------+-----------------+\n",
      "|              Column|                 Min|              Max|\n",
      "+--------------------+--------------------+-----------------+\n",
      "|     passenger_count|                 1.0|              9.0|\n",
      "|       trip_distance|                0.01|           323.47|\n",
      "|         fare_amount|                 0.0|           1726.6|\n",
      "|               extra|                 0.0|            14.25|\n",
      "|             mta_tax|                 0.0|              4.0|\n",
      "|          tip_amount|                 0.0|            350.0|\n",
      "|        tolls_amount|                 0.0|            78.59|\n",
      "|improvement_surch...|                 0.0|              1.0|\n",
      "|        total_amount|                 0.0|          1736.29|\n",
      "|congestion_surcharge|                 0.0|              2.5|\n",
      "|         airport_fee|                 0.0|             1.75|\n",
      "|           trip_time|0.016666666666666666|            749.8|\n",
      "|      fare_per_miles|                 0.0|42.44897959183674|\n",
      "+--------------------+--------------------+-----------------+\n",
      "\n",
      "3031146\n",
      "303405\n"
     ]
    },
    {
     "output_type": "stream",
     "name": "stderr",
     "text": [
      "24/08/28 17:01:11 WARN GarbageCollectionMetrics: To enable non-built-in garbage collector(s) List(G1 Concurrent GC), users should configure it(them) to spark.eventLog.gcMetrics.youngGenerationGarbageCollectors or spark.eventLog.gcMetrics.oldGenerationGarbageCollectors\n"
     ]
    },
    {
     "output_type": "stream",
     "name": "stdout",
     "text": [
      "../plots/yellow/correlation/2023-11.png\n",
      "2023-10\n",
      "+--------------------+--------------------+------------------+\n",
      "|              Column|                 Min|               Max|\n",
      "+--------------------+--------------------+------------------+\n",
      "|     passenger_count|                 1.0|               9.0|\n",
      "|       trip_distance|                0.08|            281.76|\n",
      "|         fare_amount|                 0.0|            1916.8|\n",
      "|               extra|                 0.0|             14.25|\n",
      "|             mta_tax|                 0.0|               4.0|\n",
      "|          tip_amount|                 0.0|             240.0|\n",
      "|        tolls_amount|                 0.0|             100.0|\n",
      "|improvement_surch...|                 0.0|               1.0|\n",
      "|        total_amount|                 0.0|           1939.55|\n",
      "|congestion_surcharge|                 0.0|               2.5|\n",
      "|         airport_fee|                 0.0|              1.75|\n",
      "|           trip_time|0.016666666666666666|            747.55|\n",
      "|      fare_per_miles|                 0.0|44.734042553191486|\n",
      "+--------------------+--------------------+------------------+\n",
      "\n",
      "3188335\n",
      "319334\n",
      "../plots/yellow/correlation/2023-10.png\n",
      "2023-09\n",
      "+--------------------+--------------------+-----------------+\n",
      "|              Column|                 Min|              Max|\n",
      "+--------------------+--------------------+-----------------+\n",
      "|     passenger_count|                 1.0|              9.0|\n",
      "|       trip_distance|                0.06|           223.81|\n",
      "|         fare_amount|                 0.0|           1287.5|\n",
      "|               extra|                 0.0|            14.25|\n",
      "|             mta_tax|                 0.0|              4.0|\n",
      "|          tip_amount|                 0.0|            220.0|\n",
      "|        tolls_amount|                 0.0|           121.83|\n",
      "|improvement_surch...|                 0.0|              1.0|\n",
      "|        total_amount|                 0.0|           1289.5|\n",
      "|congestion_surcharge|                 0.0|              2.5|\n",
      "|         airport_fee|                 0.0|             1.75|\n",
      "|           trip_time|0.016666666666666666|746.7333333333333|\n",
      "|      fare_per_miles|                 0.0|42.44897959183674|\n",
      "+--------------------+--------------------+-----------------+\n",
      "\n",
      "2553651\n",
      "255252\n",
      "../plots/yellow/correlation/2023-09.png\n",
      "2023-06\n",
      "+--------------------+--------------------+-----------------+\n",
      "|              Column|                 Min|              Max|\n",
      "+--------------------+--------------------+-----------------+\n",
      "|     passenger_count|                 1.0|              9.0|\n",
      "|       trip_distance|                0.01|           401.56|\n",
      "|         fare_amount|                 0.0|            999.0|\n",
      "|               extra|                 0.0|            14.25|\n",
      "|             mta_tax|                 0.0|             5.75|\n",
      "|          tip_amount|                 0.0|            240.0|\n",
      "|        tolls_amount|                 0.0|             96.9|\n",
      "|improvement_surch...|                 0.0|              1.0|\n",
      "|        total_amount|                 0.0|          1239.95|\n",
      "|congestion_surcharge|                 0.0|              2.5|\n",
      "|         airport_fee|                 0.0|             1.75|\n",
      "|           trip_time|0.016666666666666666|            748.7|\n",
      "|      fare_per_miles|                 0.0|43.55555555555555|\n",
      "+--------------------+--------------------+-----------------+\n",
      "\n",
      "3041570\n",
      "304611\n",
      "../plots/yellow/correlation/2023-06.png\n",
      "2023-07\n",
      "+--------------------+--------------------+-----------------+\n",
      "|              Column|                 Min|              Max|\n",
      "+--------------------+--------------------+-----------------+\n",
      "|     passenger_count|                 1.0|              9.0|\n",
      "|       trip_distance|                0.01|           421.69|\n",
      "|         fare_amount|                 0.0|           1040.4|\n",
      "|               extra|                 0.0|            14.25|\n",
      "|             mta_tax|                 0.0|              4.0|\n",
      "|          tip_amount|                 0.0|            418.2|\n",
      "|        tolls_amount|                 0.0|           114.55|\n",
      "|improvement_surch...|                 0.0|              1.0|\n",
      "|        total_amount|                 0.0|          1079.45|\n",
      "|congestion_surcharge|                 0.0|             2.75|\n",
      "|         airport_fee|                 0.0|             1.75|\n",
      "|           trip_time|0.016666666666666666|747.6666666666666|\n",
      "|      fare_per_miles|                 0.0|             44.1|\n",
      "+--------------------+--------------------+-----------------+\n",
      "\n",
      "2673818\n",
      "267716\n",
      "../plots/yellow/correlation/2023-07.png\n"
     ]
    }
   ],
   "metadata": {}
  },
  {
   "cell_type": "code",
   "execution_count": 10,
   "source": [
    "unioned_df.count()"
   ],
   "outputs": [
    {
     "output_type": "execute_result",
     "data": {
      "text/plain": [
       "1708168"
      ]
     },
     "metadata": {},
     "execution_count": 10
    }
   ],
   "metadata": {}
  },
  {
   "cell_type": "code",
   "execution_count": 11,
   "source": [
    "# Plotting distribution of each continous columns\n",
    "for col in scripts.clean_yellow.COLUMNS:\n",
    "    scripts.plot_data.plot_histogram(unioned_df, col, \"yellow\", \"../plots/yellow/histogram/\", 50)"
   ],
   "outputs": [
    {
     "output_type": "stream",
     "name": "stdout",
     "text": [
      "0 16\n",
      "../plots/yellow/histogram/passenger_count_histogram.png\n"
     ]
    },
    {
     "output_type": "stream",
     "name": "stderr",
     "text": []
    },
    {
     "output_type": "stream",
     "name": "stdout",
     "text": [
      "0 59.96\n",
      "../plots/yellow/histogram/trip_distance_histogram.png\n"
     ]
    },
    {
     "output_type": "stream",
     "name": "stderr",
     "text": []
    },
    {
     "output_type": "stream",
     "name": "stdout",
     "text": [
      "0.0 260.0\n",
      "../plots/yellow/histogram/fare_amount_histogram.png\n",
      "0.0 21.75\n",
      "../plots/yellow/histogram/extra_histogram.png\n",
      "0.0 10.5\n",
      "../plots/yellow/histogram/mta_tax_histogram.png\n",
      "0.0 70.06\n",
      "../plots/yellow/histogram/tip_amount_histogram.png\n",
      "0.0 39.5\n",
      "../plots/yellow/histogram/tolls_amount_histogram.png\n",
      "0.0 11.0\n",
      "../plots/yellow/histogram/improvement_surcharge_histogram.png\n"
     ]
    },
    {
     "output_type": "stream",
     "name": "stderr",
     "text": []
    },
    {
     "output_type": "stream",
     "name": "stdout",
     "text": [
      "0.0 287.69\n",
      "../plots/yellow/histogram/total_amount_histogram.png\n",
      "0.0 12.5\n",
      "../plots/yellow/histogram/congestion_surcharge_histogram.png\n",
      "0.0 11.75\n",
      "../plots/yellow/histogram/airport_fee_histogram.png\n",
      "0 163.21666666666667\n",
      "../plots/yellow/histogram/trip_time_histogram.png\n",
      "0.0 54.333333333333336\n",
      "../plots/yellow/histogram/fare_per_miles_histogram.png\n"
     ]
    }
   ],
   "metadata": {}
  },
  {
   "cell_type": "markdown",
   "source": [
    "Plotting continuous columns against time series like days and hours"
   ],
   "metadata": {}
  },
  {
   "cell_type": "code",
   "execution_count": 12,
   "source": [
    "from pyspark.sql.functions import avg, to_date, hour\n",
    "\n",
    "# Convert timestamp to date\n",
    "for_plot_df = unioned_df.withColumn(\"pickup_date\", to_date(unioned_df[\"pickup_datetime\"]))"
   ],
   "outputs": [],
   "metadata": {}
  },
  {
   "cell_type": "code",
   "execution_count": 13,
   "source": [
    "# Daily\n",
    "for col in scripts.clean_yellow.COLUMNS:\n",
    "    # Group by date and calculate average\n",
    "    average_df = for_plot_df.groupBy(\"pickup_date\").agg(avg(col).alias(col))\n",
    "    scripts.plot_data.scatter_plot(average_df, \"pickup_date\", col, \"yellow\", \"../plots/yellow/daily/\")"
   ],
   "outputs": [
    {
     "output_type": "stream",
     "name": "stderr",
     "text": []
    },
    {
     "output_type": "stream",
     "name": "stdout",
     "text": [
      "../plots/yellow/daily/pickup_date_vs_passenger_count.png\n"
     ]
    },
    {
     "output_type": "stream",
     "name": "stderr",
     "text": []
    },
    {
     "output_type": "stream",
     "name": "stdout",
     "text": [
      "../plots/yellow/daily/pickup_date_vs_trip_distance.png\n"
     ]
    },
    {
     "output_type": "stream",
     "name": "stderr",
     "text": []
    },
    {
     "output_type": "stream",
     "name": "stdout",
     "text": [
      "../plots/yellow/daily/pickup_date_vs_fare_amount.png\n",
      "../plots/yellow/daily/pickup_date_vs_extra.png\n",
      "../plots/yellow/daily/pickup_date_vs_mta_tax.png\n"
     ]
    },
    {
     "output_type": "stream",
     "name": "stderr",
     "text": []
    },
    {
     "output_type": "stream",
     "name": "stdout",
     "text": [
      "../plots/yellow/daily/pickup_date_vs_tip_amount.png\n",
      "../plots/yellow/daily/pickup_date_vs_tolls_amount.png\n"
     ]
    },
    {
     "output_type": "stream",
     "name": "stderr",
     "text": []
    },
    {
     "output_type": "stream",
     "name": "stdout",
     "text": [
      "../plots/yellow/daily/pickup_date_vs_improvement_surcharge.png\n"
     ]
    },
    {
     "output_type": "stream",
     "name": "stderr",
     "text": []
    },
    {
     "output_type": "stream",
     "name": "stdout",
     "text": [
      "../plots/yellow/daily/pickup_date_vs_total_amount.png\n"
     ]
    },
    {
     "output_type": "stream",
     "name": "stderr",
     "text": []
    },
    {
     "output_type": "stream",
     "name": "stdout",
     "text": [
      "../plots/yellow/daily/pickup_date_vs_congestion_surcharge.png\n",
      "../plots/yellow/daily/pickup_date_vs_airport_fee.png\n",
      "../plots/yellow/daily/pickup_date_vs_trip_time.png\n",
      "../plots/yellow/daily/pickup_date_vs_fare_per_miles.png\n"
     ]
    },
    {
     "output_type": "stream",
     "name": "stderr",
     "text": []
    }
   ],
   "metadata": {}
  },
  {
   "cell_type": "code",
   "execution_count": 14,
   "source": [
    "# Hourly\n",
    "for col in scripts.clean_yellow.COLUMNS:\n",
    "    # Extract hour from timestamp and group by it\n",
    "    hourly_avg_df = df.groupBy(hour(df[\"pickup_datetime\"]).alias(\"hour\")).agg(avg(col).alias(col))\n",
    "    scripts.plot_data.scatter_plot(hourly_avg_df, \"hour\", col, \"yellow\", \"../plots/yellow/hourly/\")"
   ],
   "outputs": [
    {
     "output_type": "stream",
     "name": "stdout",
     "text": [
      "../plots/yellow/hourly/hour_vs_passenger_count.png\n",
      "../plots/yellow/hourly/hour_vs_trip_distance.png\n",
      "../plots/yellow/hourly/hour_vs_fare_amount.png\n",
      "../plots/yellow/hourly/hour_vs_extra.png\n",
      "../plots/yellow/hourly/hour_vs_mta_tax.png\n",
      "../plots/yellow/hourly/hour_vs_tip_amount.png\n",
      "../plots/yellow/hourly/hour_vs_tolls_amount.png\n",
      "../plots/yellow/hourly/hour_vs_improvement_surcharge.png\n",
      "../plots/yellow/hourly/hour_vs_total_amount.png\n",
      "../plots/yellow/hourly/hour_vs_congestion_surcharge.png\n",
      "../plots/yellow/hourly/hour_vs_airport_fee.png\n",
      "../plots/yellow/hourly/hour_vs_trip_time.png\n",
      "../plots/yellow/hourly/hour_vs_fare_per_miles.png\n"
     ]
    }
   ],
   "metadata": {}
  },
  {
   "cell_type": "code",
   "execution_count": 18,
   "source": [
    "# Write curated dataset\n",
    "scripts.clean_base.write_data(unioned_df, \"../data/curated/yellow/yellow.parquet\")"
   ],
   "outputs": [
    {
     "output_type": "stream",
     "name": "stderr",
     "text": []
    }
   ],
   "metadata": {}
  }
 ],
 "metadata": {
  "orig_nbformat": 4,
  "language_info": {
   "name": "python",
   "version": "3.11.7",
   "mimetype": "text/x-python",
   "codemirror_mode": {
    "name": "ipython",
    "version": 3
   },
   "pygments_lexer": "ipython3",
   "nbconvert_exporter": "python",
   "file_extension": ".py"
  },
  "kernelspec": {
   "name": "python3",
   "display_name": "Python 3.11.7 64-bit ('base': conda)"
  },
  "interpreter": {
   "hash": "dca0ade3e726a953b501b15e8e990130d2b7799f14cfd9f4271676035ebe5511"
  }
 },
 "nbformat": 4,
 "nbformat_minor": 2
}