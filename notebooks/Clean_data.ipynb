{
 "cells": [
  {
   "cell_type": "code",
   "execution_count": 1,
   "source": [
    "# Adjust Python path within the notebook\n",
    "import sys\n",
    "project_root = '/Users/thangnguyen/Documents/GitHub/project-1-individual-knam2609'\n",
    "if project_root not in sys.path:\n",
    "    sys.path.insert(0, project_root)\n",
    "\n",
    "import scripts"
   ],
   "outputs": [],
   "metadata": {}
  },
  {
   "cell_type": "code",
   "execution_count": 2,
   "source": [
    "# Create a spark session\n",
    "spark = scripts.clean_base.create_spark_session()"
   ],
   "outputs": [
    {
     "output_type": "stream",
     "name": "stderr",
     "text": [
      "24/08/27 16:01:02 WARN Utils: Your hostname, THANGs-MacBook-Air.local resolves to a loopback address: 127.0.0.1; using 100.86.89.69 instead (on interface en0)\n",
      "24/08/27 16:01:02 WARN Utils: Set SPARK_LOCAL_IP if you need to bind to another address\n",
      "Setting default log level to \"WARN\".\n",
      "To adjust logging level use sc.setLogLevel(newLevel). For SparkR, use setLogLevel(newLevel).\n",
      "24/08/27 16:01:03 WARN NativeCodeLoader: Unable to load native-hadoop library for your platform... using builtin-java classes where applicable\n"
     ]
    }
   ],
   "metadata": {}
  },
  {
   "cell_type": "code",
   "execution_count": 3,
   "source": [
    "# Create taxi zones dataframe\n",
    "taxi_zones = spark.read.csv(\"../data/landing/taxi_zones.csv\", header=True, inferSchema=True)"
   ],
   "outputs": [],
   "metadata": {}
  },
  {
   "cell_type": "code",
   "execution_count": 4,
   "source": [
    "# Create directories to store raw and curated data of Yellow taxi and Uber\n",
    "output_relative_dirs_type = ['../data/raw/', '../data/curated/']\n",
    "target_dirs_taxi = ['yellow', 'uber']\n",
    "\n",
    "scripts.download.make_directories(output_relative_dirs_type, target_dirs_taxi)"
   ],
   "outputs": [],
   "metadata": {}
  },
  {
   "cell_type": "code",
   "execution_count": 5,
   "source": [
    "# Clean yellow data\n",
    "scripts.clean_yellow.clean_directory_data(\"../data/landing/yellow/\", \"../data/raw/yellow/\", taxi_zones, spark)"
   ],
   "outputs": [
    {
     "output_type": "stream",
     "name": "stdout",
     "text": [
      "../data/landing/yellow/2023-08.parquet\n",
      "Before: 2824209\n",
      "After_NULL: 2697442\n",
      "Start time: 2023-08-01 00:00:00\n",
      "End time: 2023-08-31 23:59:59\n",
      "Filtered data for column pickup_datetime:\n",
      "Filtered data for column dropoff_datetime:\n"
     ]
    },
    {
     "output_type": "stream",
     "name": "stderr",
     "text": []
    },
    {
     "output_type": "stream",
     "name": "stdout",
     "text": [
      "lower: -13.610339227715631, upper: 38.91130157584507\n"
     ]
    },
    {
     "output_type": "stream",
     "name": "stderr",
     "text": [
      "24/08/27 16:01:14 WARN GarbageCollectionMetrics: To enable non-built-in garbage collector(s) List(G1 Concurrent GC), users should configure it(them) to spark.eventLog.gcMetrics.youngGenerationGarbageCollectors or spark.eventLog.gcMetrics.oldGenerationGarbageCollectors\n"
     ]
    },
    {
     "output_type": "stream",
     "name": "stdout",
     "text": [
      "Outliers: 28274\n"
     ]
    },
    {
     "output_type": "stream",
     "name": "stderr",
     "text": []
    },
    {
     "output_type": "stream",
     "name": "stdout",
     "text": [
      "After: 2581590\n"
     ]
    },
    {
     "output_type": "stream",
     "name": "stderr",
     "text": []
    },
    {
     "output_type": "stream",
     "name": "stdout",
     "text": [
      "+--------+-------+\n",
      "|VendorID|  count|\n",
      "+--------+-------+\n",
      "|       1| 605484|\n",
      "|       2|1976106|\n",
      "+--------+-------+\n",
      "\n"
     ]
    },
    {
     "output_type": "stream",
     "name": "stderr",
     "text": []
    },
    {
     "output_type": "stream",
     "name": "stdout",
     "text": [
      "../data/landing/yellow/2023-11.parquet\n",
      "Before: 3339715\n",
      "After_NULL: 3166394\n",
      "Start time: 2023-11-01 00:00:00\n",
      "End time: 2023-11-30 23:59:59\n",
      "Filtered data for column pickup_datetime:\n",
      "Filtered data for column dropoff_datetime:\n"
     ]
    },
    {
     "output_type": "stream",
     "name": "stderr",
     "text": []
    },
    {
     "output_type": "stream",
     "name": "stdout",
     "text": [
      "lower: -14.75358851674641, upper: 42.452153110047846\n"
     ]
    },
    {
     "output_type": "stream",
     "name": "stderr",
     "text": []
    },
    {
     "output_type": "stream",
     "name": "stdout",
     "text": [
      "Outliers: 38023\n"
     ]
    },
    {
     "output_type": "stream",
     "name": "stderr",
     "text": []
    },
    {
     "output_type": "stream",
     "name": "stdout",
     "text": [
      "After: 3033344\n"
     ]
    },
    {
     "output_type": "stream",
     "name": "stderr",
     "text": []
    },
    {
     "output_type": "stream",
     "name": "stdout",
     "text": [
      "+--------+-------+\n",
      "|VendorID|  count|\n",
      "+--------+-------+\n",
      "|       1| 688823|\n",
      "|       2|2344521|\n",
      "+--------+-------+\n",
      "\n"
     ]
    },
    {
     "output_type": "stream",
     "name": "stderr",
     "text": []
    },
    {
     "output_type": "stream",
     "name": "stdout",
     "text": [
      "../data/landing/yellow/2023-10.parquet\n",
      "Before: 3522285\n",
      "After_NULL: 3322564\n",
      "Start time: 2023-10-01 00:00:00\n",
      "End time: 2023-10-31 23:59:59\n",
      "Filtered data for column pickup_datetime:\n",
      "Filtered data for column dropoff_datetime:\n"
     ]
    },
    {
     "output_type": "stream",
     "name": "stderr",
     "text": []
    },
    {
     "output_type": "stream",
     "name": "stdout",
     "text": [
      "lower: -17.038772831674507, upper: 44.72082467461446\n"
     ]
    },
    {
     "output_type": "stream",
     "name": "stderr",
     "text": []
    },
    {
     "output_type": "stream",
     "name": "stdout",
     "text": [
      "Outliers: 32912\n"
     ]
    },
    {
     "output_type": "stream",
     "name": "stderr",
     "text": []
    },
    {
     "output_type": "stream",
     "name": "stdout",
     "text": [
      "After: 3190451\n"
     ]
    },
    {
     "output_type": "stream",
     "name": "stderr",
     "text": []
    },
    {
     "output_type": "stream",
     "name": "stdout",
     "text": [
      "+--------+-------+\n",
      "|VendorID|  count|\n",
      "+--------+-------+\n",
      "|       1| 722626|\n",
      "|       2|2467825|\n",
      "+--------+-------+\n",
      "\n"
     ]
    },
    {
     "output_type": "stream",
     "name": "stderr",
     "text": []
    },
    {
     "output_type": "stream",
     "name": "stdout",
     "text": [
      "../data/landing/yellow/2023-09.parquet\n",
      "Before: 2846722\n",
      "After_NULL: 2669254\n",
      "Start time: 2023-09-01 00:00:00\n",
      "End time: 2023-09-30 23:59:59\n",
      "Filtered data for column pickup_datetime:\n",
      "Filtered data for column dropoff_datetime:\n"
     ]
    },
    {
     "output_type": "stream",
     "name": "stderr",
     "text": []
    },
    {
     "output_type": "stream",
     "name": "stdout",
     "text": [
      "lower: -15.847857142857142, upper: 42.442047619047614\n"
     ]
    },
    {
     "output_type": "stream",
     "name": "stderr",
     "text": []
    },
    {
     "output_type": "stream",
     "name": "stdout",
     "text": [
      "Outliers: 32728\n"
     ]
    },
    {
     "output_type": "stream",
     "name": "stderr",
     "text": []
    },
    {
     "output_type": "stream",
     "name": "stdout",
     "text": [
      "After: 2555255\n"
     ]
    },
    {
     "output_type": "stream",
     "name": "stderr",
     "text": []
    },
    {
     "output_type": "stream",
     "name": "stdout",
     "text": [
      "+--------+-------+\n",
      "|VendorID|  count|\n",
      "+--------+-------+\n",
      "|       1| 580644|\n",
      "|       2|1974611|\n",
      "+--------+-------+\n",
      "\n"
     ]
    },
    {
     "output_type": "stream",
     "name": "stderr",
     "text": []
    },
    {
     "output_type": "stream",
     "name": "stdout",
     "text": [
      "../data/landing/yellow/2023-06.parquet\n",
      "Before: 3307234\n",
      "After_NULL: 3165742\n",
      "Start time: 2023-06-01 00:00:00\n",
      "End time: 2023-06-30 23:59:59\n",
      "Filtered data for column pickup_datetime:\n",
      "Filtered data for column dropoff_datetime:\n"
     ]
    },
    {
     "output_type": "stream",
     "name": "stderr",
     "text": []
    },
    {
     "output_type": "stream",
     "name": "stdout",
     "text": [
      "lower: -12.528902953586496, upper: 38.23734177215189\n"
     ]
    },
    {
     "output_type": "stream",
     "name": "stderr",
     "text": []
    },
    {
     "output_type": "stream",
     "name": "stdout",
     "text": [
      "Outliers: 36955\n"
     ]
    },
    {
     "output_type": "stream",
     "name": "stderr",
     "text": []
    },
    {
     "output_type": "stream",
     "name": "stdout",
     "text": [
      "After: 3033616\n"
     ]
    },
    {
     "output_type": "stream",
     "name": "stderr",
     "text": []
    },
    {
     "output_type": "stream",
     "name": "stdout",
     "text": [
      "+--------+-------+\n",
      "|VendorID|  count|\n",
      "+--------+-------+\n",
      "|       1| 758215|\n",
      "|       2|2275401|\n",
      "+--------+-------+\n",
      "\n"
     ]
    },
    {
     "output_type": "stream",
     "name": "stderr",
     "text": []
    },
    {
     "output_type": "stream",
     "name": "stdout",
     "text": [
      "../data/landing/yellow/2023-07.parquet\n",
      "Before: 2907108\n",
      "After_NULL: 2783199\n",
      "Start time: 2023-07-01 00:00:00\n",
      "End time: 2023-07-31 23:59:59\n",
      "Filtered data for column pickup_datetime:\n",
      "Filtered data for column dropoff_datetime:\n"
     ]
    },
    {
     "output_type": "stream",
     "name": "stderr",
     "text": []
    },
    {
     "output_type": "stream",
     "name": "stdout",
     "text": [
      "lower: -17.192497945836486, upper: 44.11831566891034\n"
     ]
    },
    {
     "output_type": "stream",
     "name": "stderr",
     "text": []
    },
    {
     "output_type": "stream",
     "name": "stdout",
     "text": [
      "Outliers: 23031\n"
     ]
    },
    {
     "output_type": "stream",
     "name": "stderr",
     "text": []
    },
    {
     "output_type": "stream",
     "name": "stdout",
     "text": [
      "After: 2675936\n"
     ]
    },
    {
     "output_type": "stream",
     "name": "stderr",
     "text": []
    },
    {
     "output_type": "stream",
     "name": "stdout",
     "text": [
      "+--------+-------+\n",
      "|VendorID|  count|\n",
      "+--------+-------+\n",
      "|       1| 641228|\n",
      "|       2|2034708|\n",
      "+--------+-------+\n",
      "\n"
     ]
    },
    {
     "output_type": "stream",
     "name": "stderr",
     "text": []
    }
   ],
   "metadata": {}
  },
  {
   "cell_type": "code",
   "execution_count": null,
   "source": [
    "# Read one in to test\n",
    "test_df_yellow = spark.read.parquet('../data/raw/yellow/2023-06.parquet')\n",
    "test_df_yellow.printSchema()"
   ],
   "outputs": [],
   "metadata": {}
  },
  {
   "cell_type": "code",
   "execution_count": 8,
   "source": [
    "# Clean Uber data\n",
    "scripts.clean_high_volume.clean_directory_data(\"../data/landing/high_volume/\", \"../data/raw/uber/\", taxi_zones, spark)"
   ],
   "outputs": [
    {
     "output_type": "stream",
     "name": "stdout",
     "text": [
      "../data/landing/high_volume/2023-08.parquet\n",
      "Before: 18322150\n"
     ]
    },
    {
     "output_type": "stream",
     "name": "stderr",
     "text": [
      "24/08/27 16:03:50 WARN SparkStringUtils: Truncated the string representation of a plan since it was too large. This behavior can be adjusted by setting 'spark.sql.debug.maxToStringFields'.\n"
     ]
    },
    {
     "output_type": "stream",
     "name": "stdout",
     "text": [
      "After_NULL: 13140932\n",
      "Start time: 2023-08-01 00:00:00\n",
      "End time: 2023-08-31 23:59:59\n",
      "Filtered data for column request_datetime:\n",
      "Filtered data for column on_scene_datetime:\n",
      "Filtered data for column pickup_datetime:\n",
      "Filtered data for column dropoff_datetime:\n"
     ]
    },
    {
     "output_type": "stream",
     "name": "stderr",
     "text": []
    },
    {
     "output_type": "stream",
     "name": "stdout",
     "text": [
      "lower: -10.066485277294598, upper: 27.302812514691368\n"
     ]
    },
    {
     "output_type": "stream",
     "name": "stderr",
     "text": []
    },
    {
     "output_type": "stream",
     "name": "stdout",
     "text": [
      "Outliers: 164551\n"
     ]
    },
    {
     "output_type": "stream",
     "name": "stderr",
     "text": []
    },
    {
     "output_type": "stream",
     "name": "stdout",
     "text": [
      "After: 12852422\n"
     ]
    },
    {
     "output_type": "stream",
     "name": "stderr",
     "text": []
    },
    {
     "output_type": "stream",
     "name": "stdout",
     "text": [
      "+--------------------+--------+\n",
      "|dispatching_base_num|   count|\n",
      "+--------------------+--------+\n",
      "|              B03438|      10|\n",
      "|              B03494|       6|\n",
      "|              B03472|      20|\n",
      "|              B03404|12852255|\n",
      "|              B03502|       5|\n",
      "|              B03513|       2|\n",
      "|              B03408|      22|\n",
      "|              B03411|      38|\n",
      "|              B03523|      15|\n",
      "|              B03556|      11|\n",
      "|              B03469|      32|\n",
      "|              B03412|       6|\n",
      "+--------------------+--------+\n",
      "\n"
     ]
    },
    {
     "output_type": "stream",
     "name": "stderr",
     "text": []
    },
    {
     "output_type": "stream",
     "name": "stdout",
     "text": [
      "../data/landing/high_volume/2023-11.parquet\n",
      "Before: 19269250\n"
     ]
    },
    {
     "output_type": "stream",
     "name": "stderr",
     "text": []
    },
    {
     "output_type": "stream",
     "name": "stdout",
     "text": [
      "After_NULL: 13786247\n",
      "Start time: 2023-11-01 00:00:00\n",
      "End time: 2023-11-30 23:59:59\n",
      "Filtered data for column request_datetime:\n",
      "Filtered data for column on_scene_datetime:\n",
      "Filtered data for column pickup_datetime:\n",
      "Filtered data for column dropoff_datetime:\n"
     ]
    },
    {
     "output_type": "stream",
     "name": "stderr",
     "text": []
    },
    {
     "output_type": "stream",
     "name": "stdout",
     "text": [
      "lower: -12.410053910905138, upper: 31.90788801664618\n"
     ]
    },
    {
     "output_type": "stream",
     "name": "stderr",
     "text": []
    },
    {
     "output_type": "stream",
     "name": "stdout",
     "text": [
      "Outliers: 163382\n"
     ]
    },
    {
     "output_type": "stream",
     "name": "stderr",
     "text": []
    },
    {
     "output_type": "stream",
     "name": "stdout",
     "text": [
      "After: 13473174\n"
     ]
    },
    {
     "output_type": "stream",
     "name": "stderr",
     "text": []
    },
    {
     "output_type": "stream",
     "name": "stdout",
     "text": [
      "+--------------------+--------+\n",
      "|dispatching_base_num|   count|\n",
      "+--------------------+--------+\n",
      "|              B03404|13473095|\n",
      "|              B03430|      52|\n",
      "|              B03493|      27|\n",
      "+--------------------+--------+\n",
      "\n"
     ]
    },
    {
     "output_type": "stream",
     "name": "stderr",
     "text": []
    },
    {
     "output_type": "stream",
     "name": "stdout",
     "text": [
      "../data/landing/high_volume/2023-10.parquet\n",
      "Before: 20186330\n"
     ]
    },
    {
     "output_type": "stream",
     "name": "stderr",
     "text": []
    },
    {
     "output_type": "stream",
     "name": "stdout",
     "text": [
      "After_NULL: 14373054\n",
      "Start time: 2023-10-01 00:00:00\n",
      "End time: 2023-10-31 23:59:59\n",
      "Filtered data for column request_datetime:\n",
      "Filtered data for column on_scene_datetime:\n",
      "Filtered data for column pickup_datetime:\n",
      "Filtered data for column dropoff_datetime:\n"
     ]
    },
    {
     "output_type": "stream",
     "name": "stderr",
     "text": []
    },
    {
     "output_type": "stream",
     "name": "stdout",
     "text": [
      "lower: -13.263751289989678, upper: 32.762461300309596\n"
     ]
    },
    {
     "output_type": "stream",
     "name": "stderr",
     "text": []
    },
    {
     "output_type": "stream",
     "name": "stdout",
     "text": [
      "Outliers: 161072\n"
     ]
    },
    {
     "output_type": "stream",
     "name": "stderr",
     "text": []
    },
    {
     "output_type": "stream",
     "name": "stdout",
     "text": [
      "After: 14061244\n"
     ]
    },
    {
     "output_type": "stream",
     "name": "stderr",
     "text": []
    },
    {
     "output_type": "stream",
     "name": "stdout",
     "text": [
      "+--------------------+--------+\n",
      "|dispatching_base_num|   count|\n",
      "+--------------------+--------+\n",
      "|              B03404|14061210|\n",
      "|              B03493|      17|\n",
      "|              B03430|      17|\n",
      "+--------------------+--------+\n",
      "\n"
     ]
    },
    {
     "output_type": "stream",
     "name": "stderr",
     "text": []
    },
    {
     "output_type": "stream",
     "name": "stdout",
     "text": [
      "../data/landing/high_volume/2023-09.parquet\n",
      "Before: 19851123\n"
     ]
    },
    {
     "output_type": "stream",
     "name": "stderr",
     "text": []
    },
    {
     "output_type": "stream",
     "name": "stdout",
     "text": [
      "After_NULL: 14308044\n",
      "Start time: 2023-09-01 00:00:00\n",
      "End time: 2023-09-30 23:59:59\n",
      "Filtered data for column request_datetime:\n",
      "Filtered data for column on_scene_datetime:\n",
      "Filtered data for column pickup_datetime:\n",
      "Filtered data for column dropoff_datetime:\n"
     ]
    },
    {
     "output_type": "stream",
     "name": "stderr",
     "text": []
    },
    {
     "output_type": "stream",
     "name": "stdout",
     "text": [
      "lower: -13.519151138716362, upper: 33.355935127674265\n"
     ]
    },
    {
     "output_type": "stream",
     "name": "stderr",
     "text": []
    },
    {
     "output_type": "stream",
     "name": "stdout",
     "text": [
      "Outliers: 217063\n"
     ]
    },
    {
     "output_type": "stream",
     "name": "stderr",
     "text": []
    },
    {
     "output_type": "stream",
     "name": "stdout",
     "text": [
      "After: 13950108\n"
     ]
    },
    {
     "output_type": "stream",
     "name": "stderr",
     "text": []
    },
    {
     "output_type": "stream",
     "name": "stdout",
     "text": [
      "+--------------------+--------+\n",
      "|dispatching_base_num|   count|\n",
      "+--------------------+--------+\n",
      "|              B03404|13950032|\n",
      "|              B03412|       4|\n",
      "|              B02764|      72|\n",
      "+--------------------+--------+\n",
      "\n"
     ]
    },
    {
     "output_type": "stream",
     "name": "stderr",
     "text": []
    },
    {
     "output_type": "stream",
     "name": "stdout",
     "text": [
      "../data/landing/high_volume/2023-06.parquet\n",
      "Before: 19366619\n"
     ]
    },
    {
     "output_type": "stream",
     "name": "stderr",
     "text": []
    },
    {
     "output_type": "stream",
     "name": "stdout",
     "text": [
      "After_NULL: 13809442\n",
      "Start time: 2023-06-01 00:00:00\n",
      "End time: 2023-06-30 23:59:59\n",
      "Filtered data for column request_datetime:\n",
      "Filtered data for column on_scene_datetime:\n",
      "Filtered data for column pickup_datetime:\n",
      "Filtered data for column dropoff_datetime:\n"
     ]
    },
    {
     "output_type": "stream",
     "name": "stderr",
     "text": []
    },
    {
     "output_type": "stream",
     "name": "stdout",
     "text": [
      "lower: -12.650303805564441, upper: 33.28509753757596\n"
     ]
    },
    {
     "output_type": "stream",
     "name": "stderr",
     "text": []
    },
    {
     "output_type": "stream",
     "name": "stdout",
     "text": [
      "Outliers: 126304\n"
     ]
    },
    {
     "output_type": "stream",
     "name": "stderr",
     "text": []
    },
    {
     "output_type": "stream",
     "name": "stdout",
     "text": [
      "After: 13541786\n"
     ]
    },
    {
     "output_type": "stream",
     "name": "stderr",
     "text": []
    },
    {
     "output_type": "stream",
     "name": "stdout",
     "text": [
      "+--------------------+--------+\n",
      "|dispatching_base_num|   count|\n",
      "+--------------------+--------+\n",
      "|              B02869|      79|\n",
      "|              B02835|     113|\n",
      "|              B03404|13539422|\n",
      "|              B02872|      53|\n",
      "|              B02871|     161|\n",
      "|              B02889|     191|\n",
      "|              B02887|     199|\n",
      "|              B02870|     197|\n",
      "|              B02765|     266|\n",
      "|              B02764|     610|\n",
      "|              B02864|      31|\n",
      "|              B02882|     464|\n",
      "+--------------------+--------+\n",
      "\n"
     ]
    },
    {
     "output_type": "stream",
     "name": "stderr",
     "text": []
    },
    {
     "output_type": "stream",
     "name": "stdout",
     "text": [
      "../data/landing/high_volume/2023-07.parquet\n",
      "Before: 19132131\n"
     ]
    },
    {
     "output_type": "stream",
     "name": "stderr",
     "text": []
    },
    {
     "output_type": "stream",
     "name": "stdout",
     "text": [
      "After_NULL: 13729459\n",
      "Start time: 2023-07-01 00:00:00\n",
      "End time: 2023-07-31 23:59:59\n",
      "Filtered data for column request_datetime:\n",
      "Filtered data for column on_scene_datetime:\n",
      "Filtered data for column pickup_datetime:\n",
      "Filtered data for column dropoff_datetime:\n"
     ]
    },
    {
     "output_type": "stream",
     "name": "stderr",
     "text": []
    },
    {
     "output_type": "stream",
     "name": "stdout",
     "text": [
      "lower: -13.31997465725436, upper: 32.34867269244179\n"
     ]
    },
    {
     "output_type": "stream",
     "name": "stderr",
     "text": []
    },
    {
     "output_type": "stream",
     "name": "stdout",
     "text": [
      "Outliers: 112069\n"
     ]
    },
    {
     "output_type": "stream",
     "name": "stderr",
     "text": []
    },
    {
     "output_type": "stream",
     "name": "stdout",
     "text": [
      "After: 13498168\n"
     ]
    },
    {
     "output_type": "stream",
     "name": "stderr",
     "text": []
    },
    {
     "output_type": "stream",
     "name": "stdout",
     "text": [
      "+--------------------+--------+\n",
      "|dispatching_base_num|   count|\n",
      "+--------------------+--------+\n",
      "|              B03412|      17|\n",
      "|              B03487|      22|\n",
      "|              B03411|     110|\n",
      "|              B02869|     144|\n",
      "|              B03434|      68|\n",
      "|              B03438|       7|\n",
      "|              B03530|      27|\n",
      "|              B02835|      51|\n",
      "|              B03494|       5|\n",
      "|              B03432|      41|\n",
      "|              B03472|      49|\n",
      "|              B03404|13494838|\n",
      "|              B03551|      27|\n",
      "|              B03493|     371|\n",
      "|              B03430|      44|\n",
      "|              B02872|      76|\n",
      "|              B03463|      96|\n",
      "|              B03502|      25|\n",
      "|              B02871|     238|\n",
      "|              B02889|     219|\n",
      "+--------------------+--------+\n",
      "only showing top 20 rows\n",
      "\n"
     ]
    },
    {
     "output_type": "stream",
     "name": "stderr",
     "text": []
    }
   ],
   "metadata": {}
  },
  {
   "cell_type": "code",
   "execution_count": 9,
   "source": [
    "# Read one in to test\n",
    "test_df_uber = spark.read.parquet('../data/raw/uber/2023-07.parquet')"
   ],
   "outputs": [],
   "metadata": {}
  },
  {
   "cell_type": "code",
   "execution_count": 10,
   "source": [
    "test_df_uber.groupBy(\"dispatching_base_num\").count().show()"
   ],
   "outputs": [
    {
     "output_type": "stream",
     "name": "stdout",
     "text": [
      "+--------------------+--------+\n",
      "|dispatching_base_num|   count|\n",
      "+--------------------+--------+\n",
      "|              B02869|     144|\n",
      "|              B02835|      51|\n",
      "|              B03404|13494838|\n",
      "|              B02872|      76|\n",
      "|              B02871|     238|\n",
      "|              B02889|     219|\n",
      "|              B02887|     143|\n",
      "|              B02870|     177|\n",
      "|              B02765|     155|\n",
      "|              B02764|     534|\n",
      "|              B02882|     364|\n",
      "|              B03412|      17|\n",
      "|              B03487|      22|\n",
      "|              B03494|       5|\n",
      "|              B03551|      27|\n",
      "|              B03493|     371|\n",
      "|              B03463|      96|\n",
      "|              B03411|     110|\n",
      "|              B03434|      68|\n",
      "|              B03530|      27|\n",
      "+--------------------+--------+\n",
      "only showing top 20 rows\n",
      "\n"
     ]
    }
   ],
   "metadata": {}
  },
  {
   "cell_type": "code",
   "execution_count": 11,
   "source": [
    "test_df_uber.printSchema()"
   ],
   "outputs": [
    {
     "output_type": "stream",
     "name": "stdout",
     "text": [
      "root\n",
      " |-- dispatching_base_num: string (nullable = true)\n",
      " |-- request_datetime: timestamp_ntz (nullable = true)\n",
      " |-- on_scene_datetime: timestamp_ntz (nullable = true)\n",
      " |-- pickup_datetime: timestamp_ntz (nullable = true)\n",
      " |-- dropoff_datetime: timestamp_ntz (nullable = true)\n",
      " |-- PULocationID: integer (nullable = true)\n",
      " |-- DOLocationID: integer (nullable = true)\n",
      " |-- trip_distance: double (nullable = true)\n",
      " |-- trip_time: double (nullable = true)\n",
      " |-- base_passenger_fare: double (nullable = true)\n",
      " |-- tolls: double (nullable = true)\n",
      " |-- bcf: double (nullable = true)\n",
      " |-- sales_tax: double (nullable = true)\n",
      " |-- congestion_surcharge: double (nullable = true)\n",
      " |-- airport_fee: double (nullable = true)\n",
      " |-- tips: double (nullable = true)\n",
      " |-- driver_pay: double (nullable = true)\n",
      " |-- total_amount: double (nullable = true)\n",
      " |-- waiting_time: double (nullable = true)\n",
      " |-- fare_per_miles: double (nullable = true)\n",
      "\n"
     ]
    }
   ],
   "metadata": {}
  }
 ],
 "metadata": {
  "orig_nbformat": 4,
  "language_info": {
   "name": "python",
   "version": "3.11.7",
   "mimetype": "text/x-python",
   "codemirror_mode": {
    "name": "ipython",
    "version": 3
   },
   "pygments_lexer": "ipython3",
   "nbconvert_exporter": "python",
   "file_extension": ".py"
  },
  "kernelspec": {
   "name": "python3",
   "display_name": "Python 3.11.7 64-bit ('base': conda)"
  },
  "interpreter": {
   "hash": "dca0ade3e726a953b501b15e8e990130d2b7799f14cfd9f4271676035ebe5511"
  }
 },
 "nbformat": 4,
 "nbformat_minor": 2
}