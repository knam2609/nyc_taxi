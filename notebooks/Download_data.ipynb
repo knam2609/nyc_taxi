{
 "cells": [
  {
   "cell_type": "code",
   "execution_count": 1,
   "source": [
    "# Adjust Python path within the notebook\n",
    "import sys\n",
    "project_root = '/Users/thangnguyen/Documents/GitHub/project-1-individual-knam2609'\n",
    "if project_root not in sys.path:\n",
    "    sys.path.insert(0, project_root)\n",
    "\n",
    "import scripts"
   ],
   "outputs": [],
   "metadata": {}
  },
  {
   "cell_type": "code",
   "execution_count": 2,
   "source": [
    "# Create directories to store data\n",
    "output_relative_dir = ['../data/']\n",
    "target_dirs = ['raw', 'curated']\n",
    "\n",
    "scripts.make_directories(output_relative_dir, target_dirs)"
   ],
   "outputs": [],
   "metadata": {}
  },
  {
   "cell_type": "code",
   "execution_count": 3,
   "source": [
    "# Create directories to store data of Yellow taxi and High Volume FHV \n",
    "output_relative_dirs_type = ['../data/raw/', '../data/curated/']\n",
    "target_dirs_taxi = ['yellow', 'high_volume']\n",
    "\n",
    "scripts.make_directories(output_relative_dirs_type, target_dirs_taxi)"
   ],
   "outputs": [],
   "metadata": {}
  },
  {
   "cell_type": "code",
   "execution_count": 4,
   "source": [
    "# Create directories to store data in 2023 and 2024\n",
    "output_relative_dirs_taxi = []\n",
    "for ord in output_relative_dirs_type:\n",
    "    for td in target_dirs_taxi:\n",
    "        output_relative_dirs_taxi.append(ord + td + '/')\n",
    "target_dirs_year = ['2023', '2024']\n",
    "\n",
    "scripts.make_directories(output_relative_dirs_taxi, target_dirs_year)"
   ],
   "outputs": [],
   "metadata": {}
  },
  {
   "cell_type": "code",
   "execution_count": 5,
   "source": [
    "# Retrieve data of yellow taxi from 2023\n",
    "URL_TEMPLATE_YELLOW = \"https://d37ci6vzurychx.cloudfront.net/trip-data/yellow_tripdata_\"\n",
    "\n",
    "months_2023 = [3, 4, 5, 6, 9, 10]\n",
    "\n",
    "scripts.download_files(URL_TEMPLATE_YELLOW, \"../data/raw/yellow/2023\", '2023', months_2023)"
   ],
   "outputs": [
    {
     "output_type": "stream",
     "name": "stdout",
     "text": [
      "Begin month 03\n",
      "https://d37ci6vzurychx.cloudfront.net/trip-data/yellow_tripdata_2023-03.parquet\n",
      "Completed month 03\n",
      "Begin month 04\n",
      "https://d37ci6vzurychx.cloudfront.net/trip-data/yellow_tripdata_2023-04.parquet\n",
      "Completed month 04\n",
      "Begin month 05\n",
      "https://d37ci6vzurychx.cloudfront.net/trip-data/yellow_tripdata_2023-05.parquet\n",
      "Completed month 05\n",
      "Begin month 06\n",
      "https://d37ci6vzurychx.cloudfront.net/trip-data/yellow_tripdata_2023-06.parquet\n",
      "Completed month 06\n",
      "Begin month 09\n",
      "https://d37ci6vzurychx.cloudfront.net/trip-data/yellow_tripdata_2023-09.parquet\n",
      "Completed month 09\n",
      "Begin month 10\n",
      "https://d37ci6vzurychx.cloudfront.net/trip-data/yellow_tripdata_2023-10.parquet\n",
      "Completed month 10\n"
     ]
    }
   ],
   "metadata": {}
  },
  {
   "cell_type": "code",
   "execution_count": 6,
   "source": [
    "# Retrieve data of FHV from 2023\n",
    "URL_TEMPLATE_FHVHV = \"https://d37ci6vzurychx.cloudfront.net/trip-data/fhvhv_tripdata_\"\n",
    "\n",
    "scripts.download_files(URL_TEMPLATE_FHVHV, \"../data/raw/high_volume/2023\", '2023', months_2023)"
   ],
   "outputs": [
    {
     "output_type": "stream",
     "name": "stdout",
     "text": [
      "Begin month 03\n",
      "https://d37ci6vzurychx.cloudfront.net/trip-data/fhvhv_tripdata_2023-03.parquet\n",
      "Completed month 03\n",
      "Begin month 04\n",
      "https://d37ci6vzurychx.cloudfront.net/trip-data/fhvhv_tripdata_2023-04.parquet\n",
      "Completed month 04\n",
      "Begin month 05\n",
      "https://d37ci6vzurychx.cloudfront.net/trip-data/fhvhv_tripdata_2023-05.parquet\n",
      "Completed month 05\n",
      "Begin month 06\n",
      "https://d37ci6vzurychx.cloudfront.net/trip-data/fhvhv_tripdata_2023-06.parquet\n",
      "Completed month 06\n",
      "Begin month 09\n",
      "https://d37ci6vzurychx.cloudfront.net/trip-data/fhvhv_tripdata_2023-09.parquet\n",
      "Completed month 09\n",
      "Begin month 10\n",
      "https://d37ci6vzurychx.cloudfront.net/trip-data/fhvhv_tripdata_2023-10.parquet\n",
      "Completed month 10\n"
     ]
    }
   ],
   "metadata": {}
  }
 ],
 "metadata": {
  "orig_nbformat": 4,
  "language_info": {
   "name": "python",
   "version": "3.11.2",
   "mimetype": "text/x-python",
   "codemirror_mode": {
    "name": "ipython",
    "version": 3
   },
   "pygments_lexer": "ipython3",
   "nbconvert_exporter": "python",
   "file_extension": ".py"
  },
  "kernelspec": {
   "name": "python3",
   "display_name": "Python 3.11.2 64-bit"
  },
  "interpreter": {
   "hash": "aee8b7b246df8f9039afb4144a1f6fd8d2ca17a180786b69acc140d282b71a49"
  }
 },
 "nbformat": 4,
 "nbformat_minor": 2
}