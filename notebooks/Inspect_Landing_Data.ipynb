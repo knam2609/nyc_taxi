{
 "cells": [
  {
   "cell_type": "code",
   "execution_count": 1,
   "source": [
    "# Adjust Python path within the notebook\n",
    "import sys\n",
    "project_root = '/Users/thangnguyen/Documents/GitHub/project-1-individual-knam2609'\n",
    "if project_root not in sys.path:\n",
    "    sys.path.insert(0, project_root)\n",
    "\n",
    "import scripts"
   ],
   "outputs": [],
   "metadata": {}
  },
  {
   "cell_type": "code",
   "execution_count": 2,
   "source": [
    "from functools import reduce\n",
    "from pyspark.sql.functions import col, sum as sum_, unix_timestamp"
   ],
   "outputs": [],
   "metadata": {}
  },
  {
   "cell_type": "code",
   "execution_count": 3,
   "source": [
    "# Create SparkSession\n",
    "spark = scripts.clean_base.create_spark_session()"
   ],
   "outputs": [
    {
     "output_type": "stream",
     "name": "stderr",
     "text": [
      "24/08/27 15:27:30 WARN Utils: Your hostname, THANGs-MacBook-Air.local resolves to a loopback address: 127.0.0.1; using 100.86.89.69 instead (on interface en0)\n",
      "24/08/27 15:27:30 WARN Utils: Set SPARK_LOCAL_IP if you need to bind to another address\n",
      "Setting default log level to \"WARN\".\n",
      "To adjust logging level use sc.setLogLevel(newLevel). For SparkR, use setLogLevel(newLevel).\n",
      "24/08/27 15:27:31 WARN NativeCodeLoader: Unable to load native-hadoop library for your platform... using builtin-java classes where applicable\n",
      "24/08/27 15:27:31 WARN Utils: Service 'SparkUI' could not bind on port 4040. Attempting port 4041.\n"
     ]
    }
   ],
   "metadata": {}
  },
  {
   "cell_type": "code",
   "execution_count": 4,
   "source": [
    "def count_null_values(df):\n",
    "    \"\"\"Count null values in each column of dataframe df\"\"\"\n",
    "    null_counts = df.select([sum_(col(c).isNull().cast(\"int\")).alias(c) for c in df.columns])\n",
    "    print(\"Null values of each column:\")\n",
    "    null_counts.show(vertical=True)\n"
   ],
   "outputs": [],
   "metadata": {}
  },
  {
   "cell_type": "code",
   "execution_count": 5,
   "source": [
    "# Inspect yellow taxi's data\n",
    "yellow_files = scripts.clean_base.list_files_in_directory(\"../data/landing/yellow/\")\n",
    "yellow_dfs = [spark.read.parquet(file) for file in yellow_files]"
   ],
   "outputs": [],
   "metadata": {}
  },
  {
   "cell_type": "code",
   "execution_count": 6,
   "source": [
    "yellow_dfs[0].printSchema()"
   ],
   "outputs": [
    {
     "output_type": "stream",
     "name": "stdout",
     "text": [
      "root\n",
      " |-- VendorID: integer (nullable = true)\n",
      " |-- tpep_pickup_datetime: timestamp_ntz (nullable = true)\n",
      " |-- tpep_dropoff_datetime: timestamp_ntz (nullable = true)\n",
      " |-- passenger_count: long (nullable = true)\n",
      " |-- trip_distance: double (nullable = true)\n",
      " |-- RatecodeID: long (nullable = true)\n",
      " |-- store_and_fwd_flag: string (nullable = true)\n",
      " |-- PULocationID: integer (nullable = true)\n",
      " |-- DOLocationID: integer (nullable = true)\n",
      " |-- payment_type: long (nullable = true)\n",
      " |-- fare_amount: double (nullable = true)\n",
      " |-- extra: double (nullable = true)\n",
      " |-- mta_tax: double (nullable = true)\n",
      " |-- tip_amount: double (nullable = true)\n",
      " |-- tolls_amount: double (nullable = true)\n",
      " |-- improvement_surcharge: double (nullable = true)\n",
      " |-- total_amount: double (nullable = true)\n",
      " |-- congestion_surcharge: double (nullable = true)\n",
      " |-- Airport_fee: double (nullable = true)\n",
      "\n"
     ]
    }
   ],
   "metadata": {}
  },
  {
   "cell_type": "code",
   "execution_count": 7,
   "source": [
    "for df in yellow_dfs:\n",
    "    print(yellow_files[yellow_dfs.index(df)])\n",
    "    print(f\"Number of rows: {df.count()}\\n\")\n",
    "    print(\"Number of trips of different vendors:\")\n",
    "    df.groupBy(\"VendorID\").count().show()\n",
    "    # Calculate trip time in minutes\n",
    "    df = df.withColumn(\"trip_time\", (unix_timestamp(col(\"tpep_dropoff_datetime\")) - unix_timestamp(col(\"tpep_pickup_datetime\"))) / 60)\n",
    "    # Calculate fare per miles\n",
    "    df = df.withColumn(\"fare_per_miles\", col(\"total_amount\") / col(\"trip_distance\"))\n",
    "    print(df.filter(df[\"trip_time\"] < 0).count())\n",
    "    print(\"Min-Max values of each continous columns:\")\n",
    "    scripts.manipulate_data.find_min_max_df(df, scripts.clean_yellow.COLUMNS).show()\n",
    "    print(\"Number of outliers:\")\n",
    "    print(\"For fare_per_miles:\") \n",
    "    print(scripts.manipulate_data.detect_outliers(df, \"fare_per_miles\", 0.1, 0.9)[0].count())\n",
    "    print(\"For trip_distance:\")\n",
    "    print(scripts.manipulate_data.detect_outliers(df, \"trip_distance\", 0.1, 0.9)[0].count())\n",
    "    print(\"For trip_time:\")\n",
    "    print(scripts.manipulate_data.detect_outliers(df, \"trip_time\", 0.1, 0.9)[0].count())\n",
    "    count_null_values(df)\n",
    "    condition = reduce(lambda a, b: a | b, (col(c).isNull() for c in df.columns))\n",
    "    df_with_null = df.filter(condition)\n",
    "    print(f\"Number of rows with null: {df_with_null.count()}\\n\")\n",
    "    print(\"Vendors with null records:\")\n",
    "    df_with_null.groupBy(\"VendorID\").count().show()"
   ],
   "outputs": [
    {
     "output_type": "stream",
     "name": "stdout",
     "text": [
      "../data/landing/yellow/2023-08.parquet\n",
      "Number of rows: 2824209\n",
      "\n",
      "Number of trips of different vendors:\n",
      "+--------+-------+\n",
      "|VendorID|  count|\n",
      "+--------+-------+\n",
      "|       1| 716980|\n",
      "|       2|2106608|\n",
      "|       6|    621|\n",
      "+--------+-------+\n",
      "\n",
      "146\n",
      "Min-Max values of each continous columns:\n",
      "+--------------------+------------------+-----------------+\n",
      "|              Column|               Min|              Max|\n",
      "+--------------------+------------------+-----------------+\n",
      "|     passenger_count|               0.0|              9.0|\n",
      "|       trip_distance|               0.0|        345729.44|\n",
      "|         fare_amount|            -900.0|           1375.0|\n",
      "|               extra|              -7.5|            14.25|\n",
      "|             mta_tax|              -0.5|              4.0|\n",
      "|          tip_amount|             -90.7|            353.5|\n",
      "|        tolls_amount|             -54.0|           170.75|\n",
      "|improvement_surch...|              -1.0|              1.0|\n",
      "|        total_amount|            -901.0|          1435.19|\n",
      "|congestion_surcharge|              -2.5|              2.5|\n",
      "|           trip_time|-60.13333333333333|9137.083333333334|\n",
      "|      fare_per_miles|          -16650.0|          35350.0|\n",
      "+--------------------+------------------+-----------------+\n",
      "\n",
      "Number of outliers:\n",
      "For fare_per_miles:\n"
     ]
    },
    {
     "output_type": "stream",
     "name": "stderr",
     "text": []
    },
    {
     "output_type": "stream",
     "name": "stdout",
     "text": [
      "lower: -14.02687640153014, upper: 39.15898298377523\n",
      "39510\n",
      "For trip_distance:\n",
      "lower: -11.770000000000001, upper: 21.43\n",
      "19322\n",
      "For trip_time:\n",
      "lower: -35.78333333333333, upper: 72.21666666666667\n",
      "15276\n",
      "Null values of each column:\n",
      "-RECORD 0----------------------\n",
      " VendorID              | 0     \n",
      " tpep_pickup_datetime  | 0     \n",
      " tpep_dropoff_datetime | 0     \n",
      " passenger_count       | 87886 \n",
      " trip_distance         | 0     \n",
      " RatecodeID            | 87886 \n",
      " store_and_fwd_flag    | 87886 \n",
      " PULocationID          | 0     \n",
      " DOLocationID          | 0     \n",
      " payment_type          | 0     \n",
      " fare_amount           | 0     \n",
      " extra                 | 0     \n",
      " mta_tax               | 0     \n",
      " tip_amount            | 0     \n",
      " tolls_amount          | 0     \n",
      " improvement_surcharge | 0     \n",
      " total_amount          | 0     \n",
      " congestion_surcharge  | 87886 \n",
      " Airport_fee           | 87886 \n",
      " trip_time             | 0     \n",
      " fare_per_miles        | 57429 \n",
      "\n",
      "Number of rows with null: 126767\n",
      "\n",
      "Vendors with null records:\n",
      "+--------+-----+\n",
      "|VendorID|count|\n",
      "+--------+-----+\n",
      "|       1|46057|\n",
      "|       2|80089|\n",
      "|       6|  621|\n",
      "+--------+-----+\n",
      "\n",
      "../data/landing/yellow/2023-11.parquet\n",
      "Number of rows: 3339715\n",
      "\n",
      "Number of trips of different vendors:\n",
      "+--------+-------+\n",
      "|VendorID|  count|\n",
      "+--------+-------+\n",
      "|       1| 851444|\n",
      "|       2|2487817|\n",
      "|       6|    454|\n",
      "+--------+-------+\n",
      "\n",
      "885\n",
      "Min-Max values of each continous columns:\n",
      "+--------------------+--------+--------+\n",
      "|              Column|     Min|     Max|\n",
      "+--------------------+--------+--------+\n",
      "|     passenger_count|     0.0|     9.0|\n",
      "|       trip_distance|     0.0|90771.91|\n",
      "|         fare_amount| -872.99|  1726.6|\n",
      "|               extra|    -7.5|    65.0|\n",
      "|             mta_tax|    -0.5|     4.0|\n",
      "|          tip_amount|  -100.0|  604.09|\n",
      "|        tolls_amount|  -77.75|  104.75|\n",
      "|improvement_surch...|    -1.0|     1.0|\n",
      "|        total_amount|  -801.0| 1814.27|\n",
      "|congestion_surcharge|    -2.5|     2.5|\n",
      "|           trip_time|  -58.55|  5796.1|\n",
      "|      fare_per_miles|-16969.0| 33420.0|\n",
      "+--------------------+--------+--------+\n",
      "\n",
      "Number of outliers:\n",
      "For fare_per_miles:\n",
      "lower: -16.05495356037152, upper: 43.23297213622291\n",
      "49680\n",
      "For trip_distance:\n",
      "lower: -10.825000000000001, upper: 19.695\n",
      "38309\n",
      "For trip_time:\n",
      "lower: -35.925000000000004, upper: 73.34166666666667\n",
      "30437\n",
      "Null values of each column:\n"
     ]
    },
    {
     "output_type": "stream",
     "name": "stderr",
     "text": [
      "24/08/27 15:27:44 WARN GarbageCollectionMetrics: To enable non-built-in garbage collector(s) List(G1 Concurrent GC), users should configure it(them) to spark.eventLog.gcMetrics.youngGenerationGarbageCollectors or spark.eventLog.gcMetrics.oldGenerationGarbageCollectors\n"
     ]
    },
    {
     "output_type": "stream",
     "name": "stdout",
     "text": [
      "-RECORD 0-----------------------\n",
      " VendorID              | 0      \n",
      " tpep_pickup_datetime  | 0      \n",
      " tpep_dropoff_datetime | 0      \n",
      " passenger_count       | 132675 \n",
      " trip_distance         | 0      \n",
      " RatecodeID            | 132675 \n",
      " store_and_fwd_flag    | 132675 \n",
      " PULocationID          | 0      \n",
      " DOLocationID          | 0      \n",
      " payment_type          | 0      \n",
      " fare_amount           | 0      \n",
      " extra                 | 0      \n",
      " mta_tax               | 0      \n",
      " tip_amount            | 0      \n",
      " tolls_amount          | 0      \n",
      " improvement_surcharge | 0      \n",
      " total_amount          | 0      \n",
      " congestion_surcharge  | 132675 \n",
      " Airport_fee           | 132675 \n",
      " trip_time             | 0      \n",
      " fare_per_miles        | 102583 \n",
      "\n",
      "Number of rows with null: 173321\n",
      "\n",
      "Vendors with null records:\n",
      "+--------+-----+\n",
      "|VendorID|count|\n",
      "+--------+-----+\n",
      "|       1|94464|\n",
      "|       2|78403|\n",
      "|       6|  454|\n",
      "+--------+-----+\n",
      "\n",
      "../data/landing/yellow/2023-10.parquet\n",
      "Number of rows: 3522285\n",
      "\n",
      "Number of trips of different vendors:\n",
      "+--------+-------+\n",
      "|VendorID|  count|\n",
      "+--------+-------+\n",
      "|       1| 904463|\n",
      "|       2|2617320|\n",
      "|       6|    502|\n",
      "+--------+-------+\n",
      "\n",
      "85\n",
      "Min-Max values of each continous columns:\n",
      "+--------------------+--------------------+-----------------+\n",
      "|              Column|                 Min|              Max|\n",
      "+--------------------+--------------------+-----------------+\n",
      "|     passenger_count|                 0.0|              9.0|\n",
      "|       trip_distance|                 0.0|        205544.17|\n",
      "|         fare_amount|              -900.0|           6339.0|\n",
      "|               extra|                -7.5|            17.25|\n",
      "|             mta_tax|                -0.5|            52.09|\n",
      "|          tip_amount|               -90.0|           412.94|\n",
      "|        tolls_amount|              -69.69|            270.0|\n",
      "|improvement_surch...|                -1.0|              1.0|\n",
      "|        total_amount|              -901.0|           6339.0|\n",
      "|congestion_surcharge|                -2.5|              2.5|\n",
      "|           trip_time|-2.82482984666666...|5329.433333333333|\n",
      "|      fare_per_miles|            -26350.0|          47393.0|\n",
      "+--------------------+--------------------+-----------------+\n",
      "\n",
      "Number of outliers:\n",
      "For fare_per_miles:\n",
      "lower: -18.474867724867725, upper: 46.742063492063494\n",
      "40354\n",
      "For trip_distance:\n",
      "lower: -10.545, upper: 19.174999999999997\n",
      "55254\n",
      "For trip_time:\n",
      "lower: -38.65833333333333, upper: 76.20833333333333\n",
      "22564\n",
      "Null values of each column:\n"
     ]
    },
    {
     "output_type": "stream",
     "name": "stderr",
     "text": []
    },
    {
     "output_type": "stream",
     "name": "stdout",
     "text": [
      "-RECORD 0-----------------------\n",
      " VendorID              | 0      \n",
      " tpep_pickup_datetime  | 0      \n",
      " tpep_dropoff_datetime | 0      \n",
      " passenger_count       | 154929 \n",
      " trip_distance         | 0      \n",
      " RatecodeID            | 154929 \n",
      " store_and_fwd_flag    | 154929 \n",
      " PULocationID          | 0      \n",
      " DOLocationID          | 0      \n",
      " payment_type          | 0      \n",
      " fare_amount           | 0      \n",
      " extra                 | 0      \n",
      " mta_tax               | 0      \n",
      " tip_amount            | 0      \n",
      " tolls_amount          | 0      \n",
      " improvement_surcharge | 0      \n",
      " total_amount          | 0      \n",
      " congestion_surcharge  | 154929 \n",
      " Airport_fee           | 154929 \n",
      " trip_time             | 0      \n",
      " fare_per_miles        | 121686 \n",
      "\n",
      "Number of rows with null: 199721\n",
      "\n",
      "Vendors with null records:\n",
      "+--------+------+\n",
      "|VendorID| count|\n",
      "+--------+------+\n",
      "|       1|110329|\n",
      "|       2| 88890|\n",
      "|       6|   502|\n",
      "+--------+------+\n",
      "\n",
      "../data/landing/yellow/2023-09.parquet\n",
      "Number of rows: 2846722\n",
      "\n",
      "Number of trips of different vendors:\n",
      "+--------+-------+\n",
      "|VendorID|  count|\n",
      "+--------+-------+\n",
      "|       1| 731968|\n",
      "|       2|2113902|\n",
      "|       6|    852|\n",
      "+--------+-------+\n",
      "\n",
      "146\n",
      "Min-Max values of each continous columns:\n",
      "+--------------------+--------+-----------------+\n",
      "|              Column|     Min|              Max|\n",
      "+--------------------+--------+-----------------+\n",
      "|     passenger_count|     0.0|              9.0|\n",
      "|       trip_distance|     0.0|        265869.44|\n",
      "|         fare_amount|  -870.0|        187502.96|\n",
      "|               extra|    -7.5|          10002.5|\n",
      "|             mta_tax|    -0.5|              4.0|\n",
      "|          tip_amount| -330.88|            411.1|\n",
      "|        tolls_amount|  -72.75|           121.83|\n",
      "|improvement_surch...|    -1.0|              1.0|\n",
      "|        total_amount| -872.75|         187513.9|\n",
      "|congestion_surcharge|    -2.5|              2.5|\n",
      "|           trip_time| -1177.0|6266.383333333333|\n",
      "|      fare_per_miles|-13450.0|204524.9285714286|\n",
      "+--------------------+--------+-----------------+\n",
      "\n",
      "Number of outliers:\n",
      "For fare_per_miles:\n",
      "lower: -17.23692835960668, upper: 44.23208990167005\n",
      "39486\n",
      "For trip_distance:\n",
      "lower: -10.465, upper: 19.095\n",
      "49841\n",
      "For trip_time:\n",
      "lower: -40.49166666666667, upper: 79.84166666666667\n",
      "22484\n",
      "Null values of each column:\n"
     ]
    },
    {
     "output_type": "stream",
     "name": "stderr",
     "text": []
    },
    {
     "output_type": "stream",
     "name": "stdout",
     "text": [
      "-RECORD 0-----------------------\n",
      " VendorID              | 0      \n",
      " tpep_pickup_datetime  | 0      \n",
      " tpep_dropoff_datetime | 0      \n",
      " passenger_count       | 140225 \n",
      " trip_distance         | 0      \n",
      " RatecodeID            | 140225 \n",
      " store_and_fwd_flag    | 140225 \n",
      " PULocationID          | 0      \n",
      " DOLocationID          | 0      \n",
      " payment_type          | 0      \n",
      " fare_amount           | 0      \n",
      " extra                 | 0      \n",
      " mta_tax               | 0      \n",
      " tip_amount            | 0      \n",
      " tolls_amount          | 0      \n",
      " improvement_surcharge | 0      \n",
      " total_amount          | 0      \n",
      " congestion_surcharge  | 140225 \n",
      " Airport_fee           | 140225 \n",
      " trip_time             | 0      \n",
      " fare_per_miles        | 98547  \n",
      "\n",
      "Number of rows with null: 177468\n",
      "\n",
      "Vendors with null records:\n",
      "+--------+-----+\n",
      "|VendorID|count|\n",
      "+--------+-----+\n",
      "|       1|90480|\n",
      "|       2|86136|\n",
      "|       6|  852|\n",
      "+--------+-----+\n",
      "\n",
      "../data/landing/yellow/2023-06.parquet\n",
      "Number of rows: 3307234\n",
      "\n",
      "Number of trips of different vendors:\n",
      "+--------+-------+\n",
      "|VendorID|  count|\n",
      "+--------+-------+\n",
      "|       1| 873389|\n",
      "|       6|   1113|\n",
      "|       2|2432732|\n",
      "+--------+-------+\n",
      "\n",
      "189\n",
      "Min-Max values of each continous columns:\n",
      "+--------------------+------------------+------------------+\n",
      "|              Column|               Min|               Max|\n",
      "+--------------------+------------------+------------------+\n",
      "|     passenger_count|               0.0|               9.0|\n",
      "|       trip_distance|               0.0|         185250.45|\n",
      "|         fare_amount|            -750.0|         386983.63|\n",
      "|               extra|              -7.5|             14.25|\n",
      "|             mta_tax|              -0.5|              5.75|\n",
      "|          tip_amount|             -95.0|            711.88|\n",
      "|        tolls_amount|            -72.55|            665.56|\n",
      "|improvement_surch...|              -1.0|               1.0|\n",
      "|        total_amount|            -751.0|         386987.63|\n",
      "|congestion_surcharge|              -2.5|               2.5|\n",
      "|           trip_time|-64.93333333333334|           4708.15|\n",
      "|      fare_per_miles|          -12550.0|257991.75333333333|\n",
      "+--------------------+------------------+------------------+\n",
      "\n",
      "Number of outliers:\n",
      "For fare_per_miles:\n"
     ]
    },
    {
     "output_type": "stream",
     "name": "stderr",
     "text": []
    },
    {
     "output_type": "stream",
     "name": "stdout",
     "text": [
      "lower: -15.233606557377048, upper: 42.18934426229508\n",
      "40017\n",
      "For trip_distance:\n"
     ]
    },
    {
     "output_type": "stream",
     "name": "stderr",
     "text": []
    },
    {
     "output_type": "stream",
     "name": "stdout",
     "text": [
      "lower: -14.809999999999999, upper: 26.39\n",
      "8426\n",
      "For trip_time:\n"
     ]
    },
    {
     "output_type": "stream",
     "name": "stderr",
     "text": []
    },
    {
     "output_type": "stream",
     "name": "stdout",
     "text": [
      "lower: -43.50833333333333, upper: 86.42500000000001\n",
      "10125\n",
      "Null values of each column:\n",
      "-RECORD 0----------------------\n",
      " VendorID              | 0     \n",
      " tpep_pickup_datetime  | 0     \n",
      " tpep_dropoff_datetime | 0     \n",
      " passenger_count       | 99887 \n",
      " trip_distance         | 0     \n",
      " RatecodeID            | 99887 \n",
      " store_and_fwd_flag    | 99887 \n",
      " PULocationID          | 0     \n",
      " DOLocationID          | 0     \n",
      " payment_type          | 0     \n",
      " fare_amount           | 0     \n",
      " extra                 | 0     \n",
      " mta_tax               | 0     \n",
      " tip_amount            | 0     \n",
      " tolls_amount          | 0     \n",
      " improvement_surcharge | 0     \n",
      " total_amount          | 0     \n",
      " congestion_surcharge  | 99887 \n",
      " Airport_fee           | 99887 \n",
      " trip_time             | 0     \n",
      " fare_per_miles        | 47472 \n",
      "\n",
      "Number of rows with null: 141492\n",
      "\n",
      "Vendors with null records:\n",
      "+--------+------+\n",
      "|VendorID| count|\n",
      "+--------+------+\n",
      "|       1| 38750|\n",
      "|       6|  1113|\n",
      "|       2|101629|\n",
      "+--------+------+\n",
      "\n",
      "../data/landing/yellow/2023-07.parquet\n",
      "Number of rows: 2907108\n",
      "\n",
      "Number of trips of different vendors:\n",
      "+--------+-------+\n",
      "|VendorID|  count|\n",
      "+--------+-------+\n",
      "|       1| 741173|\n",
      "|       6|    724|\n",
      "|       2|2165211|\n",
      "+--------+-------+\n",
      "\n",
      "162\n",
      "Min-Max values of each continous columns:\n",
      "+--------------------+------------------+-----------------+\n",
      "|              Column|               Min|              Max|\n",
      "+--------------------+------------------+-----------------+\n",
      "|     passenger_count|               0.0|              9.0|\n",
      "|       trip_distance|               0.0|        191944.96|\n",
      "|         fare_amount|            -602.9|           1040.4|\n",
      "|               extra|             -10.0|            67.33|\n",
      "|             mta_tax|              -0.5|              4.0|\n",
      "|          tip_amount|             -95.0|           443.05|\n",
      "|        tolls_amount|             -91.3|           114.55|\n",
      "|improvement_surch...|              -1.0|              1.0|\n",
      "|        total_amount|            -622.3|          1079.45|\n",
      "|congestion_surcharge|              -2.5|             2.75|\n",
      "|           trip_time|-57.11666666666667|7348.833333333333|\n",
      "|      fare_per_miles|          -23350.0|          30350.0|\n",
      "+--------------------+------------------+-----------------+\n",
      "\n",
      "Number of outliers:\n",
      "For fare_per_miles:\n"
     ]
    },
    {
     "output_type": "stream",
     "name": "stderr",
     "text": []
    },
    {
     "output_type": "stream",
     "name": "stdout",
     "text": [
      "lower: -17.330206378986865, upper: 43.99812382739212\n",
      "32024\n",
      "For trip_distance:\n"
     ]
    },
    {
     "output_type": "stream",
     "name": "stderr",
     "text": []
    },
    {
     "output_type": "stream",
     "name": "stdout",
     "text": [
      "lower: -15.590000000000003, upper: 27.85\n",
      "5739\n",
      "For trip_time:\n"
     ]
    },
    {
     "output_type": "stream",
     "name": "stderr",
     "text": []
    },
    {
     "output_type": "stream",
     "name": "stdout",
     "text": [
      "lower: -33.141666666666666, upper: 66.39166666666667\n",
      "22986\n",
      "Null values of each column:\n"
     ]
    },
    {
     "output_type": "stream",
     "name": "stderr",
     "text": []
    },
    {
     "output_type": "stream",
     "name": "stdout",
     "text": [
      "-RECORD 0----------------------\n",
      " VendorID              | 0     \n",
      " tpep_pickup_datetime  | 0     \n",
      " tpep_dropoff_datetime | 0     \n",
      " passenger_count       | 85086 \n",
      " trip_distance         | 0     \n",
      " RatecodeID            | 85086 \n",
      " store_and_fwd_flag    | 85086 \n",
      " PULocationID          | 0     \n",
      " DOLocationID          | 0     \n",
      " payment_type          | 0     \n",
      " fare_amount           | 0     \n",
      " extra                 | 0     \n",
      " mta_tax               | 0     \n",
      " tip_amount            | 0     \n",
      " tolls_amount          | 0     \n",
      " improvement_surcharge | 0     \n",
      " total_amount          | 0     \n",
      " congestion_surcharge  | 85086 \n",
      " Airport_fee           | 85086 \n",
      " trip_time             | 0     \n",
      " fare_per_miles        | 49790 \n",
      "\n",
      "Number of rows with null: 123909\n",
      "\n",
      "Vendors with null records:\n",
      "+--------+-----+\n",
      "|VendorID|count|\n",
      "+--------+-----+\n",
      "|       1|38757|\n",
      "|       6|  724|\n",
      "|       2|84428|\n",
      "+--------+-----+\n",
      "\n"
     ]
    },
    {
     "output_type": "stream",
     "name": "stderr",
     "text": []
    }
   ],
   "metadata": {}
  },
  {
   "cell_type": "code",
   "execution_count": 8,
   "source": [
    "yellow_dfs[0].printSchema()"
   ],
   "outputs": [
    {
     "output_type": "stream",
     "name": "stdout",
     "text": [
      "root\n",
      " |-- VendorID: integer (nullable = true)\n",
      " |-- tpep_pickup_datetime: timestamp_ntz (nullable = true)\n",
      " |-- tpep_dropoff_datetime: timestamp_ntz (nullable = true)\n",
      " |-- passenger_count: long (nullable = true)\n",
      " |-- trip_distance: double (nullable = true)\n",
      " |-- RatecodeID: long (nullable = true)\n",
      " |-- store_and_fwd_flag: string (nullable = true)\n",
      " |-- PULocationID: integer (nullable = true)\n",
      " |-- DOLocationID: integer (nullable = true)\n",
      " |-- payment_type: long (nullable = true)\n",
      " |-- fare_amount: double (nullable = true)\n",
      " |-- extra: double (nullable = true)\n",
      " |-- mta_tax: double (nullable = true)\n",
      " |-- tip_amount: double (nullable = true)\n",
      " |-- tolls_amount: double (nullable = true)\n",
      " |-- improvement_surcharge: double (nullable = true)\n",
      " |-- total_amount: double (nullable = true)\n",
      " |-- congestion_surcharge: double (nullable = true)\n",
      " |-- Airport_fee: double (nullable = true)\n",
      "\n"
     ]
    }
   ],
   "metadata": {}
  },
  {
   "cell_type": "markdown",
   "source": [
    "It is pretty clear the values are missing completely at randomn => I decide to drop all the null records. \n",
    "Furthermore, I am seeing some abnormally high distance, fare here (> 300k), together with abnormally long trip time so let's have a look at the HVFHV data to see if it also has these problems. Also there are some weird negative and 0 values that should be positive."
   ],
   "metadata": {}
  },
  {
   "cell_type": "code",
   "execution_count": 9,
   "source": [
    "# Inspect HVFHV's data\n",
    "hvfhv_files = scripts.clean_base.list_files_in_directory(\"../data/landing/high_volume/\")\n",
    "hvfhv_dfs = [spark.read.parquet(file) for file in hvfhv_files]"
   ],
   "outputs": [],
   "metadata": {}
  },
  {
   "cell_type": "code",
   "execution_count": 10,
   "source": [
    "hvfhv_dfs[0].printSchema()"
   ],
   "outputs": [
    {
     "output_type": "stream",
     "name": "stdout",
     "text": [
      "root\n",
      " |-- hvfhs_license_num: string (nullable = true)\n",
      " |-- dispatching_base_num: string (nullable = true)\n",
      " |-- originating_base_num: string (nullable = true)\n",
      " |-- request_datetime: timestamp_ntz (nullable = true)\n",
      " |-- on_scene_datetime: timestamp_ntz (nullable = true)\n",
      " |-- pickup_datetime: timestamp_ntz (nullable = true)\n",
      " |-- dropoff_datetime: timestamp_ntz (nullable = true)\n",
      " |-- PULocationID: integer (nullable = true)\n",
      " |-- DOLocationID: integer (nullable = true)\n",
      " |-- trip_miles: double (nullable = true)\n",
      " |-- trip_time: long (nullable = true)\n",
      " |-- base_passenger_fare: double (nullable = true)\n",
      " |-- tolls: double (nullable = true)\n",
      " |-- bcf: double (nullable = true)\n",
      " |-- sales_tax: double (nullable = true)\n",
      " |-- congestion_surcharge: double (nullable = true)\n",
      " |-- airport_fee: double (nullable = true)\n",
      " |-- tips: double (nullable = true)\n",
      " |-- driver_pay: double (nullable = true)\n",
      " |-- shared_request_flag: string (nullable = true)\n",
      " |-- shared_match_flag: string (nullable = true)\n",
      " |-- access_a_ride_flag: string (nullable = true)\n",
      " |-- wav_request_flag: string (nullable = true)\n",
      " |-- wav_match_flag: string (nullable = true)\n",
      "\n"
     ]
    }
   ],
   "metadata": {}
  },
  {
   "cell_type": "code",
   "execution_count": 11,
   "source": [
    "for df in hvfhv_dfs:\n",
    "    print(hvfhv_files[hvfhv_dfs.index(df)])\n",
    "    print(f\"Number of rows: {df.count()}\\n\")\n",
    "    print(\"Number of trips of different brands:\")\n",
    "    df.groupBy(\"hvfhs_license_num\").count().show()\n",
    "    df = scripts.clean_base.rename_column(df, [\"trip_miles\"], [\"trip_distance\"])\n",
    "    df = df.withColumn(\"total_amount\", (col(\"base_passenger_fare\") + col(\"tolls\") + col(\"bcf\") + col(\"sales_tax\") + col(\"congestion_surcharge\") + col(\"airport_fee\") + col(\"tips\")))\n",
    "    # Calculate the waiting time in minutes\n",
    "    df = df.withColumn(\"waiting_time\", (unix_timestamp(col(\"on_scene_datetime\")) - unix_timestamp(col(\"request_datetime\"))) / 60)\n",
    "    # Turn trip_time to minutes\n",
    "    df = df.withColumn(\"trip_time\", (col(\"trip_time\") / 60))\n",
    "    # Calculate fare per miles\n",
    "    df = df.withColumn(\"fare_per_miles\", (col(\"total_amount\") / col(\"trip_distance\")))\n",
    "    print(\"Min-Max values of each continous columns:\")\n",
    "    scripts.manipulate_data.find_min_max_df(df, scripts.clean_high_volume.COLUMNS).show()\n",
    "    print(\"Quantiles of fare_per_miles and Number of outliers:\") \n",
    "    print(\"For fare_per_miles:\") \n",
    "    print(scripts.manipulate_data.detect_outliers(df, \"fare_per_miles\", 0.1, 0.9)[0].count())\n",
    "    print(\"For trip_distance:\")\n",
    "    print(scripts.manipulate_data.detect_outliers(df, \"trip_distance\", 0.1, 0.9)[0].count())\n",
    "    print(\"For trip_time:\")\n",
    "    print(scripts.manipulate_data.detect_outliers(df, \"trip_time\", 0.1, 0.9)[0].count())\n",
    "    count_null_values(df)\n",
    "    condition = reduce(lambda a, b: a | b, (col(c).isNull() for c in df.columns))\n",
    "    df_with_null = df.filter(condition)\n",
    "    print(f\"Number of rows with null: {df_with_null.count()}\\n\")\n",
    "    print(\"Brand with null records:\")\n",
    "    df_with_null.groupBy(\"hvfhs_license_num\").count().show()\n"
   ],
   "outputs": [
    {
     "output_type": "stream",
     "name": "stdout",
     "text": [
      "../data/landing/high_volume/2023-08.parquet\n",
      "Number of rows: 18322150\n",
      "\n",
      "Number of trips of different brands:\n",
      "+-----------------+--------+\n",
      "|hvfhs_license_num|   count|\n",
      "+-----------------+--------+\n",
      "|           HV0005| 5178981|\n",
      "|           HV0003|13143169|\n",
      "+-----------------+--------+\n",
      "\n",
      "Min-Max values of each continous columns:\n"
     ]
    },
    {
     "output_type": "stream",
     "name": "stderr",
     "text": []
    },
    {
     "output_type": "stream",
     "name": "stdout",
     "text": [
      "+--------------------+-------------------+------------------+\n",
      "|              Column|                Min|               Max|\n",
      "+--------------------+-------------------+------------------+\n",
      "|       trip_distance|                0.0|            483.91|\n",
      "|           trip_time|                0.0| 598.0833333333334|\n",
      "| base_passenger_fare|             -47.86|           2398.27|\n",
      "|               tolls|                0.0|            105.12|\n",
      "|                 bcf|                0.0|             66.42|\n",
      "|           sales_tax|                0.0|            214.35|\n",
      "|congestion_surcharge|                0.0|              8.25|\n",
      "|         airport_fee|                0.0|               6.9|\n",
      "|                tips|                0.0|             202.4|\n",
      "|          driver_pay|             -60.93|           2942.83|\n",
      "|        total_amount|             -30.83|2695.9700000000003|\n",
      "|        waiting_time|-277.76666666666665| 942.3666666666667|\n",
      "|      fare_per_miles|-13.025210084033615|           14752.0|\n",
      "+--------------------+-------------------+------------------+\n",
      "\n",
      "Quantiles of fare_per_miles and Number of outliers:\n",
      "For fare_per_miles:\n"
     ]
    },
    {
     "output_type": "stream",
     "name": "stderr",
     "text": []
    },
    {
     "output_type": "stream",
     "name": "stdout",
     "text": [
      "lower: -9.53908913352273, upper: 26.312544389204547\n",
      "224047\n",
      "For trip_distance:\n"
     ]
    },
    {
     "output_type": "stream",
     "name": "stderr",
     "text": []
    },
    {
     "output_type": "stream",
     "name": "stdout",
     "text": [
      "lower: -15.178499999999996, upper: 28.097499999999997\n",
      "171676\n",
      "For trip_time:\n"
     ]
    },
    {
     "output_type": "stream",
     "name": "stderr",
     "text": [
      "24/08/27 15:28:14 WARN SparkStringUtils: Truncated the string representation of a plan since it was too large. This behavior can be adjusted by setting 'spark.sql.debug.maxToStringFields'.\n"
     ]
    },
    {
     "output_type": "stream",
     "name": "stdout",
     "text": [
      "lower: -37.78333333333333, upper: 80.21666666666667\n",
      "85611\n",
      "Null values of each column:\n"
     ]
    },
    {
     "output_type": "stream",
     "name": "stderr",
     "text": []
    },
    {
     "output_type": "stream",
     "name": "stdout",
     "text": [
      "-RECORD 0-----------------------\n",
      " hvfhs_license_num    | 0       \n",
      " dispatching_base_num | 0       \n",
      " originating_base_num | 5165571 \n",
      " request_datetime     | 0       \n",
      " on_scene_datetime    | 5165571 \n",
      " pickup_datetime      | 0       \n",
      " dropoff_datetime     | 0       \n",
      " PULocationID         | 0       \n",
      " DOLocationID         | 0       \n",
      " trip_distance        | 0       \n",
      " trip_time            | 0       \n",
      " base_passenger_fare  | 0       \n",
      " tolls                | 0       \n",
      " bcf                  | 0       \n",
      " sales_tax            | 0       \n",
      " congestion_surcharge | 0       \n",
      " airport_fee          | 0       \n",
      " tips                 | 0       \n",
      " driver_pay           | 0       \n",
      " shared_request_flag  | 0       \n",
      " shared_match_flag    | 0       \n",
      " access_a_ride_flag   | 0       \n",
      " wav_request_flag     | 0       \n",
      " wav_match_flag       | 0       \n",
      " total_amount         | 0       \n",
      " waiting_time         | 5165571 \n",
      " fare_per_miles       | 2940    \n",
      "\n"
     ]
    },
    {
     "output_type": "stream",
     "name": "stderr",
     "text": []
    },
    {
     "output_type": "stream",
     "name": "stdout",
     "text": [
      "Number of rows with null: 5167817\n",
      "\n",
      "Brand with null records:\n"
     ]
    },
    {
     "output_type": "stream",
     "name": "stderr",
     "text": []
    },
    {
     "output_type": "stream",
     "name": "stdout",
     "text": [
      "+-----------------+-------+\n",
      "|hvfhs_license_num|  count|\n",
      "+-----------------+-------+\n",
      "|           HV0005|5165580|\n",
      "|           HV0003|   2237|\n",
      "+-----------------+-------+\n",
      "\n",
      "../data/landing/high_volume/2023-11.parquet\n",
      "Number of rows: 19269250\n",
      "\n",
      "Number of trips of different brands:\n"
     ]
    },
    {
     "output_type": "stream",
     "name": "stderr",
     "text": []
    },
    {
     "output_type": "stream",
     "name": "stdout",
     "text": [
      "+-----------------+--------+\n",
      "|hvfhs_license_num|   count|\n",
      "+-----------------+--------+\n",
      "|           HV0005| 5480477|\n",
      "|           HV0003|13788773|\n",
      "+-----------------+--------+\n",
      "\n",
      "Min-Max values of each continous columns:\n"
     ]
    },
    {
     "output_type": "stream",
     "name": "stderr",
     "text": []
    },
    {
     "output_type": "stream",
     "name": "stdout",
     "text": [
      "+--------------------+-------+------------------+\n",
      "|              Column|    Min|               Max|\n",
      "+--------------------+-------+------------------+\n",
      "|       trip_distance|    0.0|            481.76|\n",
      "|           trip_time|    0.0|            734.55|\n",
      "| base_passenger_fare| -60.26|           2167.21|\n",
      "|               tolls|    0.0|            162.99|\n",
      "|                 bcf|    0.0|             47.92|\n",
      "|           sales_tax|    0.0|            154.65|\n",
      "|congestion_surcharge|    0.0|               5.5|\n",
      "|         airport_fee|    0.0|              10.0|\n",
      "|                tips|    0.0|            222.35|\n",
      "|          driver_pay|  -50.9|           1560.37|\n",
      "|        total_amount| -21.47|2178.2200000000003|\n",
      "|        waiting_time|-248.15|319.18333333333334|\n",
      "|      fare_per_miles|  -23.4|           24930.0|\n",
      "+--------------------+-------+------------------+\n",
      "\n",
      "Quantiles of fare_per_miles and Number of outliers:\n",
      "For fare_per_miles:\n"
     ]
    },
    {
     "output_type": "stream",
     "name": "stderr",
     "text": []
    },
    {
     "output_type": "stream",
     "name": "stdout",
     "text": [
      "lower: -11.157720383126472, upper: 29.221644357770042\n",
      "257368\n",
      "For trip_distance:\n"
     ]
    },
    {
     "output_type": "stream",
     "name": "stderr",
     "text": []
    },
    {
     "output_type": "stream",
     "name": "stdout",
     "text": [
      "lower: -13.065, upper: 24.415\n",
      "278377\n",
      "For trip_time:\n"
     ]
    },
    {
     "output_type": "stream",
     "name": "stderr",
     "text": []
    },
    {
     "output_type": "stream",
     "name": "stdout",
     "text": [
      "lower: -40.73333333333333, upper: 84.86666666666666\n",
      "94806\n",
      "Null values of each column:\n"
     ]
    },
    {
     "output_type": "stream",
     "name": "stderr",
     "text": []
    },
    {
     "output_type": "stream",
     "name": "stdout",
     "text": [
      "-RECORD 0-----------------------\n",
      " hvfhs_license_num    | 0       \n",
      " dispatching_base_num | 0       \n",
      " originating_base_num | 5469048 \n",
      " request_datetime     | 0       \n",
      " on_scene_datetime    | 5469048 \n",
      " pickup_datetime      | 0       \n",
      " dropoff_datetime     | 0       \n",
      " PULocationID         | 0       \n",
      " DOLocationID         | 0       \n",
      " trip_distance        | 0       \n",
      " trip_time            | 0       \n",
      " base_passenger_fare  | 0       \n",
      " tolls                | 0       \n",
      " bcf                  | 0       \n",
      " sales_tax            | 0       \n",
      " congestion_surcharge | 0       \n",
      " airport_fee          | 0       \n",
      " tips                 | 0       \n",
      " driver_pay           | 0       \n",
      " shared_request_flag  | 0       \n",
      " shared_match_flag    | 0       \n",
      " access_a_ride_flag   | 0       \n",
      " wav_request_flag     | 0       \n",
      " wav_match_flag       | 0       \n",
      " total_amount         | 0       \n",
      " waiting_time         | 5469048 \n",
      " fare_per_miles       | 3247    \n",
      "\n"
     ]
    },
    {
     "output_type": "stream",
     "name": "stderr",
     "text": []
    },
    {
     "output_type": "stream",
     "name": "stdout",
     "text": [
      "Number of rows with null: 5471586\n",
      "\n",
      "Brand with null records:\n"
     ]
    },
    {
     "output_type": "stream",
     "name": "stderr",
     "text": []
    },
    {
     "output_type": "stream",
     "name": "stdout",
     "text": [
      "+-----------------+-------+\n",
      "|hvfhs_license_num|  count|\n",
      "+-----------------+-------+\n",
      "|           HV0005|5469060|\n",
      "|           HV0003|   2526|\n",
      "+-----------------+-------+\n",
      "\n",
      "../data/landing/high_volume/2023-10.parquet\n",
      "Number of rows: 20186330\n",
      "\n",
      "Number of trips of different brands:\n",
      "+-----------------+--------+\n",
      "|hvfhs_license_num|   count|\n",
      "+-----------------+--------+\n",
      "|           HV0005| 5810728|\n",
      "|           HV0003|14375602|\n",
      "+-----------------+--------+\n",
      "\n",
      "Min-Max values of each continous columns:\n"
     ]
    },
    {
     "output_type": "stream",
     "name": "stderr",
     "text": []
    },
    {
     "output_type": "stream",
     "name": "stdout",
     "text": [
      "+--------------------+-------------------+------------------+\n",
      "|              Column|                Min|               Max|\n",
      "+--------------------+-------------------+------------------+\n",
      "|       trip_distance|                0.0|             425.0|\n",
      "|           trip_time|                0.0| 769.1666666666666|\n",
      "| base_passenger_fare|             -37.42|           3049.99|\n",
      "|               tolls|                0.0|            103.32|\n",
      "|                 bcf|                0.0|             84.85|\n",
      "|           sales_tax|                0.0|            273.85|\n",
      "|congestion_surcharge|                0.0|              11.0|\n",
      "|         airport_fee|                0.0|               6.9|\n",
      "|                tips|                0.0|             214.7|\n",
      "|          driver_pay|             -63.34|           2196.11|\n",
      "|        total_amount|             -19.27|3444.2999999999997|\n",
      "|        waiting_time|-235.96666666666667| 683.0333333333333|\n",
      "|      fare_per_miles| -514.2857142857143| 580899.9999999999|\n",
      "+--------------------+-------------------+------------------+\n",
      "\n",
      "Quantiles of fare_per_miles and Number of outliers:\n",
      "For fare_per_miles:\n"
     ]
    },
    {
     "output_type": "stream",
     "name": "stderr",
     "text": []
    },
    {
     "output_type": "stream",
     "name": "stdout",
     "text": [
      "lower: -12.654565381790608, upper: 31.76859986781347\n",
      "209161\n",
      "For trip_distance:\n"
     ]
    },
    {
     "output_type": "stream",
     "name": "stderr",
     "text": []
    },
    {
     "output_type": "stream",
     "name": "stdout",
     "text": [
      "lower: -13.135, upper: 24.569\n",
      "286560\n",
      "For trip_time:\n"
     ]
    },
    {
     "output_type": "stream",
     "name": "stderr",
     "text": []
    },
    {
     "output_type": "stream",
     "name": "stdout",
     "text": [
      "lower: -39.99166666666666, upper: 84.875\n",
      "91736\n",
      "Null values of each column:\n"
     ]
    },
    {
     "output_type": "stream",
     "name": "stderr",
     "text": []
    },
    {
     "output_type": "stream",
     "name": "stdout",
     "text": [
      "-RECORD 0-----------------------\n",
      " hvfhs_license_num    | 0       \n",
      " dispatching_base_num | 0       \n",
      " originating_base_num | 5800447 \n",
      " request_datetime     | 0       \n",
      " on_scene_datetime    | 5800447 \n",
      " pickup_datetime      | 0       \n",
      " dropoff_datetime     | 0       \n",
      " PULocationID         | 0       \n",
      " DOLocationID         | 0       \n",
      " trip_distance        | 0       \n",
      " trip_time            | 0       \n",
      " base_passenger_fare  | 0       \n",
      " tolls                | 0       \n",
      " bcf                  | 0       \n",
      " sales_tax            | 0       \n",
      " congestion_surcharge | 0       \n",
      " airport_fee          | 0       \n",
      " tips                 | 0       \n",
      " driver_pay           | 0       \n",
      " shared_request_flag  | 0       \n",
      " shared_match_flag    | 0       \n",
      " access_a_ride_flag   | 0       \n",
      " wav_request_flag     | 0       \n",
      " wav_match_flag       | 0       \n",
      " total_amount         | 0       \n",
      " waiting_time         | 5800447 \n",
      " fare_per_miles       | 3290    \n",
      "\n"
     ]
    },
    {
     "output_type": "stream",
     "name": "stderr",
     "text": []
    },
    {
     "output_type": "stream",
     "name": "stdout",
     "text": [
      "Number of rows with null: 5803006\n",
      "\n",
      "Brand with null records:\n"
     ]
    },
    {
     "output_type": "stream",
     "name": "stderr",
     "text": []
    },
    {
     "output_type": "stream",
     "name": "stdout",
     "text": [
      "+-----------------+-------+\n",
      "|hvfhs_license_num|  count|\n",
      "+-----------------+-------+\n",
      "|           HV0005|5800458|\n",
      "|           HV0003|   2548|\n",
      "+-----------------+-------+\n",
      "\n",
      "../data/landing/high_volume/2023-09.parquet\n",
      "Number of rows: 19851123\n",
      "\n",
      "Number of trips of different brands:\n",
      "+-----------------+--------+\n",
      "|hvfhs_license_num|   count|\n",
      "+-----------------+--------+\n",
      "|           HV0005| 5539517|\n",
      "|           HV0003|14311606|\n",
      "+-----------------+--------+\n",
      "\n",
      "Min-Max values of each continous columns:\n"
     ]
    },
    {
     "output_type": "stream",
     "name": "stderr",
     "text": []
    },
    {
     "output_type": "stream",
     "name": "stdout",
     "text": [
      "+--------------------+-------------------+------------------+\n",
      "|              Column|                Min|               Max|\n",
      "+--------------------+-------------------+------------------+\n",
      "|       trip_distance|                0.0|            438.41|\n",
      "|           trip_time|                0.0| 720.5833333333334|\n",
      "| base_passenger_fare|             -33.46|            2911.3|\n",
      "|               tolls|                0.0|            236.81|\n",
      "|                 bcf|                0.0|             80.22|\n",
      "|           sales_tax|                0.0|            258.89|\n",
      "|congestion_surcharge|                0.0|              11.0|\n",
      "|         airport_fee|                0.0|               6.9|\n",
      "|                tips|                0.0|            184.22|\n",
      "|          driver_pay|             -73.11|           2920.19|\n",
      "|        total_amount|-10.669999999999998|           3256.16|\n",
      "|        waiting_time|           -1477.95|361.93333333333334|\n",
      "|      fare_per_miles|             -760.0|16959.999999999996|\n",
      "+--------------------+-------------------+------------------+\n",
      "\n",
      "Quantiles of fare_per_miles and Number of outliers:\n",
      "For fare_per_miles:\n"
     ]
    },
    {
     "output_type": "stream",
     "name": "stderr",
     "text": []
    },
    {
     "output_type": "stream",
     "name": "stdout",
     "text": [
      "lower: -12.899016813777251, upper: 32.31359585424946\n",
      "278240\n",
      "For trip_distance:\n"
     ]
    },
    {
     "output_type": "stream",
     "name": "stderr",
     "text": []
    },
    {
     "output_type": "stream",
     "name": "stdout",
     "text": [
      "lower: -12.9565, upper: 24.207500000000003\n",
      "282687\n",
      "For trip_time:\n"
     ]
    },
    {
     "output_type": "stream",
     "name": "stderr",
     "text": []
    },
    {
     "output_type": "stream",
     "name": "stdout",
     "text": [
      "lower: -44.04166666666666, upper: 90.69166666666666\n",
      "92531\n",
      "Null values of each column:\n"
     ]
    },
    {
     "output_type": "stream",
     "name": "stderr",
     "text": []
    },
    {
     "output_type": "stream",
     "name": "stdout",
     "text": [
      "-RECORD 0-----------------------\n",
      " hvfhs_license_num    | 0       \n",
      " dispatching_base_num | 0       \n",
      " originating_base_num | 5528568 \n",
      " request_datetime     | 0       \n",
      " on_scene_datetime    | 5528568 \n",
      " pickup_datetime      | 0       \n",
      " dropoff_datetime     | 0       \n",
      " PULocationID         | 0       \n",
      " DOLocationID         | 0       \n",
      " trip_distance        | 0       \n",
      " trip_time            | 0       \n",
      " base_passenger_fare  | 0       \n",
      " tolls                | 0       \n",
      " bcf                  | 0       \n",
      " sales_tax            | 0       \n",
      " congestion_surcharge | 0       \n",
      " airport_fee          | 0       \n",
      " tips                 | 0       \n",
      " driver_pay           | 0       \n",
      " shared_request_flag  | 0       \n",
      " shared_match_flag    | 0       \n",
      " access_a_ride_flag   | 0       \n",
      " wav_request_flag     | 0       \n",
      " wav_match_flag       | 0       \n",
      " total_amount         | 0       \n",
      " waiting_time         | 5528568 \n",
      " fare_per_miles       | 4325    \n",
      "\n"
     ]
    },
    {
     "output_type": "stream",
     "name": "stderr",
     "text": []
    },
    {
     "output_type": "stream",
     "name": "stdout",
     "text": [
      "Number of rows with null: 5532141\n",
      "\n",
      "Brand with null records:\n"
     ]
    },
    {
     "output_type": "stream",
     "name": "stderr",
     "text": []
    },
    {
     "output_type": "stream",
     "name": "stdout",
     "text": [
      "+-----------------+-------+\n",
      "|hvfhs_license_num|  count|\n",
      "+-----------------+-------+\n",
      "|           HV0005|5528579|\n",
      "|           HV0003|   3562|\n",
      "+-----------------+-------+\n",
      "\n",
      "../data/landing/high_volume/2023-06.parquet\n",
      "Number of rows: 19366619\n",
      "\n",
      "Number of trips of different brands:\n"
     ]
    },
    {
     "output_type": "stream",
     "name": "stderr",
     "text": []
    },
    {
     "output_type": "stream",
     "name": "stdout",
     "text": [
      "+-----------------+--------+\n",
      "|hvfhs_license_num|   count|\n",
      "+-----------------+--------+\n",
      "|           HV0005| 5554626|\n",
      "|           HV0003|13811993|\n",
      "+-----------------+--------+\n",
      "\n",
      "Min-Max values of each continous columns:\n"
     ]
    },
    {
     "output_type": "stream",
     "name": "stderr",
     "text": []
    },
    {
     "output_type": "stream",
     "name": "stdout",
     "text": [
      "+--------------------+-------------------+-----------------+\n",
      "|              Column|                Min|              Max|\n",
      "+--------------------+-------------------+-----------------+\n",
      "|       trip_distance|                0.0|           568.43|\n",
      "|           trip_time|                0.0|           640.95|\n",
      "| base_passenger_fare|             -176.4|          3507.11|\n",
      "|               tolls|                0.0|           123.08|\n",
      "|                 bcf|                0.0|           213.02|\n",
      "|           sales_tax|                0.0|           471.52|\n",
      "|congestion_surcharge|                0.0|             8.25|\n",
      "|         airport_fee|                0.0|              6.9|\n",
      "|                tips|                0.0|            361.6|\n",
      "|          driver_pay|            -106.68|          4334.89|\n",
      "|        total_amount|             -18.89|          3763.29|\n",
      "|        waiting_time| -914.2666666666667|           882.55|\n",
      "|      fare_per_miles|-24.971428571428575|65245.99999999999|\n",
      "+--------------------+-------------------+-----------------+\n",
      "\n",
      "Quantiles of fare_per_miles and Number of outliers:\n",
      "For fare_per_miles:\n"
     ]
    },
    {
     "output_type": "stream",
     "name": "stderr",
     "text": []
    },
    {
     "output_type": "stream",
     "name": "stdout",
     "text": [
      "lower: -12.397734843437705, upper: 32.47723739729069\n"
     ]
    },
    {
     "output_type": "stream",
     "name": "stderr",
     "text": []
    },
    {
     "output_type": "stream",
     "name": "stdout",
     "text": [
      "161064\n",
      "For trip_distance:\n"
     ]
    },
    {
     "output_type": "stream",
     "name": "stderr",
     "text": []
    },
    {
     "output_type": "stream",
     "name": "stdout",
     "text": [
      "lower: -17.78, upper: 32.620000000000005\n",
      "116149\n",
      "For trip_time:\n"
     ]
    },
    {
     "output_type": "stream",
     "name": "stderr",
     "text": []
    },
    {
     "output_type": "stream",
     "name": "stdout",
     "text": [
      "lower: -43.90833333333333, upper: 89.09166666666667\n",
      "66232\n",
      "Null values of each column:\n"
     ]
    },
    {
     "output_type": "stream",
     "name": "stderr",
     "text": []
    },
    {
     "output_type": "stream",
     "name": "stdout",
     "text": [
      "-RECORD 0-----------------------\n",
      " hvfhs_license_num    | 0       \n",
      " dispatching_base_num | 0       \n",
      " originating_base_num | 5544472 \n",
      " request_datetime     | 0       \n",
      " on_scene_datetime    | 5544472 \n",
      " pickup_datetime      | 0       \n",
      " dropoff_datetime     | 0       \n",
      " PULocationID         | 0       \n",
      " DOLocationID         | 0       \n",
      " trip_distance        | 0       \n",
      " trip_time            | 0       \n",
      " base_passenger_fare  | 0       \n",
      " tolls                | 0       \n",
      " bcf                  | 0       \n",
      " sales_tax            | 0       \n",
      " congestion_surcharge | 0       \n",
      " airport_fee          | 0       \n",
      " tips                 | 0       \n",
      " driver_pay           | 0       \n",
      " shared_request_flag  | 0       \n",
      " shared_match_flag    | 0       \n",
      " access_a_ride_flag   | 0       \n",
      " wav_request_flag     | 0       \n",
      " wav_match_flag       | 0       \n",
      " total_amount         | 0       \n",
      " waiting_time         | 5544472 \n",
      " fare_per_miles       | 3088    \n",
      "\n"
     ]
    },
    {
     "output_type": "stream",
     "name": "stderr",
     "text": []
    },
    {
     "output_type": "stream",
     "name": "stdout",
     "text": [
      "Number of rows with null: 5547032\n",
      "\n",
      "Brand with null records:\n"
     ]
    },
    {
     "output_type": "stream",
     "name": "stderr",
     "text": []
    },
    {
     "output_type": "stream",
     "name": "stdout",
     "text": [
      "+-----------------+-------+\n",
      "|hvfhs_license_num|  count|\n",
      "+-----------------+-------+\n",
      "|           HV0005|5544481|\n",
      "|           HV0003|   2551|\n",
      "+-----------------+-------+\n",
      "\n",
      "../data/landing/high_volume/2023-07.parquet\n",
      "Number of rows: 19132131\n",
      "\n",
      "Number of trips of different brands:\n"
     ]
    },
    {
     "output_type": "stream",
     "name": "stderr",
     "text": []
    },
    {
     "output_type": "stream",
     "name": "stdout",
     "text": [
      "+-----------------+--------+\n",
      "|hvfhs_license_num|   count|\n",
      "+-----------------+--------+\n",
      "|           HV0005| 5400270|\n",
      "|           HV0003|13731861|\n",
      "+-----------------+--------+\n",
      "\n",
      "Min-Max values of each continous columns:\n"
     ]
    },
    {
     "output_type": "stream",
     "name": "stderr",
     "text": []
    },
    {
     "output_type": "stream",
     "name": "stdout",
     "text": [
      "+--------------------+-------------------+-------+\n",
      "|              Column|                Min|    Max|\n",
      "+--------------------+-------------------+-------+\n",
      "|       trip_distance|                0.0| 503.66|\n",
      "|           trip_time|                0.0|1181.15|\n",
      "| base_passenger_fare|             -37.31|3024.22|\n",
      "|               tolls|                0.0| 109.26|\n",
      "|                 bcf|                0.0|  84.67|\n",
      "|           sales_tax|                0.0| 210.19|\n",
      "|congestion_surcharge|                0.0|   8.25|\n",
      "|         airport_fee|                0.0|    6.9|\n",
      "|                tips|                0.0|  230.0|\n",
      "|          driver_pay|             -62.22|3749.22|\n",
      "|        total_amount|-16.150000000000002|3163.47|\n",
      "|        waiting_time|-191.71666666666667| 1309.5|\n",
      "|      fare_per_miles| -19.23076923076923|64709.0|\n",
      "+--------------------+-------------------+-------+\n",
      "\n",
      "Quantiles of fare_per_miles and Number of outliers:\n",
      "For fare_per_miles:\n"
     ]
    },
    {
     "output_type": "stream",
     "name": "stderr",
     "text": []
    },
    {
     "output_type": "stream",
     "name": "stdout",
     "text": [
      "lower: -12.36501468776651, upper: 30.763271107741872\n"
     ]
    },
    {
     "output_type": "stream",
     "name": "stderr",
     "text": []
    },
    {
     "output_type": "stream",
     "name": "stdout",
     "text": [
      "158959\n",
      "For trip_distance:\n"
     ]
    },
    {
     "output_type": "stream",
     "name": "stderr",
     "text": []
    },
    {
     "output_type": "stream",
     "name": "stdout",
     "text": [
      "lower: -14.216500000000003, upper: 26.707500000000003\n",
      "204198\n",
      "For trip_time:\n"
     ]
    },
    {
     "output_type": "stream",
     "name": "stderr",
     "text": []
    },
    {
     "output_type": "stream",
     "name": "stdout",
     "text": [
      "lower: -37.016666666666666, upper: 79.25\n",
      "88373\n",
      "Null values of each column:\n"
     ]
    },
    {
     "output_type": "stream",
     "name": "stderr",
     "text": []
    },
    {
     "output_type": "stream",
     "name": "stdout",
     "text": [
      "-RECORD 0-----------------------\n",
      " hvfhs_license_num    | 0       \n",
      " dispatching_base_num | 0       \n",
      " originating_base_num | 5388602 \n",
      " request_datetime     | 0       \n",
      " on_scene_datetime    | 5388602 \n",
      " pickup_datetime      | 0       \n",
      " dropoff_datetime     | 0       \n",
      " PULocationID         | 0       \n",
      " DOLocationID         | 0       \n",
      " trip_distance        | 0       \n",
      " trip_time            | 0       \n",
      " base_passenger_fare  | 0       \n",
      " tolls                | 0       \n",
      " bcf                  | 0       \n",
      " sales_tax            | 0       \n",
      " congestion_surcharge | 0       \n",
      " airport_fee          | 0       \n",
      " tips                 | 0       \n",
      " driver_pay           | 0       \n",
      " shared_request_flag  | 0       \n",
      " shared_match_flag    | 0       \n",
      " access_a_ride_flag   | 0       \n",
      " wav_request_flag     | 0       \n",
      " wav_match_flag       | 0       \n",
      " total_amount         | 0       \n",
      " waiting_time         | 5388602 \n",
      " fare_per_miles       | 3193    \n",
      "\n"
     ]
    },
    {
     "output_type": "stream",
     "name": "stderr",
     "text": []
    },
    {
     "output_type": "stream",
     "name": "stdout",
     "text": [
      "Number of rows with null: 5391024\n",
      "\n",
      "Brand with null records:\n"
     ]
    },
    {
     "output_type": "stream",
     "name": "stderr",
     "text": []
    },
    {
     "output_type": "stream",
     "name": "stdout",
     "text": [
      "+-----------------+-------+\n",
      "|hvfhs_license_num|  count|\n",
      "+-----------------+-------+\n",
      "|           HV0005|5388622|\n",
      "|           HV0003|   2402|\n",
      "+-----------------+-------+\n",
      "\n"
     ]
    },
    {
     "output_type": "stream",
     "name": "stderr",
     "text": []
    }
   ],
   "metadata": {}
  },
  {
   "cell_type": "code",
   "execution_count": 12,
   "source": [
    "hvfhv_dfs[0].printSchema()"
   ],
   "outputs": [
    {
     "output_type": "stream",
     "name": "stdout",
     "text": [
      "root\n",
      " |-- hvfhs_license_num: string (nullable = true)\n",
      " |-- dispatching_base_num: string (nullable = true)\n",
      " |-- originating_base_num: string (nullable = true)\n",
      " |-- request_datetime: timestamp_ntz (nullable = true)\n",
      " |-- on_scene_datetime: timestamp_ntz (nullable = true)\n",
      " |-- pickup_datetime: timestamp_ntz (nullable = true)\n",
      " |-- dropoff_datetime: timestamp_ntz (nullable = true)\n",
      " |-- PULocationID: integer (nullable = true)\n",
      " |-- DOLocationID: integer (nullable = true)\n",
      " |-- trip_miles: double (nullable = true)\n",
      " |-- trip_time: long (nullable = true)\n",
      " |-- base_passenger_fare: double (nullable = true)\n",
      " |-- tolls: double (nullable = true)\n",
      " |-- bcf: double (nullable = true)\n",
      " |-- sales_tax: double (nullable = true)\n",
      " |-- congestion_surcharge: double (nullable = true)\n",
      " |-- airport_fee: double (nullable = true)\n",
      " |-- tips: double (nullable = true)\n",
      " |-- driver_pay: double (nullable = true)\n",
      " |-- shared_request_flag: string (nullable = true)\n",
      " |-- shared_match_flag: string (nullable = true)\n",
      " |-- access_a_ride_flag: string (nullable = true)\n",
      " |-- wav_request_flag: string (nullable = true)\n",
      " |-- wav_match_flag: string (nullable = true)\n",
      "\n"
     ]
    }
   ],
   "metadata": {}
  },
  {
   "cell_type": "markdown",
   "source": [
    "Not so much with HVFHV's data. The values are mostly missing on records of Lyft, the missing data of Uber is only due to the trip_distance being 0 so the fare_per_miles is undefined, the values missing are of on_scene_datetime which I genuinely need for my waiting-time analysis + we have a lot of Uber's data => I am dropping all records of Lyft and focus on analyzing Uber's records only.\n",
    "About the abnormally high distance, fare and trip time, HVFHV doesn't have those problems here but it still has abornormally high fare_per_miles and  weird negative and 0 values => I decided to drop the negative and non-positive values depending on the features, drop records which have fare_per_miles outside the 2 quantile bounds because the bounds are resonable => this will take care of the high total amount problem. For the high distance and trip time, I choose to drop any distance higher than 500 and any time longer than 750 minutes as most of the maximum values of Uber are around this time. "
   ],
   "metadata": {}
  }
 ],
 "metadata": {
  "orig_nbformat": 4,
  "language_info": {
   "name": "python",
   "version": "3.11.7",
   "mimetype": "text/x-python",
   "codemirror_mode": {
    "name": "ipython",
    "version": 3
   },
   "pygments_lexer": "ipython3",
   "nbconvert_exporter": "python",
   "file_extension": ".py"
  },
  "kernelspec": {
   "name": "python3",
   "display_name": "Python 3.11.7 64-bit ('base': conda)"
  },
  "interpreter": {
   "hash": "dca0ade3e726a953b501b15e8e990130d2b7799f14cfd9f4271676035ebe5511"
  }
 },
 "nbformat": 4,
 "nbformat_minor": 2
}