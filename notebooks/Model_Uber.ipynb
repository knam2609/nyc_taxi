{
 "cells": [
  {
   "cell_type": "code",
   "execution_count": 1,
   "source": [
    "# Adjust Python path within the notebook\n",
    "import sys\n",
    "project_root = '/Users/thangnguyen/Documents/GitHub/project-1-individual-knam2609'\n",
    "if project_root not in sys.path:\n",
    "    sys.path.insert(0, project_root)\n",
    "\n",
    "import scripts"
   ],
   "outputs": [],
   "metadata": {}
  },
  {
   "cell_type": "code",
   "execution_count": 2,
   "source": [
    "from pyspark.ml.regression import LinearRegression\n",
    "from pyspark.ml.feature import VectorAssembler\n",
    "from pyspark.sql.functions import col"
   ],
   "outputs": [],
   "metadata": {}
  },
  {
   "cell_type": "code",
   "execution_count": 3,
   "source": [
    "# Create SparkSession\n",
    "spark = scripts.clean_base.create_spark_session()"
   ],
   "outputs": [
    {
     "output_type": "stream",
     "name": "stderr",
     "text": [
      "24/08/27 20:58:36 WARN Utils: Your hostname, THANGs-MacBook-Air.local resolves to a loopback address: 127.0.0.1; using 100.86.89.69 instead (on interface en0)\n",
      "24/08/27 20:58:36 WARN Utils: Set SPARK_LOCAL_IP if you need to bind to another address\n",
      "Setting default log level to \"WARN\".\n",
      "To adjust logging level use sc.setLogLevel(newLevel). For SparkR, use setLogLevel(newLevel).\n",
      "24/08/27 20:58:37 WARN NativeCodeLoader: Unable to load native-hadoop library for your platform... using builtin-java classes where applicable\n",
      "24/08/27 20:58:37 WARN Utils: Service 'SparkUI' could not bind on port 4040. Attempting port 4041.\n"
     ]
    }
   ],
   "metadata": {}
  },
  {
   "cell_type": "code",
   "execution_count": 4,
   "source": [
    "uber_df = spark.read.parquet(\"../data/curated/uber/uber_weather.parquet\")"
   ],
   "outputs": [],
   "metadata": {}
  },
  {
   "cell_type": "code",
   "execution_count": 5,
   "source": [
    "uber_df.printSchema()"
   ],
   "outputs": [
    {
     "output_type": "stream",
     "name": "stdout",
     "text": [
      "root\n",
      " |-- dispatching_base_num: string (nullable = true)\n",
      " |-- request_datetime: timestamp_ntz (nullable = true)\n",
      " |-- on_scene_datetime: timestamp_ntz (nullable = true)\n",
      " |-- pickup_datetime: timestamp_ntz (nullable = true)\n",
      " |-- dropoff_datetime: timestamp_ntz (nullable = true)\n",
      " |-- PULocationID: integer (nullable = true)\n",
      " |-- DOLocationID: integer (nullable = true)\n",
      " |-- trip_distance: double (nullable = true)\n",
      " |-- trip_time: double (nullable = true)\n",
      " |-- base_passenger_fare: double (nullable = true)\n",
      " |-- tolls: double (nullable = true)\n",
      " |-- bcf: double (nullable = true)\n",
      " |-- sales_tax: double (nullable = true)\n",
      " |-- congestion_surcharge: double (nullable = true)\n",
      " |-- airport_fee: double (nullable = true)\n",
      " |-- tips: double (nullable = true)\n",
      " |-- driver_pay: double (nullable = true)\n",
      " |-- total_amount: double (nullable = true)\n",
      " |-- waiting_time: double (nullable = true)\n",
      " |-- fare_per_miles: double (nullable = true)\n",
      " |-- temp: double (nullable = true)\n",
      " |-- humidity: double (nullable = true)\n",
      " |-- precip: double (nullable = true)\n",
      "\n"
     ]
    },
    {
     "output_type": "stream",
     "name": "stderr",
     "text": [
      "24/08/27 20:58:50 WARN GarbageCollectionMetrics: To enable non-built-in garbage collector(s) List(G1 Concurrent GC), users should configure it(them) to spark.eventLog.gcMetrics.youngGenerationGarbageCollectors or spark.eventLog.gcMetrics.oldGenerationGarbageCollectors\n"
     ]
    }
   ],
   "metadata": {}
  },
  {
   "cell_type": "code",
   "execution_count": 6,
   "source": [
    "# Choose columns that are not directly related to the fare\n",
    "columns = [\"dispatching_base_num\", \"request_datetime\", \"on_scene_datetime\", \"pickup_datetime\", \"dropoff_datetime\", \"trip_distance\", \"PULocationID\", \"DOLocationID\", \"trip_time\", \"waiting_time\", \"temp\", \"humidity\", \"precip\", \"total_amount\"]\n",
    "uber_df = uber_df.select(columns)\n",
    "uber_df.printSchema()"
   ],
   "outputs": [],
   "metadata": {}
  },
  {
   "cell_type": "code",
   "execution_count": 13,
   "source": [
    "# Split data, train on June-October, test on November\n",
    "train_df = uber_df.filter(col(\"pickup_datetime\") < \"2023-11-01 00:00:00\")\n",
    "test_df = uber_df.filter(~(col(\"pickup_datetime\") < \"2023-11-01 00:00:00\"))"
   ],
   "outputs": [],
   "metadata": {}
  },
  {
   "cell_type": "code",
   "execution_count": 14,
   "source": [
    "# Encoding categorical data\n",
    "for column in [\"dispatching_base_num\", \"PULocationID\", \"DOLocationID\"]:\n",
    "    train_df, model = scripts.feature_engineer.encoder(train_df, column)\n",
    "    test_df = model.transform(test_df).drop(column)"
   ],
   "outputs": [
    {
     "output_type": "stream",
     "name": "stdout",
     "text": [
      "False\n",
      "True\n",
      "True\n"
     ]
    }
   ],
   "metadata": {}
  },
  {
   "cell_type": "markdown",
   "source": [
    "Deal with timestamp data by splitting it into year, month, day, hour and minute"
   ],
   "metadata": {}
  },
  {
   "cell_type": "code",
   "execution_count": 15,
   "source": [
    "# Train data \n",
    "train_df = scripts.feature_engineer.prepare_timestamp_features(train_df, \"request_datetime\")\n",
    "train_df = scripts.feature_engineer.prepare_timestamp_features(train_df, \"on_scene_datetime\")\n",
    "train_df = scripts.feature_engineer.prepare_timestamp_features(train_df, \"pickup_datetime\")\n",
    "train_df = scripts.feature_engineer.prepare_timestamp_features(train_df, \"dropoff_datetime\")"
   ],
   "outputs": [],
   "metadata": {}
  },
  {
   "cell_type": "code",
   "execution_count": 16,
   "source": [
    "# Test data\n",
    "test_df = scripts.feature_engineer.prepare_timestamp_features(test_df, \"request_datetime\")\n",
    "test_df = scripts.feature_engineer.prepare_timestamp_features(test_df, \"on_scene_datetime\")\n",
    "test_df = scripts.feature_engineer.prepare_timestamp_features(test_df, \"pickup_datetime\")\n",
    "test_df = scripts.feature_engineer.prepare_timestamp_features(test_df, \"dropoff_datetime\")"
   ],
   "outputs": [],
   "metadata": {}
  },
  {
   "cell_type": "code",
   "execution_count": 18,
   "source": [
    "# Drop redundant columns from indexing\n",
    "train_df = train_df.drop(\"dispatching_base_num_indexed\")\n",
    "test_df = test_df.drop(\"dispatching_base_num_indexed\")"
   ],
   "outputs": [],
   "metadata": {}
  },
  {
   "cell_type": "code",
   "execution_count": 19,
   "source": [
    "# Create predictors and response\n",
    "response = \"total_amount\"\n",
    "predictors = [i for i in train_df.columns if i != response]"
   ],
   "outputs": [],
   "metadata": {}
  },
  {
   "cell_type": "code",
   "execution_count": 20,
   "source": [
    "predictors"
   ],
   "outputs": [
    {
     "output_type": "execute_result",
     "data": {
      "text/plain": [
       "['trip_distance',\n",
       " 'trip_time',\n",
       " 'waiting_time',\n",
       " 'temp',\n",
       " 'humidity',\n",
       " 'precip',\n",
       " 'dispatching_base_num_encoded',\n",
       " 'PULocationID_encoded',\n",
       " 'DOLocationID_encoded',\n",
       " 'request_datetime_year',\n",
       " 'request_datetime_month',\n",
       " 'request_datetime_day',\n",
       " 'request_datetime_hour',\n",
       " 'request_datetime_minute',\n",
       " 'on_scene_datetime_year',\n",
       " 'on_scene_datetime_month',\n",
       " 'on_scene_datetime_day',\n",
       " 'on_scene_datetime_hour',\n",
       " 'on_scene_datetime_minute',\n",
       " 'pickup_datetime_year',\n",
       " 'pickup_datetime_month',\n",
       " 'pickup_datetime_day',\n",
       " 'pickup_datetime_hour',\n",
       " 'pickup_datetime_minute',\n",
       " 'dropoff_datetime_year',\n",
       " 'dropoff_datetime_month',\n",
       " 'dropoff_datetime_day',\n",
       " 'dropoff_datetime_hour',\n",
       " 'dropoff_datetime_minute']"
      ]
     },
     "metadata": {},
     "execution_count": 20
    }
   ],
   "metadata": {}
  },
  {
   "cell_type": "code",
   "execution_count": 21,
   "source": [
    "# Assemble the predictors into a single vector column\n",
    "assembler = VectorAssembler(inputCols=predictors, outputCol=\"predictors\")\n",
    "output = assembler.transform(train_df)\n",
    "\n",
    "# The final DataFrame should have two columns: predictors and response\n",
    "train_data = output.select(\"predictors\", response)\n",
    "test_data = assembler.transform(test_df).select(\"predictors\", response)"
   ],
   "outputs": [],
   "metadata": {}
  },
  {
   "cell_type": "code",
   "execution_count": null,
   "source": [
    "# Correlation matrix of predictors and response\n",
    "scripts.plot_data.plot_correlation_heatmap(train_df, \n",
    "list(set(train_df.columns) - set(['dispatching_base_num_encoded', 'PULocationID_encoded', 'DOLocationID_encoded'])), \n",
    "\"uber\", \"../plots/uber/correlation/\", \"predictors\")"
   ],
   "outputs": [],
   "metadata": {}
  },
  {
   "cell_type": "code",
   "execution_count": 22,
   "source": [
    "# Initialize the model\n",
    "lr = LinearRegression(featuresCol=\"predictors\", labelCol=response)\n",
    "\n",
    "# Fit the model on the training data\n",
    "lr_model = lr.fit(train_data)"
   ],
   "outputs": [
    {
     "output_type": "stream",
     "name": "stderr",
     "text": [
      "24/08/27 21:06:19 WARN Instrumentation: [e547b7e6] regParam is zero, which might cause numerical instability and overfitting.\n",
      "24/08/27 21:06:22 WARN InstanceBuilder: Failed to load implementation from:dev.ludovic.netlib.blas.JNIBLAS\n",
      "24/08/27 21:06:22 WARN InstanceBuilder: Failed to load implementation from:dev.ludovic.netlib.blas.VectorBLAS\n",
      "24/08/27 21:06:24 WARN InstanceBuilder: Failed to load implementation from:dev.ludovic.netlib.lapack.JNILAPACK\n",
      "24/08/27 21:06:24 WARN Instrumentation: [e547b7e6] Cholesky solver failed due to singular covariance matrix. Retrying with Quasi-Newton solver.\n"
     ]
    }
   ],
   "metadata": {}
  },
  {
   "cell_type": "code",
   "execution_count": 23,
   "source": [
    "# Print the coefficients and intercept for linear regression\n",
    "print(f\"Coefficients: {lr_model.coefficients}\")\n",
    "print(f\"Intercept: {lr_model.intercept}\")\n",
    "\n",
    "# Make predictions on the test data\n",
    "predictions = lr_model.transform(test_data)\n",
    "predictions.select(\"prediction\", \"total_amount\", \"predictors\").show()\n",
    "\n",
    "# Evaluate the model on test data\n",
    "test_results = lr_model.evaluate(test_data)\n",
    "\n",
    "# Print the R^2 and RMSE\n",
    "print(f\"R^2: {test_results.r2}\")\n",
    "print(f\"Root Mean Squared Error (RMSE): {test_results.rootMeanSquaredError}\")"
   ],
   "outputs": [
    {
     "output_type": "stream",
     "name": "stdout",
     "text": [
      "Coefficients: [2.53827021758345,0.590811212860773,0.281631283415102,-0.1159528334572165,-0.008120147203847577,0.20701390544309936,-0.06073527067944083,0.747098093003648,0.5617011928053198,0.4512315383424473,0.3809067717627234,-0.12304051309213442,-1.3569671275717266,-6.9532086864805445,-0.7192770227036087,-3.106204956715981,-1.34161439205203,-4.001376781361955,8.009570377885506,-4.729636234974317,-7.948091163953914,-4.433134413922769,-7.285224430636965,-6.56964580326856,-0.13481196862206302,-10.590764195411046,6.427875330576509,3.915991214651274,-8.94133615932603,-2.1205671559312322,-0.2830552723124882,-1.6434461335742878,4.633066256290501,0.0,0.0,-5.721203105043373,-4.64330444705351,0.40059248333560826,-5.753101973355311,-3.3829542392905334,-2.634644687974419,-2.8688632125208717,-4.495023497325867,-5.627305953817422,-3.2491335538983166,6.198105680900649,7.121277665841321,-2.091294265166873,-4.803269228673642,-4.71858265270569,-1.7457958835496448,-4.312310967467162,-8.58774636415531,-3.5068100376728677,-2.7193153582669924,-2.865004877210268,-4.584007029030693,-0.42096356372961785,0.09394989013182788,-2.060198030059074,-2.634230582186347,-4.69951066648712,-2.563608910982707,-4.881000257555787,-3.3332326646391657,-5.0117790643058475,2.757911568230569,1.5041240803889293,-3.5939054056489526,-0.4803383830512138,-1.5143806255335777,-8.495323658330268,-3.5711767876584295,1.2958321858365012,-1.333972163583394,-2.6649215754939126,5.0701535747478,-5.598569678736148,2.948589393436302,-7.4152118514843055,-3.812445285521567,3.5007772355047204,-0.35436885966656156,2.204215836722029,-6.301244590015926,1.5210568025519968,-4.8840231983865525,0.9880873934505275,-4.365394050285909,-3.624705444247116,-2.0894086057725034,-4.536548847139272,-3.3312510946471527,-3.966870318588654,-2.2632258475274396,-2.3018876267171295,-4.1641690105891564,-7.454251260837138,-0.26506817583643644,2.574398958380506,-1.9795296969154197,5.6011181138304575,-3.3249414999845643,-3.2867376161822923,-2.935845833469276,-3.127032506959337,-3.933745185667479,-2.7240162489454836,-1.6949818943705952,-3.9848600618073107,-3.881091409887837,-4.049114007976895,2.998169810891315,2.0440184630138893,-6.392068642969866,-3.3839856648930446,-3.066104852903282,-5.106054104443554,-3.0475786592029257,-8.89803404632589,4.3283125226269235,6.426172964845789,-2.8979126694303536,4.069043101977747,-2.9870850444415495,-3.487636800503555,9.869584673150362,-4.080678001833512,-2.1565212843723587,-4.072355094054206,-0.4102100627348027,-5.144564427880371,-6.233870217934403,6.481215503299763,-9.581787694390837,-2.798810376663891,0.0,0.0,6.305864431536884,-0.2927084847298471,3.089367444521889,-2.953895456593626,-4.854475067007048,-7.6150238265937045,-1.3453458134548304,1.180678621590342,4.662213994841779,5.234999416510153,-4.635843746335794,-2.5245789044206695,-6.30432254909109,-4.238973571221236,-3.052002387501533,-2.983541488755935,-4.925231423302331,-6.927883745902612,-2.3241617573198114,-4.2758012354987605,6.452452220076995,-4.186531225041777,-3.5743012834042376,-2.855320007449624,-3.334966120087381,-5.555516769757465,-5.247605884913646,-0.32590897018299353,-2.5940893500211417,-4.10423147063825,-4.7578092079455265,-4.089280831476678,1.1348700727611887,12.001616702155978,-7.410802608192499,1.756879306607974,2.407638421102102,4.632236232951727,2.605358720956995,5.78946938641975,-0.7555396935203058,-2.0125671773923184,-4.12074862201007,4.471010236461365,-2.5340412324829518,-2.7046881112039642,-0.2733258468563342,-2.5062102118493295,-3.8370031817987607,-4.430354235880979,-3.009446228266132,-5.461658782593901,-0.7541779026589788,6.190902320897642,-3.550025174426376,-2.606948557084008,9.556226161864942,7.255767379434022,8.624970324437932,5.8286220193203615,-2.3153513989862144,-0.09096853519329644,-3.663254262814341,-3.805826837632841,-4.003705783479465,4.5960954579841395,-3.886625167325225,-4.706499519393772,-3.522448037647799,-5.350634315569549,-6.518960667273998,-4.540770022682795,-3.410495410659952,-2.1095680930042047,-2.8013796392953854,-4.636935806148107,0.21219703841840032,-4.208637623285468,-5.104841638685661,-4.670594212757731,-4.371518041154619,5.00510781187249,-4.735462875863053,-2.5712394319363225,-0.08528600169218624,-0.5647392582638374,-7.326946325042362,-3.816343821868725,-2.9109043383002726,15.365866564413812,-0.5468554558275972,-3.5436415493996614,-4.304673171626405,-1.8849286279534183,0.0,-3.8848865801876555,-3.708997391090668,-2.1374500649460404,-9.806880106154706,-4.944943796187252,-6.250429003382127,-4.564709490397416,-2.6391659613264844,-4.632443837017903,4.87273149259173,-2.938539502722601,6.9017608540353494,-4.338396762936256,-4.757160714083312,-3.8518669492947177,-5.406526118751319,-4.891703981940298,-1.1120719836808641,-6.9509553365274215,-8.19626029913848,-4.311147073039562,-4.4460810742375765,-4.292802398560815,-2.213750341319885,0.9874731511606367,-2.198298380585555,-2.209183372017186,-2.9228257079031277,-1.8156230631457522,3.1138737735775837,8.327384866526401,6.362136130153667,1.0749001646535599,3.6151071269815205,5.359131803137126,-4.2382790843156615,5.1647644430117365,6.468067834100771,2.032984277714866,3.7680814739794912,-7.805192390865527,-4.816759793488981,-3.7734103175879965,-2.902902623389425,-2.486088014019666,-3.521096112814019,6.061370464397815,-1.9691465091918263,-4.45776648561143,4.897037068193371,-4.120314470805111,-3.6606863622362513,-4.144964168610915,9.800898867633904,-6.044339253573658,2.0446513762025407,0.7800146183332787,-0.5355670233881674,-4.4380161199401575,-8.335602109886695,-2.7245577202807163,5.870773542095728,2.0822476114011836,1.660425444983019,0.0,0.0,11.87874599359698,-14.717989612768266,-16.266138382160364,-17.690717215034905,-13.322114158057417,-14.373942710587846,-17.188112861190184,-17.873838839905336,-15.717756618989137,-15.674759204494391,-17.171367301709115,-12.658099285782441,-12.833158266129226,-16.618838106212408,-15.445179244258078,-15.550035192110354,-18.258760351159914,-16.80079415019686,-16.23570017675325,-16.27891227262657,-16.929144653846173,-17.23371598924298,-15.7208530823804,-16.67583084192068,-16.791112471448102,-16.537884944562713,-13.825331326006282,-16.5148065788616,-16.91669501526883,-11.288585960348636,-16.393861153657074,-17.011889939537642,-15.443180327998114,-16.802886866097342,-17.937425192886018,-17.623096044865893,-18.211359735705237,-17.085109032954737,-17.57539513650319,-15.306001298908694,-16.934117344921916,-17.85985969129893,-12.641367080331165,-14.271203185264136,-16.178050290005434,-18.469327580611026,-16.861949909812544,-14.917754448893598,-17.384311002064862,-15.994318207828737,-17.516657760775647,-15.261650975382903,-17.731031441868502,-15.84051702143946,-18.607430547492353,-17.519611816395994,-17.418668805440102,-16.402869924955347,-16.805081204902798,-17.02962915823018,-18.024077438381497,-18.082168530178663,-17.718374513330033,-15.29478925610013,-17.388957594660823,-15.640415003595988,-16.518347163844176,-13.533647931265977,-17.419641736535834,-16.2494700100453,-17.469732995276996,-17.620056858893204,-16.68424334317607,-17.6134372208738,-17.29077754846071,-17.446986741160003,-17.709643584500018,-16.777716774468242,-15.808282403388306,-17.36544191641499,-16.827891262317326,-16.884743838465642,-17.074871903140398,-11.769738829793317,-18.104392572191948,-16.729089139081832,-14.32786638440084,-12.675378388160368,-17.477964423959747,-14.361586578398272,-17.365908635461707,-16.71085647642309,-15.335492611892679,-17.139853356604554,-15.756493040018167,-17.863123442520273,-17.70693950203981,-16.664367796121333,-12.884080358698732,-13.077674411390095,-16.876961060721246,-17.33307756293312,0.0,0.0,-21.127023548905687,-16.737576308872256,-15.00834124950803,-17.424769746382896,-12.505473563965092,-13.612676928350437,-17.43257114829722,-17.025476500849624,-14.224281261006508,-14.231441306498269,-14.940896348957802,-18.14865979495107,-15.99124937787805,-14.21613092100113,-17.614657221110168,-17.788797348799058,-16.402674290622464,-16.233466799816245,-16.066468084411156,-16.07360287745235,-13.107948300759318,-17.05666682483541,-17.32865201895572,-16.575043146884965,-16.677851076989096,-15.416381449621936,-15.392388220613684,-10.519234252591813,-17.336202690447443,-16.23043437350772,-16.539430246685,-16.945761716819742,-16.410548643202915,-1.4834527660945798,-15.44270511263993,-14.845106192977786,-14.425298453624482,-13.276811733938603,-14.809471937401579,-13.705113000167211,-16.429648592380644,-16.978749130998928,-17.225179135933196,-15.331221533231519,-15.951881332841365,-16.805645278525304,-16.807157811996074,-17.80795920296558,-16.53278920145529,-17.921615555167325,-17.150815953227596,-15.684614070636234,-16.80640604039313,-13.517894454838244,-16.89358546513626,-16.36799152790547,-11.0884450143254,-12.166833978824167,-10.51334552953038,-13.07832134281666,-16.204581897093767,-16.025849524952214,-17.013878095987966,-17.64522856904669,-17.16211171236843,-14.311474939279265,-16.24282237204064,-13.66128164961497,-16.604374161812412,-16.750122798814022,-16.740522093122124,-12.143120002950925,-18.03261172991202,-15.947915256204924,-17.226514921701085,-16.086456995119537,-16.189603023327976,-17.190304068718078,-17.310345544152014,-17.33336296888803,-16.7229112054921,-13.898236863643833,-15.347486039348802,-17.627948095876427,-16.98828634014189,-17.163603425567374,-15.954270544288901,-16.74297043046562,-17.343079170338896,-9.775804296982457,-17.368007161152633,-16.748486801145894,-15.915154826288504,-17.671197741692556,-16.290319923098632,-14.59202273991373,-13.419104200841591,-16.875505582318137,-15.676510944356329,-12.200074134470626,-15.716818981743758,-15.345768877202607,-17.319935007576746,-16.967648124986987,-14.130514740659079,-16.65390908286404,-12.77835864784391,-17.28322007128964,-17.41518031466264,-13.300130310986853,-16.040311299700655,-15.706034040081196,-18.037616933504374,-16.29173262961278,-16.687806231172228,-15.653120426436853,-15.22438320751133,-17.95726646889251,-16.425506450714973,-17.238687734414647,-18.250041291059674,-17.322194056627847,-17.959330241943206,-17.428594029707025,-14.244909336323891,-11.549974774236595,-12.68040445490444,-17.69762856686805,-14.30440126268802,-13.69884828650259,-17.854865894871917,-12.488538585645358,-11.63985476251563,-14.599177811372682,-13.606587915054936,-16.387376333488593,-16.922571108024226,-16.302563080345756,-17.84449620870722,-17.918018165125414,-13.575900661770195,-13.87714652992641,-17.061777354954536,-17.48119517687033,-14.536089180891125,-16.879482638053705,-13.595844131342886,-15.901577457302388,-15.634484143485427,-17.098689496376014,-16.556570823789304,-17.41986615408572,-15.972207798294287,-17.24889758013896,-16.813250626447406,-16.69809249031264,-12.902509918232868,-14.641072019248536,-14.633798359771523,0.0,0.0,-0.0001613002754591136,7.039541115642142e-05,-0.010793411220183168,0.0003450845135452136,0.0,-0.00016130027538719882,0.0004546672166118936,-0.027067872493623468,0.0012099273425407978,0.0,-0.00016130027559555692,0.0016591605456533242,0.030971348252986208,0.0003329037305328232,0.0,-0.00016130027523523607,0.0031674587479130403,0.011160256969482859,-4.150429982552094e-06]\n",
      "Intercept: 23.243566293824205\n",
      "+------------------+------------------+--------------------+\n",
      "|        prediction|      total_amount|          predictors|\n",
      "+------------------+------------------+--------------------+\n",
      "|11.371684939294685| 9.899999999999999|(583,[0,1,2,3,4,6...|\n",
      "|13.117253426953674|14.169999999999998|(583,[0,1,2,3,4,6...|\n",
      "| 43.94466956859269|31.939999999999998|(583,[0,1,2,3,4,6...|\n",
      "| 23.10997465642544|             20.97|(583,[0,1,2,3,4,6...|\n",
      "|13.421931123172902|             12.91|(583,[0,1,2,3,4,6...|\n",
      "|46.556820940750114|             43.35|(583,[0,1,2,3,4,6...|\n",
      "| 21.12827558066932|             19.99|(583,[0,1,2,3,4,6...|\n",
      "|20.268976389262072|             23.95|(583,[0,1,2,3,4,6...|\n",
      "|33.960615003196146|             44.52|(583,[0,1,2,3,4,6...|\n",
      "|27.936834003992686|35.160000000000004|(583,[0,1,2,3,4,6...|\n",
      "|18.495476078458218|              17.9|(583,[0,1,2,3,4,6...|\n",
      "| 71.73104910325625|62.059999999999995|(583,[0,1,2,3,4,6...|\n",
      "|7.5286288163359885|14.939999999999998|(583,[0,1,2,3,4,6...|\n",
      "| 42.25680879403559|             43.96|(583,[0,1,2,3,4,6...|\n",
      "|17.748655875467147|             19.21|(583,[0,1,2,3,4,6...|\n",
      "|28.572351882514518|             25.98|(583,[0,1,2,3,4,6...|\n",
      "|16.277588353402205|             13.26|(583,[0,1,2,3,4,6...|\n",
      "|  39.0489815106899|             35.42|(583,[0,1,2,3,4,6...|\n",
      "| 37.49337418346427|59.900000000000006|(583,[0,1,2,3,4,6...|\n",
      "|12.598759092273976|              15.9|(583,[0,1,2,3,4,6...|\n",
      "+------------------+------------------+--------------------+\n",
      "only showing top 20 rows\n",
      "\n"
     ]
    },
    {
     "output_type": "stream",
     "name": "stderr",
     "text": []
    },
    {
     "output_type": "stream",
     "name": "stdout",
     "text": [
      "R^2: 0.8455738827791401\n",
      "Root Mean Squared Error (RMSE): 11.388198773554578\n"
     ]
    },
    {
     "output_type": "stream",
     "name": "stderr",
     "text": []
    }
   ],
   "metadata": {}
  }
 ],
 "metadata": {
  "orig_nbformat": 4,
  "language_info": {
   "name": "python",
   "version": "3.11.7",
   "mimetype": "text/x-python",
   "codemirror_mode": {
    "name": "ipython",
    "version": 3
   },
   "pygments_lexer": "ipython3",
   "nbconvert_exporter": "python",
   "file_extension": ".py"
  },
  "kernelspec": {
   "name": "python3",
   "display_name": "Python 3.11.7 64-bit ('base': conda)"
  },
  "interpreter": {
   "hash": "dca0ade3e726a953b501b15e8e990130d2b7799f14cfd9f4271676035ebe5511"
  }
 },
 "nbformat": 4,
 "nbformat_minor": 2
}