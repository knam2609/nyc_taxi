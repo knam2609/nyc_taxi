{
 "cells": [
  {
   "cell_type": "code",
   "execution_count": 1,
   "source": [
    "# Adjust Python path within the notebook\n",
    "import sys\n",
    "project_root = '/Users/thangnguyen/Documents/GitHub/project-1-individual-knam2609'\n",
    "if project_root not in sys.path:\n",
    "    sys.path.insert(0, project_root)\n",
    "\n",
    "import scripts"
   ],
   "outputs": [],
   "metadata": {}
  },
  {
   "cell_type": "code",
   "execution_count": 2,
   "source": [
    "from pyspark.sql import SparkSession\n",
    "\n",
    "# Create a spark session\n",
    "spark = (\n",
    "    SparkSession.builder.appName(\"Project 1\")\n",
    "    .config(\"spark.sql.repl.eagerEval.enabled\", True) \n",
    "    .config(\"spark.sql.parquet.cacheMetadata\", \"true\")\n",
    "    .config(\"spark.sql.session.timeZone\", \"Etc/UTC\")\n",
    "    .getOrCreate()\n",
    ")"
   ],
   "outputs": [
    {
     "output_type": "stream",
     "name": "stderr",
     "text": [
      "24/08/21 19:03:33 WARN Utils: Your hostname, THANGs-MacBook-Air.local resolves to a loopback address: 127.0.0.1; using 100.86.89.69 instead (on interface en0)\n",
      "24/08/21 19:03:33 WARN Utils: Set SPARK_LOCAL_IP if you need to bind to another address\n",
      "Setting default log level to \"WARN\".\n",
      "To adjust logging level use sc.setLogLevel(newLevel). For SparkR, use setLogLevel(newLevel).\n",
      "24/08/21 19:03:33 WARN NativeCodeLoader: Unable to load native-hadoop library for your platform... using builtin-java classes where applicable\n"
     ]
    }
   ],
   "metadata": {}
  },
  {
   "cell_type": "code",
   "execution_count": 3,
   "source": [
    "sdf_hv = spark.read.parquet('../data/raw/high_volume/2023/2023-03.parquet')\n",
    "sdf_hv.show(1, vertical=True, truncate=100)"
   ],
   "outputs": [
    {
     "output_type": "stream",
     "name": "stderr",
     "text": []
    },
    {
     "output_type": "stream",
     "name": "stdout",
     "text": [
      "-RECORD 0-----------------------------------\n",
      " hvfhs_license_num    | HV0003              \n",
      " dispatching_base_num | B03404              \n",
      " originating_base_num | B03404              \n",
      " request_datetime     | 2023-03-01 00:02:05 \n",
      " on_scene_datetime    | 2023-03-01 00:05:26 \n",
      " pickup_datetime      | 2023-03-01 00:05:26 \n",
      " dropoff_datetime     | 2023-03-01 00:11:05 \n",
      " PULocationID         | 114                 \n",
      " DOLocationID         | 79                  \n",
      " trip_miles           | 1.21                \n",
      " trip_time            | 339                 \n",
      " base_passenger_fare  | 7.72                \n",
      " tolls                | 0.0                 \n",
      " bcf                  | 0.23                \n",
      " sales_tax            | 0.69                \n",
      " congestion_surcharge | 2.75                \n",
      " airport_fee          | 0.0                 \n",
      " tips                 | 0.0                 \n",
      " driver_pay           | 5.5                 \n",
      " shared_request_flag  | N                   \n",
      " shared_match_flag    | N                   \n",
      " access_a_ride_flag   |                     \n",
      " wav_request_flag     | N                   \n",
      " wav_match_flag       | N                   \n",
      "only showing top 1 row\n",
      "\n"
     ]
    }
   ],
   "metadata": {}
  },
  {
   "cell_type": "code",
   "execution_count": 4,
   "source": [
    "sdf_yellow = spark.read.parquet('../data/raw/yellow/2023/2023-03.parquet')\n",
    "sdf_yellow.show(1, vertical=True, truncate=100)"
   ],
   "outputs": [
    {
     "output_type": "stream",
     "name": "stdout",
     "text": [
      "-RECORD 0------------------------------------\n",
      " VendorID              | 2                   \n",
      " tpep_pickup_datetime  | 2023-03-01 00:06:43 \n",
      " tpep_dropoff_datetime | 2023-03-01 00:16:43 \n",
      " passenger_count       | 1                   \n",
      " trip_distance         | 0.0                 \n",
      " RatecodeID            | 1                   \n",
      " store_and_fwd_flag    | N                   \n",
      " PULocationID          | 238                 \n",
      " DOLocationID          | 42                  \n",
      " payment_type          | 2                   \n",
      " fare_amount           | 8.6                 \n",
      " extra                 | 1.0                 \n",
      " mta_tax               | 0.5                 \n",
      " tip_amount            | 0.0                 \n",
      " tolls_amount          | 0.0                 \n",
      " improvement_surcharge | 1.0                 \n",
      " total_amount          | 11.1                \n",
      " congestion_surcharge  | 0.0                 \n",
      " Airport_fee           | 0.0                 \n",
      "only showing top 1 row\n",
      "\n"
     ]
    }
   ],
   "metadata": {}
  },
  {
   "cell_type": "code",
   "execution_count": 5,
   "source": [
    "sdf_hv.count()"
   ],
   "outputs": [
    {
     "output_type": "execute_result",
     "data": {
      "text/plain": [
       "20413539"
      ]
     },
     "metadata": {},
     "execution_count": 5
    }
   ],
   "metadata": {}
  },
  {
   "cell_type": "code",
   "execution_count": 6,
   "source": [
    "sdf_yellow.filter(sdf_yellow[\"mta_tax\"] > 0).select([\"payment_type\"]).distinct()"
   ],
   "outputs": [
    {
     "output_type": "execute_result",
     "data": {
      "text/plain": [
       "+------------+\n",
       "|payment_type|\n",
       "+------------+\n",
       "|           0|\n",
       "|           1|\n",
       "|           3|\n",
       "|           2|\n",
       "|           4|\n",
       "+------------+"
      ],
      "text/html": [
       "<table border='1'>\n",
       "<tr><th>payment_type</th></tr>\n",
       "<tr><td>0</td></tr>\n",
       "<tr><td>1</td></tr>\n",
       "<tr><td>3</td></tr>\n",
       "<tr><td>2</td></tr>\n",
       "<tr><td>4</td></tr>\n",
       "</table>\n"
      ]
     },
     "metadata": {},
     "execution_count": 6
    }
   ],
   "metadata": {}
  },
  {
   "cell_type": "code",
   "execution_count": 7,
   "source": [
    "sdf_yellow.select(\"mta_tax\").distinct()"
   ],
   "outputs": [
    {
     "output_type": "execute_result",
     "data": {
      "text/plain": [
       "+-------+\n",
       "|mta_tax|\n",
       "+-------+\n",
       "|    0.0|\n",
       "|    3.5|\n",
       "|    0.8|\n",
       "|    4.0|\n",
       "|    0.5|\n",
       "|    3.0|\n",
       "|   -0.5|\n",
       "+-------+"
      ],
      "text/html": [
       "<table border='1'>\n",
       "<tr><th>mta_tax</th></tr>\n",
       "<tr><td>0.0</td></tr>\n",
       "<tr><td>3.5</td></tr>\n",
       "<tr><td>0.8</td></tr>\n",
       "<tr><td>4.0</td></tr>\n",
       "<tr><td>0.5</td></tr>\n",
       "<tr><td>3.0</td></tr>\n",
       "<tr><td>-0.5</td></tr>\n",
       "</table>\n"
      ]
     },
     "metadata": {},
     "execution_count": 7
    }
   ],
   "metadata": {}
  },
  {
   "cell_type": "code",
   "execution_count": 8,
   "source": [
    "sdf_yellow.count()"
   ],
   "outputs": [
    {
     "output_type": "execute_result",
     "data": {
      "text/plain": [
       "3403766"
      ]
     },
     "metadata": {},
     "execution_count": 8
    }
   ],
   "metadata": {}
  },
  {
   "cell_type": "code",
   "execution_count": 9,
   "source": [
    "sdf_yellow.printSchema()"
   ],
   "outputs": [
    {
     "output_type": "stream",
     "name": "stdout",
     "text": [
      "root\n",
      " |-- VendorID: integer (nullable = true)\n",
      " |-- tpep_pickup_datetime: timestamp_ntz (nullable = true)\n",
      " |-- tpep_dropoff_datetime: timestamp_ntz (nullable = true)\n",
      " |-- passenger_count: long (nullable = true)\n",
      " |-- trip_distance: double (nullable = true)\n",
      " |-- RatecodeID: long (nullable = true)\n",
      " |-- store_and_fwd_flag: string (nullable = true)\n",
      " |-- PULocationID: integer (nullable = true)\n",
      " |-- DOLocationID: integer (nullable = true)\n",
      " |-- payment_type: long (nullable = true)\n",
      " |-- fare_amount: double (nullable = true)\n",
      " |-- extra: double (nullable = true)\n",
      " |-- mta_tax: double (nullable = true)\n",
      " |-- tip_amount: double (nullable = true)\n",
      " |-- tolls_amount: double (nullable = true)\n",
      " |-- improvement_surcharge: double (nullable = true)\n",
      " |-- total_amount: double (nullable = true)\n",
      " |-- congestion_surcharge: double (nullable = true)\n",
      " |-- Airport_fee: double (nullable = true)\n",
      "\n"
     ]
    }
   ],
   "metadata": {}
  },
  {
   "cell_type": "code",
   "execution_count": 10,
   "source": [
    "sdf_hv.printSchema()"
   ],
   "outputs": [
    {
     "output_type": "stream",
     "name": "stdout",
     "text": [
      "root\n",
      " |-- hvfhs_license_num: string (nullable = true)\n",
      " |-- dispatching_base_num: string (nullable = true)\n",
      " |-- originating_base_num: string (nullable = true)\n",
      " |-- request_datetime: timestamp_ntz (nullable = true)\n",
      " |-- on_scene_datetime: timestamp_ntz (nullable = true)\n",
      " |-- pickup_datetime: timestamp_ntz (nullable = true)\n",
      " |-- dropoff_datetime: timestamp_ntz (nullable = true)\n",
      " |-- PULocationID: integer (nullable = true)\n",
      " |-- DOLocationID: integer (nullable = true)\n",
      " |-- trip_miles: double (nullable = true)\n",
      " |-- trip_time: long (nullable = true)\n",
      " |-- base_passenger_fare: double (nullable = true)\n",
      " |-- tolls: double (nullable = true)\n",
      " |-- bcf: double (nullable = true)\n",
      " |-- sales_tax: double (nullable = true)\n",
      " |-- congestion_surcharge: double (nullable = true)\n",
      " |-- airport_fee: double (nullable = true)\n",
      " |-- tips: double (nullable = true)\n",
      " |-- driver_pay: double (nullable = true)\n",
      " |-- shared_request_flag: string (nullable = true)\n",
      " |-- shared_match_flag: string (nullable = true)\n",
      " |-- access_a_ride_flag: string (nullable = true)\n",
      " |-- wav_request_flag: string (nullable = true)\n",
      " |-- wav_match_flag: string (nullable = true)\n",
      "\n"
     ]
    }
   ],
   "metadata": {}
  },
  {
   "cell_type": "code",
   "execution_count": 11,
   "source": [
    "from pyspark.sql.functions import col, count, when\n",
    "\n",
    "# Check for actual nulls and empty strings\n",
    "null_or_empty = sdf_hv.select([\n",
    "    count(when(col(c).isNull(), c)).alias(c) for c in sdf_hv.columns\n",
    "])\n",
    "\n",
    "null_or_empty\n"
   ],
   "outputs": [
    {
     "output_type": "stream",
     "name": "stderr",
     "text": [
      "24/08/21 19:03:46 WARN GarbageCollectionMetrics: To enable non-built-in garbage collector(s) List(G1 Concurrent GC), users should configure it(them) to spark.eventLog.gcMetrics.youngGenerationGarbageCollectors or spark.eventLog.gcMetrics.oldGenerationGarbageCollectors\n"
     ]
    },
    {
     "output_type": "execute_result",
     "data": {
      "text/plain": [
       "+-----------------+--------------------+--------------------+----------------+-----------------+---------------+----------------+------------+------------+----------+---------+-------------------+-----+---+---------+--------------------+-----------+----+----------+-------------------+-----------------+------------------+----------------+--------------+\n",
       "|hvfhs_license_num|dispatching_base_num|originating_base_num|request_datetime|on_scene_datetime|pickup_datetime|dropoff_datetime|PULocationID|DOLocationID|trip_miles|trip_time|base_passenger_fare|tolls|bcf|sales_tax|congestion_surcharge|airport_fee|tips|driver_pay|shared_request_flag|shared_match_flag|access_a_ride_flag|wav_request_flag|wav_match_flag|\n",
       "+-----------------+--------------------+--------------------+----------------+-----------------+---------------+----------------+------------+------------+----------+---------+-------------------+-----+---+---------+--------------------+-----------+----+----------+-------------------+-----------------+------------------+----------------+--------------+\n",
       "|                0|                   0|             5851726|               0|          5851726|              0|               0|           0|           0|         0|        0|                  0|    0|  0|        0|                   0|          0|   0|         0|                  0|                0|                 0|               0|             0|\n",
       "+-----------------+--------------------+--------------------+----------------+-----------------+---------------+----------------+------------+------------+----------+---------+-------------------+-----+---+---------+--------------------+-----------+----+----------+-------------------+-----------------+------------------+----------------+--------------+"
      ],
      "text/html": [
       "<table border='1'>\n",
       "<tr><th>hvfhs_license_num</th><th>dispatching_base_num</th><th>originating_base_num</th><th>request_datetime</th><th>on_scene_datetime</th><th>pickup_datetime</th><th>dropoff_datetime</th><th>PULocationID</th><th>DOLocationID</th><th>trip_miles</th><th>trip_time</th><th>base_passenger_fare</th><th>tolls</th><th>bcf</th><th>sales_tax</th><th>congestion_surcharge</th><th>airport_fee</th><th>tips</th><th>driver_pay</th><th>shared_request_flag</th><th>shared_match_flag</th><th>access_a_ride_flag</th><th>wav_request_flag</th><th>wav_match_flag</th></tr>\n",
       "<tr><td>0</td><td>0</td><td>5851726</td><td>0</td><td>5851726</td><td>0</td><td>0</td><td>0</td><td>0</td><td>0</td><td>0</td><td>0</td><td>0</td><td>0</td><td>0</td><td>0</td><td>0</td><td>0</td><td>0</td><td>0</td><td>0</td><td>0</td><td>0</td><td>0</td></tr>\n",
       "</table>\n"
      ]
     },
     "metadata": {},
     "execution_count": 11
    }
   ],
   "metadata": {}
  },
  {
   "cell_type": "code",
   "execution_count": 12,
   "source": [
    "from pyspark.sql.functions import col, count, when\n",
    "\n",
    "# Check for actual nulls and empty strings\n",
    "null_or_empty = sdf_yellow.select([\n",
    "    count(when(col(c).isNull(), c)).alias(c) for c in sdf_yellow.columns\n",
    "])\n",
    "\n",
    "null_or_empty\n"
   ],
   "outputs": [
    {
     "output_type": "execute_result",
     "data": {
      "text/plain": [
       "+--------+--------------------+---------------------+---------------+-------------+----------+------------------+------------+------------+------------+-----------+-----+-------+----------+------------+---------------------+------------+--------------------+-----------+\n",
       "|VendorID|tpep_pickup_datetime|tpep_dropoff_datetime|passenger_count|trip_distance|RatecodeID|store_and_fwd_flag|PULocationID|DOLocationID|payment_type|fare_amount|extra|mta_tax|tip_amount|tolls_amount|improvement_surcharge|total_amount|congestion_surcharge|Airport_fee|\n",
       "+--------+--------------------+---------------------+---------------+-------------+----------+------------------+------------+------------+------------+-----------+-----+-------+----------+------------+---------------------+------------+--------------------+-----------+\n",
       "|       0|                   0|                    0|          87619|            0|     87619|             87619|           0|           0|           0|          0|    0|      0|         0|           0|                    0|           0|               87619|      87619|\n",
       "+--------+--------------------+---------------------+---------------+-------------+----------+------------------+------------+------------+------------+-----------+-----+-------+----------+------------+---------------------+------------+--------------------+-----------+"
      ],
      "text/html": [
       "<table border='1'>\n",
       "<tr><th>VendorID</th><th>tpep_pickup_datetime</th><th>tpep_dropoff_datetime</th><th>passenger_count</th><th>trip_distance</th><th>RatecodeID</th><th>store_and_fwd_flag</th><th>PULocationID</th><th>DOLocationID</th><th>payment_type</th><th>fare_amount</th><th>extra</th><th>mta_tax</th><th>tip_amount</th><th>tolls_amount</th><th>improvement_surcharge</th><th>total_amount</th><th>congestion_surcharge</th><th>Airport_fee</th></tr>\n",
       "<tr><td>0</td><td>0</td><td>0</td><td>87619</td><td>0</td><td>87619</td><td>87619</td><td>0</td><td>0</td><td>0</td><td>0</td><td>0</td><td>0</td><td>0</td><td>0</td><td>0</td><td>0</td><td>87619</td><td>87619</td></tr>\n",
       "</table>\n"
      ]
     },
     "metadata": {},
     "execution_count": 12
    }
   ],
   "metadata": {}
  },
  {
   "cell_type": "code",
   "execution_count": 13,
   "source": [
    "unique_values_df = sdf_hv.select(\"access_a_ride_flag\").distinct()\n",
    "unique_values_df "
   ],
   "outputs": [
    {
     "output_type": "stream",
     "name": "stderr",
     "text": []
    },
    {
     "output_type": "execute_result",
     "data": {
      "text/plain": [
       "+------------------+\n",
       "|access_a_ride_flag|\n",
       "+------------------+\n",
       "|                 N|\n",
       "|                  |\n",
       "+------------------+"
      ],
      "text/html": [
       "<table border='1'>\n",
       "<tr><th>access_a_ride_flag</th></tr>\n",
       "<tr><td>N</td></tr>\n",
       "<tr><td> </td></tr>\n",
       "</table>\n"
      ]
     },
     "metadata": {},
     "execution_count": 13
    }
   ],
   "metadata": {}
  },
  {
   "cell_type": "code",
   "execution_count": 14,
   "source": [
    "sdf_hv.filter(sdf_hv[\"wav_request_flag\"] == 'Y').select(\"originating_base_num\").distinct()"
   ],
   "outputs": [
    {
     "output_type": "execute_result",
     "data": {
      "text/plain": [
       "+--------------------+\n",
       "|originating_base_num|\n",
       "+--------------------+\n",
       "|              B00887|\n",
       "|              B03404|\n",
       "|              B02026|\n",
       "|              B03153|\n",
       "|              B03406|\n",
       "+--------------------+"
      ],
      "text/html": [
       "<table border='1'>\n",
       "<tr><th>originating_base_num</th></tr>\n",
       "<tr><td>B00887</td></tr>\n",
       "<tr><td>B03404</td></tr>\n",
       "<tr><td>B02026</td></tr>\n",
       "<tr><td>B03153</td></tr>\n",
       "<tr><td>B03406</td></tr>\n",
       "</table>\n"
      ]
     },
     "metadata": {},
     "execution_count": 14
    }
   ],
   "metadata": {}
  },
  {
   "cell_type": "code",
   "execution_count": 15,
   "source": [
    "type(spark)"
   ],
   "outputs": [
    {
     "output_type": "execute_result",
     "data": {
      "text/plain": [
       "pyspark.sql.session.SparkSession"
      ]
     },
     "metadata": {},
     "execution_count": 15
    }
   ],
   "metadata": {}
  },
  {
   "cell_type": "code",
   "execution_count": 16,
   "source": [
    "# Drop rows where all columns are null\n",
    "sdf_hv = sdf_hv.na.drop()"
   ],
   "outputs": [],
   "metadata": {}
  },
  {
   "cell_type": "code",
   "execution_count": 17,
   "source": [
    "sdf_hv.count()"
   ],
   "outputs": [
    {
     "output_type": "stream",
     "name": "stderr",
     "text": []
    },
    {
     "output_type": "execute_result",
     "data": {
      "text/plain": [
       "14561813"
      ]
     },
     "metadata": {},
     "execution_count": 17
    }
   ],
   "metadata": {}
  },
  {
   "cell_type": "code",
   "execution_count": 18,
   "source": [
    "from pyspark.sql.types import TimestampNTZType\n",
    "from datetime import datetime\n",
    "\n",
    "#start_time = datetime.strptime(\"2023-03-01 00:00:00\", \"%Y-%m-%d %H:%M:%S\")\n",
    "#end_time = datetime.strptime(\"2023-03-31 23:59:59\", \"%Y-%m-%d %H:%M:%S\")\n",
    "#print(type(start_time))\n",
    "\n",
    "start_time = \"2023-03-01 00:00:00\"\n",
    "end_time = \"2023-03-31 23:00:00\"\n",
    "\n",
    "# Find all datetime columns\n",
    "datetime_columns = [f.name for f in sdf_hv.schema.fields if isinstance(f.dataType, TimestampNTZType)]\n",
    "df = sdf_hv\n",
    "# Filter out the date range for each datetime column using correct function\n",
    "for column in datetime_columns:\n",
    "    print(column)\n",
    "    df = df.filter(~col(column).between(start_time, end_time))\n",
    "    print(f\"Filtered data for column {column}:\")\n",
    "\n",
    "df"
   ],
   "outputs": [
    {
     "output_type": "stream",
     "name": "stdout",
     "text": [
      "request_datetime\n",
      "Filtered data for column request_datetime:\n",
      "on_scene_datetime\n",
      "Filtered data for column on_scene_datetime:\n",
      "pickup_datetime\n",
      "Filtered data for column pickup_datetime:\n",
      "dropoff_datetime\n",
      "Filtered data for column dropoff_datetime:\n"
     ]
    },
    {
     "output_type": "stream",
     "name": "stderr",
     "text": []
    },
    {
     "output_type": "execute_result",
     "data": {
      "text/plain": [
       "+-----------------+--------------------+--------------------+-------------------+-------------------+-------------------+-------------------+------------+------------+----------+---------+-------------------+-----+----+---------+--------------------+-----------+-----+----------+-------------------+-----------------+------------------+----------------+--------------+\n",
       "|hvfhs_license_num|dispatching_base_num|originating_base_num|   request_datetime|  on_scene_datetime|    pickup_datetime|   dropoff_datetime|PULocationID|DOLocationID|trip_miles|trip_time|base_passenger_fare|tolls| bcf|sales_tax|congestion_surcharge|airport_fee| tips|driver_pay|shared_request_flag|shared_match_flag|access_a_ride_flag|wav_request_flag|wav_match_flag|\n",
       "+-----------------+--------------------+--------------------+-------------------+-------------------+-------------------+-------------------+------------+------------+----------+---------+-------------------+-----+----+---------+--------------------+-----------+-----+----------+-------------------+-----------------+------------------+----------------+--------------+\n",
       "|           HV0003|              B03404|              B03404|2023-03-31 23:07:35|2023-03-31 23:08:18|2023-03-31 23:09:53|2023-03-31 23:22:50|           4|         170|      2.29|      777|               15.4|  0.0|0.46|     1.37|                2.75|        0.0|  0.0|     14.32|                  N|                N|                  |               N|             N|\n",
       "|           HV0003|              B03404|              B03404|2023-03-31 23:22:37|2023-03-31 23:25:05|2023-03-31 23:27:06|2023-03-31 23:42:13|         170|         249|      2.18|      907|              18.67|  0.0|0.56|     1.66|                2.75|        0.0|  0.0|      15.4|                  N|                N|                  |               N|             N|\n",
       "|           HV0003|              B03404|              B03404|2023-03-31 23:39:03|2023-03-31 23:45:30|2023-03-31 23:45:42|2023-03-31 23:55:43|         114|         170|      2.17|      601|              14.75|  0.0|0.44|     1.31|                2.75|        0.0|  0.0|     12.51|                  N|                N|                  |               N|             N|\n",
       "|           HV0003|              B03404|              B03404|2023-03-31 23:55:57|2023-03-31 23:57:26|2023-03-31 23:58:05|2023-04-01 00:33:17|         162|         265|     16.85|     2112|              50.03|  0.0| 1.5|     4.44|                2.75|        0.0| 5.87|     49.13|                  N|                N|                  |               N|             N|\n",
       "|           HV0003|              B03404|              B03404|2023-03-31 23:03:44|2023-03-31 23:14:08|2023-03-31 23:15:00|2023-03-31 23:38:30|         148|          17|      4.12|     1410|              41.72|  0.0|1.25|      3.7|                2.75|        0.0|  0.0|      28.5|                  N|                N|                  |               N|             N|\n",
       "|           HV0003|              B03404|              B03404|2023-03-31 23:42:29|2023-03-31 23:45:20|2023-03-31 23:50:20|2023-04-01 00:12:34|          17|          79|      4.97|     1334|              56.43|  0.0|1.69|     5.01|                2.75|        0.0|  0.0|     43.05|                  N|                N|                  |               N|             N|\n",
       "|           HV0003|              B03404|              B03404|2023-03-31 23:38:12|2023-03-31 23:41:44|2023-03-31 23:43:18|2023-03-31 23:53:47|          76|         222|      2.47|      629|              12.46|  0.0|0.37|     1.11|                 0.0|        0.0|  0.0|      9.16|                  N|                N|                  |               N|             N|\n",
       "|           HV0003|              B03404|              B03404|2023-03-31 23:15:22|2023-03-31 23:16:38|2023-03-31 23:18:37|2023-03-31 23:29:44|          50|         158|      1.75|      667|               12.4|  0.0|0.37|      1.1|                2.75|        0.0|  0.0|      8.56|                  N|                N|                  |               N|             N|\n",
       "|           HV0003|              B03404|              B03404|2023-03-31 23:27:36|2023-03-31 23:32:03|2023-03-31 23:32:03|2023-04-01 00:18:50|         158|         254|     15.61|     2807|              51.69|  0.0|1.55|     4.59|                2.75|        0.0|  0.0|     46.89|                  N|                N|                  |               N|             N|\n",
       "|           HV0003|              B03404|              B03404|2023-03-31 23:37:26|2023-03-31 23:43:43|2023-03-31 23:44:28|2023-04-01 00:12:20|         138|         142|      9.68|     1672|              44.82|  0.0|1.34|     3.98|                2.75|        0.0|  0.0|     30.09|                  N|                N|                  |               N|             N|\n",
       "|           HV0003|              B03404|              B03404|2023-03-31 23:11:52|2023-03-31 23:16:25|2023-03-31 23:18:37|2023-04-01 00:06:20|         114|         188|      8.94|     2863|               70.3|  0.0|2.11|     6.24|                2.75|        0.0|  0.0|     38.86|                  N|                N|                  |               N|             N|\n",
       "|           HV0003|              B03404|              B03404|2023-03-31 23:46:08|2023-03-31 23:51:42|2023-03-31 23:53:06|2023-04-01 00:34:10|         132|         230|      17.5|     2464|              60.21| 6.55|2.08|     6.15|                2.75|        2.5|14.58|     46.16|                  N|                N|                  |               N|             N|\n",
       "|           HV0003|              B03404|              B03404|2023-03-31 23:45:36|2023-03-31 23:49:54|2023-03-31 23:50:47|2023-04-01 00:04:26|          92|           7|      5.82|      819|              21.44|  0.0|0.64|      1.9|                 0.0|        0.0|  0.0|     15.35|                  N|                N|                  |               N|             N|\n",
       "|           HV0003|              B03404|              B03404|2023-03-31 23:51:34|2023-03-31 23:54:06|2023-03-31 23:54:12|2023-04-01 00:17:51|         239|         209|      8.41|     1419|               33.2|  0.0| 1.0|     2.95|                2.75|        0.0|  0.0|     27.99|                  N|                N|                  |               N|             N|\n",
       "|           HV0003|              B03404|              B03404|2023-03-31 23:16:44|2023-03-31 23:19:33|2023-03-31 23:19:50|2023-03-31 23:27:37|         249|         164|      1.82|      467|              11.76|  0.0|0.35|     1.04|                2.75|        0.0|  0.0|      16.2|                  N|                N|                  |               N|             N|\n",
       "|           HV0003|              B03404|              B03404|2023-03-31 23:27:35|2023-03-31 23:27:48|2023-03-31 23:28:28|2023-03-31 23:46:24|         164|          74|      4.87|     1076|               27.0|  0.0|0.81|      2.4|                2.75|        0.0| 4.94|     23.93|                  N|                N|                  |               N|             N|\n",
       "|           HV0003|              B03404|              B03404|2023-03-31 23:46:25|2023-03-31 23:49:37|2023-03-31 23:50:05|2023-04-01 00:15:05|          74|          25|     13.46|     1500|               36.0| 6.55|1.28|     3.78|                 0.0|        0.0|  0.0|     39.21|                  N|                N|                  |               N|             N|\n",
       "|           HV0003|              B03404|              B03404|2023-03-31 23:13:47|2023-03-31 23:14:18|2023-03-31 23:16:16|2023-03-31 23:24:43|         212|         208|      3.08|      507|              15.13|  0.0|0.45|     1.34|                 0.0|        0.0|  0.0|      8.82|                  N|                N|                  |               N|             N|\n",
       "|           HV0003|              B03404|              B03404|2023-03-31 23:31:07|2023-03-31 23:32:22|2023-03-31 23:32:30|2023-03-31 23:44:59|         208|          78|      4.17|      749|              12.18|  0.0|0.37|     1.08|                 0.0|        0.0|  0.0|     12.52|                  N|                N|                  |               N|             N|\n",
       "|           HV0003|              B03404|              B03404|2023-03-31 23:46:54|2023-03-31 23:49:34|2023-03-31 23:51:47|2023-04-01 00:07:32|          60|         127|      5.43|      945|              22.23|  0.0|0.67|     1.97|                 0.0|        0.0|  0.0|     16.02|                  N|                N|                  |               N|             N|\n",
       "+-----------------+--------------------+--------------------+-------------------+-------------------+-------------------+-------------------+------------+------------+----------+---------+-------------------+-----+----+---------+--------------------+-----------+-----+----------+-------------------+-----------------+------------------+----------------+--------------+\n",
       "only showing top 20 rows"
      ],
      "text/html": [
       "<table border='1'>\n",
       "<tr><th>hvfhs_license_num</th><th>dispatching_base_num</th><th>originating_base_num</th><th>request_datetime</th><th>on_scene_datetime</th><th>pickup_datetime</th><th>dropoff_datetime</th><th>PULocationID</th><th>DOLocationID</th><th>trip_miles</th><th>trip_time</th><th>base_passenger_fare</th><th>tolls</th><th>bcf</th><th>sales_tax</th><th>congestion_surcharge</th><th>airport_fee</th><th>tips</th><th>driver_pay</th><th>shared_request_flag</th><th>shared_match_flag</th><th>access_a_ride_flag</th><th>wav_request_flag</th><th>wav_match_flag</th></tr>\n",
       "<tr><td>HV0003</td><td>B03404</td><td>B03404</td><td>2023-03-31 23:07:35</td><td>2023-03-31 23:08:18</td><td>2023-03-31 23:09:53</td><td>2023-03-31 23:22:50</td><td>4</td><td>170</td><td>2.29</td><td>777</td><td>15.4</td><td>0.0</td><td>0.46</td><td>1.37</td><td>2.75</td><td>0.0</td><td>0.0</td><td>14.32</td><td>N</td><td>N</td><td> </td><td>N</td><td>N</td></tr>\n",
       "<tr><td>HV0003</td><td>B03404</td><td>B03404</td><td>2023-03-31 23:22:37</td><td>2023-03-31 23:25:05</td><td>2023-03-31 23:27:06</td><td>2023-03-31 23:42:13</td><td>170</td><td>249</td><td>2.18</td><td>907</td><td>18.67</td><td>0.0</td><td>0.56</td><td>1.66</td><td>2.75</td><td>0.0</td><td>0.0</td><td>15.4</td><td>N</td><td>N</td><td> </td><td>N</td><td>N</td></tr>\n",
       "<tr><td>HV0003</td><td>B03404</td><td>B03404</td><td>2023-03-31 23:39:03</td><td>2023-03-31 23:45:30</td><td>2023-03-31 23:45:42</td><td>2023-03-31 23:55:43</td><td>114</td><td>170</td><td>2.17</td><td>601</td><td>14.75</td><td>0.0</td><td>0.44</td><td>1.31</td><td>2.75</td><td>0.0</td><td>0.0</td><td>12.51</td><td>N</td><td>N</td><td> </td><td>N</td><td>N</td></tr>\n",
       "<tr><td>HV0003</td><td>B03404</td><td>B03404</td><td>2023-03-31 23:55:57</td><td>2023-03-31 23:57:26</td><td>2023-03-31 23:58:05</td><td>2023-04-01 00:33:17</td><td>162</td><td>265</td><td>16.85</td><td>2112</td><td>50.03</td><td>0.0</td><td>1.5</td><td>4.44</td><td>2.75</td><td>0.0</td><td>5.87</td><td>49.13</td><td>N</td><td>N</td><td> </td><td>N</td><td>N</td></tr>\n",
       "<tr><td>HV0003</td><td>B03404</td><td>B03404</td><td>2023-03-31 23:03:44</td><td>2023-03-31 23:14:08</td><td>2023-03-31 23:15:00</td><td>2023-03-31 23:38:30</td><td>148</td><td>17</td><td>4.12</td><td>1410</td><td>41.72</td><td>0.0</td><td>1.25</td><td>3.7</td><td>2.75</td><td>0.0</td><td>0.0</td><td>28.5</td><td>N</td><td>N</td><td> </td><td>N</td><td>N</td></tr>\n",
       "<tr><td>HV0003</td><td>B03404</td><td>B03404</td><td>2023-03-31 23:42:29</td><td>2023-03-31 23:45:20</td><td>2023-03-31 23:50:20</td><td>2023-04-01 00:12:34</td><td>17</td><td>79</td><td>4.97</td><td>1334</td><td>56.43</td><td>0.0</td><td>1.69</td><td>5.01</td><td>2.75</td><td>0.0</td><td>0.0</td><td>43.05</td><td>N</td><td>N</td><td> </td><td>N</td><td>N</td></tr>\n",
       "<tr><td>HV0003</td><td>B03404</td><td>B03404</td><td>2023-03-31 23:38:12</td><td>2023-03-31 23:41:44</td><td>2023-03-31 23:43:18</td><td>2023-03-31 23:53:47</td><td>76</td><td>222</td><td>2.47</td><td>629</td><td>12.46</td><td>0.0</td><td>0.37</td><td>1.11</td><td>0.0</td><td>0.0</td><td>0.0</td><td>9.16</td><td>N</td><td>N</td><td> </td><td>N</td><td>N</td></tr>\n",
       "<tr><td>HV0003</td><td>B03404</td><td>B03404</td><td>2023-03-31 23:15:22</td><td>2023-03-31 23:16:38</td><td>2023-03-31 23:18:37</td><td>2023-03-31 23:29:44</td><td>50</td><td>158</td><td>1.75</td><td>667</td><td>12.4</td><td>0.0</td><td>0.37</td><td>1.1</td><td>2.75</td><td>0.0</td><td>0.0</td><td>8.56</td><td>N</td><td>N</td><td> </td><td>N</td><td>N</td></tr>\n",
       "<tr><td>HV0003</td><td>B03404</td><td>B03404</td><td>2023-03-31 23:27:36</td><td>2023-03-31 23:32:03</td><td>2023-03-31 23:32:03</td><td>2023-04-01 00:18:50</td><td>158</td><td>254</td><td>15.61</td><td>2807</td><td>51.69</td><td>0.0</td><td>1.55</td><td>4.59</td><td>2.75</td><td>0.0</td><td>0.0</td><td>46.89</td><td>N</td><td>N</td><td> </td><td>N</td><td>N</td></tr>\n",
       "<tr><td>HV0003</td><td>B03404</td><td>B03404</td><td>2023-03-31 23:37:26</td><td>2023-03-31 23:43:43</td><td>2023-03-31 23:44:28</td><td>2023-04-01 00:12:20</td><td>138</td><td>142</td><td>9.68</td><td>1672</td><td>44.82</td><td>0.0</td><td>1.34</td><td>3.98</td><td>2.75</td><td>0.0</td><td>0.0</td><td>30.09</td><td>N</td><td>N</td><td> </td><td>N</td><td>N</td></tr>\n",
       "<tr><td>HV0003</td><td>B03404</td><td>B03404</td><td>2023-03-31 23:11:52</td><td>2023-03-31 23:16:25</td><td>2023-03-31 23:18:37</td><td>2023-04-01 00:06:20</td><td>114</td><td>188</td><td>8.94</td><td>2863</td><td>70.3</td><td>0.0</td><td>2.11</td><td>6.24</td><td>2.75</td><td>0.0</td><td>0.0</td><td>38.86</td><td>N</td><td>N</td><td> </td><td>N</td><td>N</td></tr>\n",
       "<tr><td>HV0003</td><td>B03404</td><td>B03404</td><td>2023-03-31 23:46:08</td><td>2023-03-31 23:51:42</td><td>2023-03-31 23:53:06</td><td>2023-04-01 00:34:10</td><td>132</td><td>230</td><td>17.5</td><td>2464</td><td>60.21</td><td>6.55</td><td>2.08</td><td>6.15</td><td>2.75</td><td>2.5</td><td>14.58</td><td>46.16</td><td>N</td><td>N</td><td> </td><td>N</td><td>N</td></tr>\n",
       "<tr><td>HV0003</td><td>B03404</td><td>B03404</td><td>2023-03-31 23:45:36</td><td>2023-03-31 23:49:54</td><td>2023-03-31 23:50:47</td><td>2023-04-01 00:04:26</td><td>92</td><td>7</td><td>5.82</td><td>819</td><td>21.44</td><td>0.0</td><td>0.64</td><td>1.9</td><td>0.0</td><td>0.0</td><td>0.0</td><td>15.35</td><td>N</td><td>N</td><td> </td><td>N</td><td>N</td></tr>\n",
       "<tr><td>HV0003</td><td>B03404</td><td>B03404</td><td>2023-03-31 23:51:34</td><td>2023-03-31 23:54:06</td><td>2023-03-31 23:54:12</td><td>2023-04-01 00:17:51</td><td>239</td><td>209</td><td>8.41</td><td>1419</td><td>33.2</td><td>0.0</td><td>1.0</td><td>2.95</td><td>2.75</td><td>0.0</td><td>0.0</td><td>27.99</td><td>N</td><td>N</td><td> </td><td>N</td><td>N</td></tr>\n",
       "<tr><td>HV0003</td><td>B03404</td><td>B03404</td><td>2023-03-31 23:16:44</td><td>2023-03-31 23:19:33</td><td>2023-03-31 23:19:50</td><td>2023-03-31 23:27:37</td><td>249</td><td>164</td><td>1.82</td><td>467</td><td>11.76</td><td>0.0</td><td>0.35</td><td>1.04</td><td>2.75</td><td>0.0</td><td>0.0</td><td>16.2</td><td>N</td><td>N</td><td> </td><td>N</td><td>N</td></tr>\n",
       "<tr><td>HV0003</td><td>B03404</td><td>B03404</td><td>2023-03-31 23:27:35</td><td>2023-03-31 23:27:48</td><td>2023-03-31 23:28:28</td><td>2023-03-31 23:46:24</td><td>164</td><td>74</td><td>4.87</td><td>1076</td><td>27.0</td><td>0.0</td><td>0.81</td><td>2.4</td><td>2.75</td><td>0.0</td><td>4.94</td><td>23.93</td><td>N</td><td>N</td><td> </td><td>N</td><td>N</td></tr>\n",
       "<tr><td>HV0003</td><td>B03404</td><td>B03404</td><td>2023-03-31 23:46:25</td><td>2023-03-31 23:49:37</td><td>2023-03-31 23:50:05</td><td>2023-04-01 00:15:05</td><td>74</td><td>25</td><td>13.46</td><td>1500</td><td>36.0</td><td>6.55</td><td>1.28</td><td>3.78</td><td>0.0</td><td>0.0</td><td>0.0</td><td>39.21</td><td>N</td><td>N</td><td> </td><td>N</td><td>N</td></tr>\n",
       "<tr><td>HV0003</td><td>B03404</td><td>B03404</td><td>2023-03-31 23:13:47</td><td>2023-03-31 23:14:18</td><td>2023-03-31 23:16:16</td><td>2023-03-31 23:24:43</td><td>212</td><td>208</td><td>3.08</td><td>507</td><td>15.13</td><td>0.0</td><td>0.45</td><td>1.34</td><td>0.0</td><td>0.0</td><td>0.0</td><td>8.82</td><td>N</td><td>N</td><td> </td><td>N</td><td>N</td></tr>\n",
       "<tr><td>HV0003</td><td>B03404</td><td>B03404</td><td>2023-03-31 23:31:07</td><td>2023-03-31 23:32:22</td><td>2023-03-31 23:32:30</td><td>2023-03-31 23:44:59</td><td>208</td><td>78</td><td>4.17</td><td>749</td><td>12.18</td><td>0.0</td><td>0.37</td><td>1.08</td><td>0.0</td><td>0.0</td><td>0.0</td><td>12.52</td><td>N</td><td>N</td><td> </td><td>N</td><td>N</td></tr>\n",
       "<tr><td>HV0003</td><td>B03404</td><td>B03404</td><td>2023-03-31 23:46:54</td><td>2023-03-31 23:49:34</td><td>2023-03-31 23:51:47</td><td>2023-04-01 00:07:32</td><td>60</td><td>127</td><td>5.43</td><td>945</td><td>22.23</td><td>0.0</td><td>0.67</td><td>1.97</td><td>0.0</td><td>0.0</td><td>0.0</td><td>16.02</td><td>N</td><td>N</td><td> </td><td>N</td><td>N</td></tr>\n",
       "</table>\n",
       "only showing top 20 rows\n"
      ]
     },
     "metadata": {},
     "execution_count": 18
    }
   ],
   "metadata": {}
  },
  {
   "cell_type": "code",
   "execution_count": 19,
   "source": [
    "time = datetime.strptime(\"2023-03-01 13:03:47.000\", \"%Y-%m-%d %H:%M:%S.%f\")"
   ],
   "outputs": [],
   "metadata": {}
  },
  {
   "cell_type": "code",
   "execution_count": 20,
   "source": [
    "type(time)"
   ],
   "outputs": [
    {
     "output_type": "execute_result",
     "data": {
      "text/plain": [
       "datetime.datetime"
      ]
     },
     "metadata": {},
     "execution_count": 20
    }
   ],
   "metadata": {}
  },
  {
   "cell_type": "code",
   "execution_count": 21,
   "source": [
    "print(datetime_columns)"
   ],
   "outputs": [
    {
     "output_type": "stream",
     "name": "stdout",
     "text": [
      "['request_datetime', 'on_scene_datetime', 'pickup_datetime', 'dropoff_datetime']\n"
     ]
    }
   ],
   "metadata": {}
  },
  {
   "cell_type": "code",
   "execution_count": 22,
   "source": [
    "df.count()"
   ],
   "outputs": [
    {
     "output_type": "stream",
     "name": "stderr",
     "text": []
    },
    {
     "output_type": "execute_result",
     "data": {
      "text/plain": [
       "30162"
      ]
     },
     "metadata": {},
     "execution_count": 22
    }
   ],
   "metadata": {}
  },
  {
   "cell_type": "code",
   "execution_count": 23,
   "source": [
    "taxi_zones = spark.read.csv(\"../data/raw/taxi_zones.csv\", header=True, inferSchema=True)"
   ],
   "outputs": [],
   "metadata": {}
  },
  {
   "cell_type": "code",
   "execution_count": 24,
   "source": [
    "taxi_zones"
   ],
   "outputs": [
    {
     "output_type": "execute_result",
     "data": {
      "text/plain": [
       "+----------+-------------+--------------------+------------+\n",
       "|LocationID|      Borough|                Zone|service_zone|\n",
       "+----------+-------------+--------------------+------------+\n",
       "|         1|          EWR|      Newark Airport|         EWR|\n",
       "|         2|       Queens|         Jamaica Bay|   Boro Zone|\n",
       "|         3|        Bronx|Allerton/Pelham G...|   Boro Zone|\n",
       "|         4|    Manhattan|       Alphabet City| Yellow Zone|\n",
       "|         5|Staten Island|       Arden Heights|   Boro Zone|\n",
       "|         6|Staten Island|Arrochar/Fort Wad...|   Boro Zone|\n",
       "|         7|       Queens|             Astoria|   Boro Zone|\n",
       "|         8|       Queens|        Astoria Park|   Boro Zone|\n",
       "|         9|       Queens|          Auburndale|   Boro Zone|\n",
       "|        10|       Queens|        Baisley Park|   Boro Zone|\n",
       "|        11|     Brooklyn|          Bath Beach|   Boro Zone|\n",
       "|        12|    Manhattan|        Battery Park| Yellow Zone|\n",
       "|        13|    Manhattan|   Battery Park City| Yellow Zone|\n",
       "|        14|     Brooklyn|           Bay Ridge|   Boro Zone|\n",
       "|        15|       Queens|Bay Terrace/Fort ...|   Boro Zone|\n",
       "|        16|       Queens|             Bayside|   Boro Zone|\n",
       "|        17|     Brooklyn|             Bedford|   Boro Zone|\n",
       "|        18|        Bronx|        Bedford Park|   Boro Zone|\n",
       "|        19|       Queens|           Bellerose|   Boro Zone|\n",
       "|        20|        Bronx|             Belmont|   Boro Zone|\n",
       "+----------+-------------+--------------------+------------+\n",
       "only showing top 20 rows"
      ],
      "text/html": [
       "<table border='1'>\n",
       "<tr><th>LocationID</th><th>Borough</th><th>Zone</th><th>service_zone</th></tr>\n",
       "<tr><td>1</td><td>EWR</td><td>Newark Airport</td><td>EWR</td></tr>\n",
       "<tr><td>2</td><td>Queens</td><td>Jamaica Bay</td><td>Boro Zone</td></tr>\n",
       "<tr><td>3</td><td>Bronx</td><td>Allerton/Pelham G...</td><td>Boro Zone</td></tr>\n",
       "<tr><td>4</td><td>Manhattan</td><td>Alphabet City</td><td>Yellow Zone</td></tr>\n",
       "<tr><td>5</td><td>Staten Island</td><td>Arden Heights</td><td>Boro Zone</td></tr>\n",
       "<tr><td>6</td><td>Staten Island</td><td>Arrochar/Fort Wad...</td><td>Boro Zone</td></tr>\n",
       "<tr><td>7</td><td>Queens</td><td>Astoria</td><td>Boro Zone</td></tr>\n",
       "<tr><td>8</td><td>Queens</td><td>Astoria Park</td><td>Boro Zone</td></tr>\n",
       "<tr><td>9</td><td>Queens</td><td>Auburndale</td><td>Boro Zone</td></tr>\n",
       "<tr><td>10</td><td>Queens</td><td>Baisley Park</td><td>Boro Zone</td></tr>\n",
       "<tr><td>11</td><td>Brooklyn</td><td>Bath Beach</td><td>Boro Zone</td></tr>\n",
       "<tr><td>12</td><td>Manhattan</td><td>Battery Park</td><td>Yellow Zone</td></tr>\n",
       "<tr><td>13</td><td>Manhattan</td><td>Battery Park City</td><td>Yellow Zone</td></tr>\n",
       "<tr><td>14</td><td>Brooklyn</td><td>Bay Ridge</td><td>Boro Zone</td></tr>\n",
       "<tr><td>15</td><td>Queens</td><td>Bay Terrace/Fort ...</td><td>Boro Zone</td></tr>\n",
       "<tr><td>16</td><td>Queens</td><td>Bayside</td><td>Boro Zone</td></tr>\n",
       "<tr><td>17</td><td>Brooklyn</td><td>Bedford</td><td>Boro Zone</td></tr>\n",
       "<tr><td>18</td><td>Bronx</td><td>Bedford Park</td><td>Boro Zone</td></tr>\n",
       "<tr><td>19</td><td>Queens</td><td>Bellerose</td><td>Boro Zone</td></tr>\n",
       "<tr><td>20</td><td>Bronx</td><td>Belmont</td><td>Boro Zone</td></tr>\n",
       "</table>\n",
       "only showing top 20 rows\n"
      ]
     },
     "metadata": {},
     "execution_count": 24
    }
   ],
   "metadata": {}
  },
  {
   "cell_type": "code",
   "execution_count": 25,
   "source": [
    "yellow_taxi_zones = taxi_zones.filter(taxi_zones[\"service_zone\"]== \"Yellow Zone\")\n",
    "yellow_zones_ID = set([row['LocationID'] for row in yellow_taxi_zones.select(\"LocationID\").distinct().collect()])"
   ],
   "outputs": [],
   "metadata": {}
  },
  {
   "cell_type": "code",
   "execution_count": 26,
   "source": [
    "138 in yellow_zones_ID"
   ],
   "outputs": [
    {
     "output_type": "execute_result",
     "data": {
      "text/plain": [
       "False"
      ]
     },
     "metadata": {},
     "execution_count": 26
    }
   ],
   "metadata": {}
  },
  {
   "cell_type": "code",
   "execution_count": 27,
   "source": [
    "sdf_yellow.filter(~(sdf_yellow[\"PUlocationID\"].isin(yellow_zones_ID)))"
   ],
   "outputs": [
    {
     "output_type": "execute_result",
     "data": {
      "text/plain": [
       "+--------+--------------------+---------------------+---------------+-------------+----------+------------------+------------+------------+------------+-----------+-----+-------+----------+------------+---------------------+------------+--------------------+-----------+\n",
       "|VendorID|tpep_pickup_datetime|tpep_dropoff_datetime|passenger_count|trip_distance|RatecodeID|store_and_fwd_flag|PULocationID|DOLocationID|payment_type|fare_amount|extra|mta_tax|tip_amount|tolls_amount|improvement_surcharge|total_amount|congestion_surcharge|Airport_fee|\n",
       "+--------+--------------------+---------------------+---------------+-------------+----------+------------------+------------+------------+------------+-----------+-----+-------+----------+------------+---------------------+------------+--------------------+-----------+\n",
       "|       2| 2023-03-01 00:08:25|  2023-03-01 00:39:30|              2|         12.4|         1|                 N|         138|         231|           1|       52.7|  6.0|    0.5|     12.54|         0.0|                  1.0|       76.49|                 2.5|       1.25|\n",
       "|       2| 2023-03-01 00:29:18|  2023-03-01 01:06:01|              2|        21.03|         2|                 N|         132|         239|           1|       70.0|  0.0|    0.5|      12.0|        6.55|                  1.0|        93.8|                 2.5|       1.25|\n",
       "|       1| 2023-03-01 00:50:37|  2023-03-01 01:04:46|              1|          6.4|         1|                 N|         132|         258|           1|       26.8| 2.25|    0.5|       6.1|         0.0|                  1.0|       36.65|                 0.0|       1.25|\n",
       "|       2| 2023-03-01 00:25:51|  2023-03-01 00:55:03|              1|          9.5|         1|                 N|         138|          10|           1|       42.2|  6.0|    0.5|     50.95|         0.0|                  1.0|       101.9|                 0.0|       1.25|\n",
       "|       2| 2023-03-01 00:19:08|  2023-03-01 00:36:39|              1|         9.39|         1|                 N|         138|         230|           1|       37.3|  6.0|    0.5|     13.78|        6.55|                  1.0|       68.88|                 2.5|       1.25|\n",
       "|       2| 2023-03-01 00:14:55|  2023-03-01 00:50:55|              1|        19.68|         2|                 N|         132|         158|           1|       70.0|  0.0|    0.5|     16.36|        6.55|                  1.0|       98.16|                 2.5|       1.25|\n",
       "|       1| 2023-03-01 00:29:34|  2023-03-01 01:10:50|              1|          6.5|        99|                 N|          76|         262|           1|       53.5|  0.0|    0.5|       0.0|         0.0|                  1.0|        55.0|                 0.0|        0.0|\n",
       "|       2| 2023-03-01 00:30:58|  2023-03-01 01:03:39|              1|        19.35|         2|                 N|         132|         152|           1|       70.0|  0.0|    0.5|      11.9|        6.55|                  1.0|        91.2|                 0.0|       1.25|\n",
       "|       1| 2023-03-01 00:54:35|  2023-03-01 01:26:09|              1|         21.3|         2|                 N|         132|          87|           1|       70.0| 3.75|    0.5|     15.05|         0.0|                  1.0|        90.3|                 2.5|       1.25|\n",
       "|       1| 2023-03-01 00:02:15|  2023-03-01 00:33:46|              1|          9.8|         1|                 N|         138|          61|           1|       45.0| 7.25|    0.5|     10.75|         0.0|                  1.0|        64.5|                 0.0|       1.25|\n",
       "|       1| 2023-03-01 00:33:03|  2023-03-01 00:52:41|              1|         11.2|         1|                 N|         132|          72|           1|       43.6| 2.25|    0.5|      9.45|         0.0|                  1.0|        56.8|                 0.0|       1.25|\n",
       "|       2| 2023-03-01 00:10:42|  2023-03-01 00:23:14|              1|         2.05|         1|                 N|          31|         254|           2|       12.8|  1.0|    0.5|       0.0|         0.0|                  1.0|        15.3|                 0.0|        0.0|\n",
       "|       2| 2023-03-01 00:46:20|  2023-03-01 00:57:15|              1|         5.24|         1|                 N|         132|         216|           1|       21.9|  1.0|    0.5|      4.88|         0.0|                  1.0|       30.53|                 0.0|       1.25|\n",
       "|       1| 2023-03-01 00:41:34|  2023-03-01 01:17:05|              1|         25.2|         4|                 N|         132|         265|           1|      108.7| 2.25|    0.5|      29.7|        6.55|                  1.0|       148.7|                 0.0|       1.25|\n",
       "|       1| 2023-03-01 00:40:02|  2023-03-01 00:48:36|              0|          4.1|         1|                 N|         132|         216|           2|       17.7| 2.25|    0.5|       0.0|         0.0|                  1.0|       21.45|                 0.0|       1.25|\n",
       "|       2| 2023-03-01 00:20:11|  2023-03-01 00:52:06|              1|        22.38|         1|                 N|         132|         265|           2|       82.1|  1.0|    0.5|       0.0|         0.0|                  1.0|       85.85|                 0.0|       1.25|\n",
       "|       1| 2023-03-01 00:33:30|  2023-03-01 00:43:34|              1|          3.9|         1|                 N|         138|           7|           1|       17.7| 7.25|    0.5|       5.0|         0.0|                  1.0|       31.45|                 0.0|       1.25|\n",
       "|       2| 2023-03-01 00:12:06|  2023-03-01 00:30:43|              1|         3.62|         1|                 N|         166|          48|           1|       20.5|  1.0|    0.5|       3.0|         0.0|                  1.0|        28.5|                 2.5|        0.0|\n",
       "|       1| 2023-03-01 00:48:41|  2023-03-01 01:10:21|              1|         18.8|         1|                 N|         132|          33|           1|       68.8| 2.25|    0.5|     14.51|         0.0|                  1.0|       87.06|                 0.0|       1.25|\n",
       "|       2| 2023-03-01 00:16:09|  2023-03-01 00:33:49|              1|         8.99|         1|                 N|         138|         244|           1|       35.9|  6.0|    0.5|      9.99|        6.55|                  1.0|       61.19|                 0.0|       1.25|\n",
       "+--------+--------------------+---------------------+---------------+-------------+----------+------------------+------------+------------+------------+-----------+-----+-------+----------+------------+---------------------+------------+--------------------+-----------+\n",
       "only showing top 20 rows"
      ],
      "text/html": [
       "<table border='1'>\n",
       "<tr><th>VendorID</th><th>tpep_pickup_datetime</th><th>tpep_dropoff_datetime</th><th>passenger_count</th><th>trip_distance</th><th>RatecodeID</th><th>store_and_fwd_flag</th><th>PULocationID</th><th>DOLocationID</th><th>payment_type</th><th>fare_amount</th><th>extra</th><th>mta_tax</th><th>tip_amount</th><th>tolls_amount</th><th>improvement_surcharge</th><th>total_amount</th><th>congestion_surcharge</th><th>Airport_fee</th></tr>\n",
       "<tr><td>2</td><td>2023-03-01 00:08:25</td><td>2023-03-01 00:39:30</td><td>2</td><td>12.4</td><td>1</td><td>N</td><td>138</td><td>231</td><td>1</td><td>52.7</td><td>6.0</td><td>0.5</td><td>12.54</td><td>0.0</td><td>1.0</td><td>76.49</td><td>2.5</td><td>1.25</td></tr>\n",
       "<tr><td>2</td><td>2023-03-01 00:29:18</td><td>2023-03-01 01:06:01</td><td>2</td><td>21.03</td><td>2</td><td>N</td><td>132</td><td>239</td><td>1</td><td>70.0</td><td>0.0</td><td>0.5</td><td>12.0</td><td>6.55</td><td>1.0</td><td>93.8</td><td>2.5</td><td>1.25</td></tr>\n",
       "<tr><td>1</td><td>2023-03-01 00:50:37</td><td>2023-03-01 01:04:46</td><td>1</td><td>6.4</td><td>1</td><td>N</td><td>132</td><td>258</td><td>1</td><td>26.8</td><td>2.25</td><td>0.5</td><td>6.1</td><td>0.0</td><td>1.0</td><td>36.65</td><td>0.0</td><td>1.25</td></tr>\n",
       "<tr><td>2</td><td>2023-03-01 00:25:51</td><td>2023-03-01 00:55:03</td><td>1</td><td>9.5</td><td>1</td><td>N</td><td>138</td><td>10</td><td>1</td><td>42.2</td><td>6.0</td><td>0.5</td><td>50.95</td><td>0.0</td><td>1.0</td><td>101.9</td><td>0.0</td><td>1.25</td></tr>\n",
       "<tr><td>2</td><td>2023-03-01 00:19:08</td><td>2023-03-01 00:36:39</td><td>1</td><td>9.39</td><td>1</td><td>N</td><td>138</td><td>230</td><td>1</td><td>37.3</td><td>6.0</td><td>0.5</td><td>13.78</td><td>6.55</td><td>1.0</td><td>68.88</td><td>2.5</td><td>1.25</td></tr>\n",
       "<tr><td>2</td><td>2023-03-01 00:14:55</td><td>2023-03-01 00:50:55</td><td>1</td><td>19.68</td><td>2</td><td>N</td><td>132</td><td>158</td><td>1</td><td>70.0</td><td>0.0</td><td>0.5</td><td>16.36</td><td>6.55</td><td>1.0</td><td>98.16</td><td>2.5</td><td>1.25</td></tr>\n",
       "<tr><td>1</td><td>2023-03-01 00:29:34</td><td>2023-03-01 01:10:50</td><td>1</td><td>6.5</td><td>99</td><td>N</td><td>76</td><td>262</td><td>1</td><td>53.5</td><td>0.0</td><td>0.5</td><td>0.0</td><td>0.0</td><td>1.0</td><td>55.0</td><td>0.0</td><td>0.0</td></tr>\n",
       "<tr><td>2</td><td>2023-03-01 00:30:58</td><td>2023-03-01 01:03:39</td><td>1</td><td>19.35</td><td>2</td><td>N</td><td>132</td><td>152</td><td>1</td><td>70.0</td><td>0.0</td><td>0.5</td><td>11.9</td><td>6.55</td><td>1.0</td><td>91.2</td><td>0.0</td><td>1.25</td></tr>\n",
       "<tr><td>1</td><td>2023-03-01 00:54:35</td><td>2023-03-01 01:26:09</td><td>1</td><td>21.3</td><td>2</td><td>N</td><td>132</td><td>87</td><td>1</td><td>70.0</td><td>3.75</td><td>0.5</td><td>15.05</td><td>0.0</td><td>1.0</td><td>90.3</td><td>2.5</td><td>1.25</td></tr>\n",
       "<tr><td>1</td><td>2023-03-01 00:02:15</td><td>2023-03-01 00:33:46</td><td>1</td><td>9.8</td><td>1</td><td>N</td><td>138</td><td>61</td><td>1</td><td>45.0</td><td>7.25</td><td>0.5</td><td>10.75</td><td>0.0</td><td>1.0</td><td>64.5</td><td>0.0</td><td>1.25</td></tr>\n",
       "<tr><td>1</td><td>2023-03-01 00:33:03</td><td>2023-03-01 00:52:41</td><td>1</td><td>11.2</td><td>1</td><td>N</td><td>132</td><td>72</td><td>1</td><td>43.6</td><td>2.25</td><td>0.5</td><td>9.45</td><td>0.0</td><td>1.0</td><td>56.8</td><td>0.0</td><td>1.25</td></tr>\n",
       "<tr><td>2</td><td>2023-03-01 00:10:42</td><td>2023-03-01 00:23:14</td><td>1</td><td>2.05</td><td>1</td><td>N</td><td>31</td><td>254</td><td>2</td><td>12.8</td><td>1.0</td><td>0.5</td><td>0.0</td><td>0.0</td><td>1.0</td><td>15.3</td><td>0.0</td><td>0.0</td></tr>\n",
       "<tr><td>2</td><td>2023-03-01 00:46:20</td><td>2023-03-01 00:57:15</td><td>1</td><td>5.24</td><td>1</td><td>N</td><td>132</td><td>216</td><td>1</td><td>21.9</td><td>1.0</td><td>0.5</td><td>4.88</td><td>0.0</td><td>1.0</td><td>30.53</td><td>0.0</td><td>1.25</td></tr>\n",
       "<tr><td>1</td><td>2023-03-01 00:41:34</td><td>2023-03-01 01:17:05</td><td>1</td><td>25.2</td><td>4</td><td>N</td><td>132</td><td>265</td><td>1</td><td>108.7</td><td>2.25</td><td>0.5</td><td>29.7</td><td>6.55</td><td>1.0</td><td>148.7</td><td>0.0</td><td>1.25</td></tr>\n",
       "<tr><td>1</td><td>2023-03-01 00:40:02</td><td>2023-03-01 00:48:36</td><td>0</td><td>4.1</td><td>1</td><td>N</td><td>132</td><td>216</td><td>2</td><td>17.7</td><td>2.25</td><td>0.5</td><td>0.0</td><td>0.0</td><td>1.0</td><td>21.45</td><td>0.0</td><td>1.25</td></tr>\n",
       "<tr><td>2</td><td>2023-03-01 00:20:11</td><td>2023-03-01 00:52:06</td><td>1</td><td>22.38</td><td>1</td><td>N</td><td>132</td><td>265</td><td>2</td><td>82.1</td><td>1.0</td><td>0.5</td><td>0.0</td><td>0.0</td><td>1.0</td><td>85.85</td><td>0.0</td><td>1.25</td></tr>\n",
       "<tr><td>1</td><td>2023-03-01 00:33:30</td><td>2023-03-01 00:43:34</td><td>1</td><td>3.9</td><td>1</td><td>N</td><td>138</td><td>7</td><td>1</td><td>17.7</td><td>7.25</td><td>0.5</td><td>5.0</td><td>0.0</td><td>1.0</td><td>31.45</td><td>0.0</td><td>1.25</td></tr>\n",
       "<tr><td>2</td><td>2023-03-01 00:12:06</td><td>2023-03-01 00:30:43</td><td>1</td><td>3.62</td><td>1</td><td>N</td><td>166</td><td>48</td><td>1</td><td>20.5</td><td>1.0</td><td>0.5</td><td>3.0</td><td>0.0</td><td>1.0</td><td>28.5</td><td>2.5</td><td>0.0</td></tr>\n",
       "<tr><td>1</td><td>2023-03-01 00:48:41</td><td>2023-03-01 01:10:21</td><td>1</td><td>18.8</td><td>1</td><td>N</td><td>132</td><td>33</td><td>1</td><td>68.8</td><td>2.25</td><td>0.5</td><td>14.51</td><td>0.0</td><td>1.0</td><td>87.06</td><td>0.0</td><td>1.25</td></tr>\n",
       "<tr><td>2</td><td>2023-03-01 00:16:09</td><td>2023-03-01 00:33:49</td><td>1</td><td>8.99</td><td>1</td><td>N</td><td>138</td><td>244</td><td>1</td><td>35.9</td><td>6.0</td><td>0.5</td><td>9.99</td><td>6.55</td><td>1.0</td><td>61.19</td><td>0.0</td><td>1.25</td></tr>\n",
       "</table>\n",
       "only showing top 20 rows\n"
      ]
     },
     "metadata": {},
     "execution_count": 27
    }
   ],
   "metadata": {}
  },
  {
   "cell_type": "code",
   "execution_count": null,
   "source": [
    "sdf_yellow.count()"
   ],
   "outputs": [],
   "metadata": {}
  },
  {
   "cell_type": "code",
   "execution_count": null,
   "source": [
    "import os\n",
    "os.path.basename(\"../data/raw/yellow/2023/2023-03.parquet\")"
   ],
   "outputs": [],
   "metadata": {}
  },
  {
   "cell_type": "code",
   "execution_count": null,
   "source": [
    "directory_path = \"../data/raw/yellow/2023\"\n",
    "[os.path.join(directory_path, f) for f in os.listdir(directory_path) if os.path.isfile(os.path.join(directory_path, f))]\n"
   ],
   "outputs": [],
   "metadata": {}
  },
  {
   "cell_type": "code",
   "execution_count": 29,
   "source": [
    "test_df = scripts.clean_yellow.clean_directory_data(\"../data/raw/yellow/2023\", \"\", taxi_zones)"
   ],
   "outputs": [
    {
     "output_type": "stream",
     "name": "stderr",
     "text": [
      "24/08/21 19:05:00 WARN SparkSession: Using an existing Spark session; only runtime SQL configurations will take effect.\n"
     ]
    },
    {
     "output_type": "error",
     "ename": "NotADirectoryError",
     "evalue": "[Errno 20] Not a directory: '../data/raw/yellow/2023/2023-03.parquet'",
     "traceback": [
      "\u001b[0;31m---------------------------------------------------------------------------\u001b[0m",
      "\u001b[0;31mNotADirectoryError\u001b[0m                        Traceback (most recent call last)",
      "Cell \u001b[0;32mIn[29], line 1\u001b[0m\n\u001b[0;32m----> 1\u001b[0m test_df \u001b[38;5;241m=\u001b[39m scripts\u001b[38;5;241m.\u001b[39mclean_yellow\u001b[38;5;241m.\u001b[39mclean_directory_data(\u001b[38;5;124m\"\u001b[39m\u001b[38;5;124m../data/raw/yellow/2023/2023-03.parquet\u001b[39m\u001b[38;5;124m\"\u001b[39m, \u001b[38;5;124m\"\u001b[39m\u001b[38;5;124m\"\u001b[39m, taxi_zones)\n",
      "File \u001b[0;32m~/Documents/GitHub/project-1-individual-knam2609/scripts/clean_yellow.py:30\u001b[0m, in \u001b[0;36mclean_directory_data\u001b[0;34m(input_directory, output_directory, taxi_zones, file_format)\u001b[0m\n\u001b[1;32m     28\u001b[0m \u001b[38;5;250m\u001b[39m\u001b[38;5;124;03m\"\"\"Cleans all data files within a directory and writes them to an output directory.\"\"\"\u001b[39;00m\n\u001b[1;32m     29\u001b[0m spark \u001b[38;5;241m=\u001b[39m clean_base\u001b[38;5;241m.\u001b[39mcreate_spark_session()\n\u001b[0;32m---> 30\u001b[0m files \u001b[38;5;241m=\u001b[39m clean_base\u001b[38;5;241m.\u001b[39mlist_files_in_directory(input_directory)\n\u001b[1;32m     31\u001b[0m \u001b[38;5;28;01mfor\u001b[39;00m file \u001b[38;5;129;01min\u001b[39;00m files:\n\u001b[1;32m     32\u001b[0m     df \u001b[38;5;241m=\u001b[39m clean_base\u001b[38;5;241m.\u001b[39mread_data(spark, file, file_format)\n",
      "File \u001b[0;32m~/Documents/GitHub/project-1-individual-knam2609/scripts/clean_base.py:49\u001b[0m, in \u001b[0;36mlist_files_in_directory\u001b[0;34m(directory_path)\u001b[0m\n\u001b[1;32m     47\u001b[0m \u001b[38;5;28;01mdef\u001b[39;00m \u001b[38;5;21mlist_files_in_directory\u001b[39m(directory_path: \u001b[38;5;28mstr\u001b[39m):\n\u001b[1;32m     48\u001b[0m \u001b[38;5;250m    \u001b[39m\u001b[38;5;124;03m\"\"\"Lists all files in a directory.\"\"\"\u001b[39;00m\n\u001b[0;32m---> 49\u001b[0m     \u001b[38;5;28;01mreturn\u001b[39;00m [os\u001b[38;5;241m.\u001b[39mpath\u001b[38;5;241m.\u001b[39mjoin(directory_path, f) \u001b[38;5;28;01mfor\u001b[39;00m f \u001b[38;5;129;01min\u001b[39;00m os\u001b[38;5;241m.\u001b[39mlistdir(directory_path) \u001b[38;5;28;01mif\u001b[39;00m os\u001b[38;5;241m.\u001b[39mpath\u001b[38;5;241m.\u001b[39misfile(os\u001b[38;5;241m.\u001b[39mpath\u001b[38;5;241m.\u001b[39mjoin(directory_path, f))]\n",
      "\u001b[0;31mNotADirectoryError\u001b[0m: [Errno 20] Not a directory: '../data/raw/yellow/2023/2023-03.parquet'"
     ]
    }
   ],
   "metadata": {}
  }
 ],
 "metadata": {
  "orig_nbformat": 4,
  "language_info": {
   "name": "python",
   "version": "3.11.7",
   "mimetype": "text/x-python",
   "codemirror_mode": {
    "name": "ipython",
    "version": 3
   },
   "pygments_lexer": "ipython3",
   "nbconvert_exporter": "python",
   "file_extension": ".py"
  },
  "kernelspec": {
   "name": "python3",
   "display_name": "Python 3.11.7 64-bit ('base': conda)"
  },
  "interpreter": {
   "hash": "dca0ade3e726a953b501b15e8e990130d2b7799f14cfd9f4271676035ebe5511"
  }
 },
 "nbformat": 4,
 "nbformat_minor": 2
}